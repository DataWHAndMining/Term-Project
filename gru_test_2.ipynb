{
  "nbformat": 4,
  "nbformat_minor": 0,
  "metadata": {
    "colab": {
      "provenance": []
    },
    "kernelspec": {
      "name": "python3",
      "display_name": "Python 3"
    },
    "language_info": {
      "name": "python"
    }
  },
  "cells": [
    {
      "cell_type": "code",
      "source": [
        "from google.colab import drive\n",
        "drive.mount('/content/drive')"
      ],
      "metadata": {
        "id": "o8Rm0HQT-V4C",
        "colab": {
          "base_uri": "https://localhost:8080/"
        },
        "outputId": "b99d82b4-ffd8-4f11-e216-1b2dd9939ddf"
      },
      "execution_count": 52,
      "outputs": [
        {
          "output_type": "stream",
          "name": "stdout",
          "text": [
            "Drive already mounted at /content/drive; to attempt to forcibly remount, call drive.mount(\"/content/drive\", force_remount=True).\n"
          ]
        }
      ]
    },
    {
      "cell_type": "code",
      "execution_count": 54,
      "metadata": {
        "id": "8sMF2L238RMp"
      },
      "outputs": [],
      "source": [
        "import torch.nn as nn\n",
        "import torch\n",
        "import pandas as pd\n",
        "import numpy as np\n",
        "import matplotlib.pyplot as plt\n",
        "from torchtext.data.utils import get_tokenizer\n",
        "from torch.utils.data import Dataset, DataLoader\n",
        "import re\n",
        "import nltk\n",
        "from nltk.corpus import stopwords\n",
        "from nltk.stem import SnowballStemmer\n",
        "\n",
        "from sklearn.model_selection import train_test_split"
      ]
    },
    {
      "cell_type": "code",
      "source": [
        "data_df1 = pd.read_csv(r\"/content/drive/MyDrive/Twitter_senti/reddit_twitter/Reddit_Data.csv\",header=None)\n",
        "data_df1 = data_df1.drop(data_df1.index[0]).reset_index(drop=True)\n",
        "data_df2 = pd.read_csv(r\"/content/drive/MyDrive/Twitter_senti/reddit_twitter/Twitter_Data.csv\",header=None)\n",
        "data_df2 = data_df2.drop(data_df2.index[0]).reset_index(drop=True)\n",
        "data_df = pd.concat([data_df1, data_df2], ignore_index=True)\n",
        "columns = list(data_df.columns)\n",
        "columns[0], columns[1] = columns[1], columns[0]\n",
        "data_df = data_df[columns]"
      ],
      "metadata": {
        "id": "-5ZDkeZD-hwe"
      },
      "execution_count": 55,
      "outputs": []
    },
    {
      "cell_type": "code",
      "source": [
        "data_df.head()"
      ],
      "metadata": {
        "colab": {
          "base_uri": "https://localhost:8080/",
          "height": 206
        },
        "id": "EijyFQ76QUF_",
        "outputId": "b0381372-fcf9-4ba8-c679-3cbf5dedf0f9"
      },
      "execution_count": 56,
      "outputs": [
        {
          "output_type": "execute_result",
          "data": {
            "text/plain": [
              "    1                                                  0\n",
              "0   1   family mormon have never tried explain them t...\n",
              "1   1  buddhism has very much lot compatible with chr...\n",
              "2  -1  seriously don say thing first all they won get...\n",
              "3   0  what you have learned yours and only yours wha...\n",
              "4   1  for your own benefit you may want read living ..."
            ],
            "text/html": [
              "\n",
              "  <div id=\"df-526d5aba-44b7-4dae-a773-b3bd421f0cad\" class=\"colab-df-container\">\n",
              "    <div>\n",
              "<style scoped>\n",
              "    .dataframe tbody tr th:only-of-type {\n",
              "        vertical-align: middle;\n",
              "    }\n",
              "\n",
              "    .dataframe tbody tr th {\n",
              "        vertical-align: top;\n",
              "    }\n",
              "\n",
              "    .dataframe thead th {\n",
              "        text-align: right;\n",
              "    }\n",
              "</style>\n",
              "<table border=\"1\" class=\"dataframe\">\n",
              "  <thead>\n",
              "    <tr style=\"text-align: right;\">\n",
              "      <th></th>\n",
              "      <th>1</th>\n",
              "      <th>0</th>\n",
              "    </tr>\n",
              "  </thead>\n",
              "  <tbody>\n",
              "    <tr>\n",
              "      <th>0</th>\n",
              "      <td>1</td>\n",
              "      <td>family mormon have never tried explain them t...</td>\n",
              "    </tr>\n",
              "    <tr>\n",
              "      <th>1</th>\n",
              "      <td>1</td>\n",
              "      <td>buddhism has very much lot compatible with chr...</td>\n",
              "    </tr>\n",
              "    <tr>\n",
              "      <th>2</th>\n",
              "      <td>-1</td>\n",
              "      <td>seriously don say thing first all they won get...</td>\n",
              "    </tr>\n",
              "    <tr>\n",
              "      <th>3</th>\n",
              "      <td>0</td>\n",
              "      <td>what you have learned yours and only yours wha...</td>\n",
              "    </tr>\n",
              "    <tr>\n",
              "      <th>4</th>\n",
              "      <td>1</td>\n",
              "      <td>for your own benefit you may want read living ...</td>\n",
              "    </tr>\n",
              "  </tbody>\n",
              "</table>\n",
              "</div>\n",
              "    <div class=\"colab-df-buttons\">\n",
              "\n",
              "  <div class=\"colab-df-container\">\n",
              "    <button class=\"colab-df-convert\" onclick=\"convertToInteractive('df-526d5aba-44b7-4dae-a773-b3bd421f0cad')\"\n",
              "            title=\"Convert this dataframe to an interactive table.\"\n",
              "            style=\"display:none;\">\n",
              "\n",
              "  <svg xmlns=\"http://www.w3.org/2000/svg\" height=\"24px\" viewBox=\"0 -960 960 960\">\n",
              "    <path d=\"M120-120v-720h720v720H120Zm60-500h600v-160H180v160Zm220 220h160v-160H400v160Zm0 220h160v-160H400v160ZM180-400h160v-160H180v160Zm440 0h160v-160H620v160ZM180-180h160v-160H180v160Zm440 0h160v-160H620v160Z\"/>\n",
              "  </svg>\n",
              "    </button>\n",
              "\n",
              "  <style>\n",
              "    .colab-df-container {\n",
              "      display:flex;\n",
              "      gap: 12px;\n",
              "    }\n",
              "\n",
              "    .colab-df-convert {\n",
              "      background-color: #E8F0FE;\n",
              "      border: none;\n",
              "      border-radius: 50%;\n",
              "      cursor: pointer;\n",
              "      display: none;\n",
              "      fill: #1967D2;\n",
              "      height: 32px;\n",
              "      padding: 0 0 0 0;\n",
              "      width: 32px;\n",
              "    }\n",
              "\n",
              "    .colab-df-convert:hover {\n",
              "      background-color: #E2EBFA;\n",
              "      box-shadow: 0px 1px 2px rgba(60, 64, 67, 0.3), 0px 1px 3px 1px rgba(60, 64, 67, 0.15);\n",
              "      fill: #174EA6;\n",
              "    }\n",
              "\n",
              "    .colab-df-buttons div {\n",
              "      margin-bottom: 4px;\n",
              "    }\n",
              "\n",
              "    [theme=dark] .colab-df-convert {\n",
              "      background-color: #3B4455;\n",
              "      fill: #D2E3FC;\n",
              "    }\n",
              "\n",
              "    [theme=dark] .colab-df-convert:hover {\n",
              "      background-color: #434B5C;\n",
              "      box-shadow: 0px 1px 3px 1px rgba(0, 0, 0, 0.15);\n",
              "      filter: drop-shadow(0px 1px 2px rgba(0, 0, 0, 0.3));\n",
              "      fill: #FFFFFF;\n",
              "    }\n",
              "  </style>\n",
              "\n",
              "    <script>\n",
              "      const buttonEl =\n",
              "        document.querySelector('#df-526d5aba-44b7-4dae-a773-b3bd421f0cad button.colab-df-convert');\n",
              "      buttonEl.style.display =\n",
              "        google.colab.kernel.accessAllowed ? 'block' : 'none';\n",
              "\n",
              "      async function convertToInteractive(key) {\n",
              "        const element = document.querySelector('#df-526d5aba-44b7-4dae-a773-b3bd421f0cad');\n",
              "        const dataTable =\n",
              "          await google.colab.kernel.invokeFunction('convertToInteractive',\n",
              "                                                    [key], {});\n",
              "        if (!dataTable) return;\n",
              "\n",
              "        const docLinkHtml = 'Like what you see? Visit the ' +\n",
              "          '<a target=\"_blank\" href=https://colab.research.google.com/notebooks/data_table.ipynb>data table notebook</a>'\n",
              "          + ' to learn more about interactive tables.';\n",
              "        element.innerHTML = '';\n",
              "        dataTable['output_type'] = 'display_data';\n",
              "        await google.colab.output.renderOutput(dataTable, element);\n",
              "        const docLink = document.createElement('div');\n",
              "        docLink.innerHTML = docLinkHtml;\n",
              "        element.appendChild(docLink);\n",
              "      }\n",
              "    </script>\n",
              "  </div>\n",
              "\n",
              "\n",
              "<div id=\"df-e25b9cec-3144-4120-9f71-d60d1186c8b6\">\n",
              "  <button class=\"colab-df-quickchart\" onclick=\"quickchart('df-e25b9cec-3144-4120-9f71-d60d1186c8b6')\"\n",
              "            title=\"Suggest charts\"\n",
              "            style=\"display:none;\">\n",
              "\n",
              "<svg xmlns=\"http://www.w3.org/2000/svg\" height=\"24px\"viewBox=\"0 0 24 24\"\n",
              "     width=\"24px\">\n",
              "    <g>\n",
              "        <path d=\"M19 3H5c-1.1 0-2 .9-2 2v14c0 1.1.9 2 2 2h14c1.1 0 2-.9 2-2V5c0-1.1-.9-2-2-2zM9 17H7v-7h2v7zm4 0h-2V7h2v10zm4 0h-2v-4h2v4z\"/>\n",
              "    </g>\n",
              "</svg>\n",
              "  </button>\n",
              "\n",
              "<style>\n",
              "  .colab-df-quickchart {\n",
              "      --bg-color: #E8F0FE;\n",
              "      --fill-color: #1967D2;\n",
              "      --hover-bg-color: #E2EBFA;\n",
              "      --hover-fill-color: #174EA6;\n",
              "      --disabled-fill-color: #AAA;\n",
              "      --disabled-bg-color: #DDD;\n",
              "  }\n",
              "\n",
              "  [theme=dark] .colab-df-quickchart {\n",
              "      --bg-color: #3B4455;\n",
              "      --fill-color: #D2E3FC;\n",
              "      --hover-bg-color: #434B5C;\n",
              "      --hover-fill-color: #FFFFFF;\n",
              "      --disabled-bg-color: #3B4455;\n",
              "      --disabled-fill-color: #666;\n",
              "  }\n",
              "\n",
              "  .colab-df-quickchart {\n",
              "    background-color: var(--bg-color);\n",
              "    border: none;\n",
              "    border-radius: 50%;\n",
              "    cursor: pointer;\n",
              "    display: none;\n",
              "    fill: var(--fill-color);\n",
              "    height: 32px;\n",
              "    padding: 0;\n",
              "    width: 32px;\n",
              "  }\n",
              "\n",
              "  .colab-df-quickchart:hover {\n",
              "    background-color: var(--hover-bg-color);\n",
              "    box-shadow: 0 1px 2px rgba(60, 64, 67, 0.3), 0 1px 3px 1px rgba(60, 64, 67, 0.15);\n",
              "    fill: var(--button-hover-fill-color);\n",
              "  }\n",
              "\n",
              "  .colab-df-quickchart-complete:disabled,\n",
              "  .colab-df-quickchart-complete:disabled:hover {\n",
              "    background-color: var(--disabled-bg-color);\n",
              "    fill: var(--disabled-fill-color);\n",
              "    box-shadow: none;\n",
              "  }\n",
              "\n",
              "  .colab-df-spinner {\n",
              "    border: 2px solid var(--fill-color);\n",
              "    border-color: transparent;\n",
              "    border-bottom-color: var(--fill-color);\n",
              "    animation:\n",
              "      spin 1s steps(1) infinite;\n",
              "  }\n",
              "\n",
              "  @keyframes spin {\n",
              "    0% {\n",
              "      border-color: transparent;\n",
              "      border-bottom-color: var(--fill-color);\n",
              "      border-left-color: var(--fill-color);\n",
              "    }\n",
              "    20% {\n",
              "      border-color: transparent;\n",
              "      border-left-color: var(--fill-color);\n",
              "      border-top-color: var(--fill-color);\n",
              "    }\n",
              "    30% {\n",
              "      border-color: transparent;\n",
              "      border-left-color: var(--fill-color);\n",
              "      border-top-color: var(--fill-color);\n",
              "      border-right-color: var(--fill-color);\n",
              "    }\n",
              "    40% {\n",
              "      border-color: transparent;\n",
              "      border-right-color: var(--fill-color);\n",
              "      border-top-color: var(--fill-color);\n",
              "    }\n",
              "    60% {\n",
              "      border-color: transparent;\n",
              "      border-right-color: var(--fill-color);\n",
              "    }\n",
              "    80% {\n",
              "      border-color: transparent;\n",
              "      border-right-color: var(--fill-color);\n",
              "      border-bottom-color: var(--fill-color);\n",
              "    }\n",
              "    90% {\n",
              "      border-color: transparent;\n",
              "      border-bottom-color: var(--fill-color);\n",
              "    }\n",
              "  }\n",
              "</style>\n",
              "\n",
              "  <script>\n",
              "    async function quickchart(key) {\n",
              "      const quickchartButtonEl =\n",
              "        document.querySelector('#' + key + ' button');\n",
              "      quickchartButtonEl.disabled = true;  // To prevent multiple clicks.\n",
              "      quickchartButtonEl.classList.add('colab-df-spinner');\n",
              "      try {\n",
              "        const charts = await google.colab.kernel.invokeFunction(\n",
              "            'suggestCharts', [key], {});\n",
              "      } catch (error) {\n",
              "        console.error('Error during call to suggestCharts:', error);\n",
              "      }\n",
              "      quickchartButtonEl.classList.remove('colab-df-spinner');\n",
              "      quickchartButtonEl.classList.add('colab-df-quickchart-complete');\n",
              "    }\n",
              "    (() => {\n",
              "      let quickchartButtonEl =\n",
              "        document.querySelector('#df-e25b9cec-3144-4120-9f71-d60d1186c8b6 button');\n",
              "      quickchartButtonEl.style.display =\n",
              "        google.colab.kernel.accessAllowed ? 'block' : 'none';\n",
              "    })();\n",
              "  </script>\n",
              "</div>\n",
              "\n",
              "    </div>\n",
              "  </div>\n"
            ],
            "application/vnd.google.colaboratory.intrinsic+json": {
              "type": "dataframe",
              "variable_name": "data_df"
            }
          },
          "metadata": {},
          "execution_count": 56
        }
      ]
    },
    {
      "cell_type": "code",
      "source": [
        "from sklearn import preprocessing\n",
        "label_encoder = preprocessing.LabelEncoder()"
      ],
      "metadata": {
        "id": "CSlALnpq-sFJ"
      },
      "execution_count": 57,
      "outputs": []
    },
    {
      "cell_type": "code",
      "source": [
        "data_df.dropna(inplace = True)\n",
        "data_df.drop_duplicates(inplace = True)\n",
        "# data_df = data_df.drop(columns=data_df.columns[[0, 1]])\n",
        "new_column_names = ['label', 'text']\n",
        "data_df.columns = new_column_names\n",
        "data_df = data_df.loc[data_df['label'] != 'Irrelevant'].copy()\n",
        "data_df['label'] = label_encoder.fit_transform(data_df['label'])\n",
        "print(len(data_df))"
      ],
      "metadata": {
        "colab": {
          "base_uri": "https://localhost:8080/"
        },
        "id": "l9cbkRZN-4tw",
        "outputId": "7792740e-c10d-4c81-b472-5da5342f9d0d"
      },
      "execution_count": 58,
      "outputs": [
        {
          "output_type": "stream",
          "name": "stdout",
          "text": [
            "199708\n"
          ]
        }
      ]
    },
    {
      "cell_type": "code",
      "source": [
        "data_df.head()"
      ],
      "metadata": {
        "colab": {
          "base_uri": "https://localhost:8080/",
          "height": 206
        },
        "id": "qOVGcdhBPpwH",
        "outputId": "36e52b1f-22c2-4233-9beb-162fc4f781cb"
      },
      "execution_count": 59,
      "outputs": [
        {
          "output_type": "execute_result",
          "data": {
            "text/plain": [
              "   label                                               text\n",
              "0      2   family mormon have never tried explain them t...\n",
              "1      2  buddhism has very much lot compatible with chr...\n",
              "2      0  seriously don say thing first all they won get...\n",
              "3      1  what you have learned yours and only yours wha...\n",
              "4      2  for your own benefit you may want read living ..."
            ],
            "text/html": [
              "\n",
              "  <div id=\"df-d2c436a5-f01a-4bf9-a30f-54385d9b8d67\" class=\"colab-df-container\">\n",
              "    <div>\n",
              "<style scoped>\n",
              "    .dataframe tbody tr th:only-of-type {\n",
              "        vertical-align: middle;\n",
              "    }\n",
              "\n",
              "    .dataframe tbody tr th {\n",
              "        vertical-align: top;\n",
              "    }\n",
              "\n",
              "    .dataframe thead th {\n",
              "        text-align: right;\n",
              "    }\n",
              "</style>\n",
              "<table border=\"1\" class=\"dataframe\">\n",
              "  <thead>\n",
              "    <tr style=\"text-align: right;\">\n",
              "      <th></th>\n",
              "      <th>label</th>\n",
              "      <th>text</th>\n",
              "    </tr>\n",
              "  </thead>\n",
              "  <tbody>\n",
              "    <tr>\n",
              "      <th>0</th>\n",
              "      <td>2</td>\n",
              "      <td>family mormon have never tried explain them t...</td>\n",
              "    </tr>\n",
              "    <tr>\n",
              "      <th>1</th>\n",
              "      <td>2</td>\n",
              "      <td>buddhism has very much lot compatible with chr...</td>\n",
              "    </tr>\n",
              "    <tr>\n",
              "      <th>2</th>\n",
              "      <td>0</td>\n",
              "      <td>seriously don say thing first all they won get...</td>\n",
              "    </tr>\n",
              "    <tr>\n",
              "      <th>3</th>\n",
              "      <td>1</td>\n",
              "      <td>what you have learned yours and only yours wha...</td>\n",
              "    </tr>\n",
              "    <tr>\n",
              "      <th>4</th>\n",
              "      <td>2</td>\n",
              "      <td>for your own benefit you may want read living ...</td>\n",
              "    </tr>\n",
              "  </tbody>\n",
              "</table>\n",
              "</div>\n",
              "    <div class=\"colab-df-buttons\">\n",
              "\n",
              "  <div class=\"colab-df-container\">\n",
              "    <button class=\"colab-df-convert\" onclick=\"convertToInteractive('df-d2c436a5-f01a-4bf9-a30f-54385d9b8d67')\"\n",
              "            title=\"Convert this dataframe to an interactive table.\"\n",
              "            style=\"display:none;\">\n",
              "\n",
              "  <svg xmlns=\"http://www.w3.org/2000/svg\" height=\"24px\" viewBox=\"0 -960 960 960\">\n",
              "    <path d=\"M120-120v-720h720v720H120Zm60-500h600v-160H180v160Zm220 220h160v-160H400v160Zm0 220h160v-160H400v160ZM180-400h160v-160H180v160Zm440 0h160v-160H620v160ZM180-180h160v-160H180v160Zm440 0h160v-160H620v160Z\"/>\n",
              "  </svg>\n",
              "    </button>\n",
              "\n",
              "  <style>\n",
              "    .colab-df-container {\n",
              "      display:flex;\n",
              "      gap: 12px;\n",
              "    }\n",
              "\n",
              "    .colab-df-convert {\n",
              "      background-color: #E8F0FE;\n",
              "      border: none;\n",
              "      border-radius: 50%;\n",
              "      cursor: pointer;\n",
              "      display: none;\n",
              "      fill: #1967D2;\n",
              "      height: 32px;\n",
              "      padding: 0 0 0 0;\n",
              "      width: 32px;\n",
              "    }\n",
              "\n",
              "    .colab-df-convert:hover {\n",
              "      background-color: #E2EBFA;\n",
              "      box-shadow: 0px 1px 2px rgba(60, 64, 67, 0.3), 0px 1px 3px 1px rgba(60, 64, 67, 0.15);\n",
              "      fill: #174EA6;\n",
              "    }\n",
              "\n",
              "    .colab-df-buttons div {\n",
              "      margin-bottom: 4px;\n",
              "    }\n",
              "\n",
              "    [theme=dark] .colab-df-convert {\n",
              "      background-color: #3B4455;\n",
              "      fill: #D2E3FC;\n",
              "    }\n",
              "\n",
              "    [theme=dark] .colab-df-convert:hover {\n",
              "      background-color: #434B5C;\n",
              "      box-shadow: 0px 1px 3px 1px rgba(0, 0, 0, 0.15);\n",
              "      filter: drop-shadow(0px 1px 2px rgba(0, 0, 0, 0.3));\n",
              "      fill: #FFFFFF;\n",
              "    }\n",
              "  </style>\n",
              "\n",
              "    <script>\n",
              "      const buttonEl =\n",
              "        document.querySelector('#df-d2c436a5-f01a-4bf9-a30f-54385d9b8d67 button.colab-df-convert');\n",
              "      buttonEl.style.display =\n",
              "        google.colab.kernel.accessAllowed ? 'block' : 'none';\n",
              "\n",
              "      async function convertToInteractive(key) {\n",
              "        const element = document.querySelector('#df-d2c436a5-f01a-4bf9-a30f-54385d9b8d67');\n",
              "        const dataTable =\n",
              "          await google.colab.kernel.invokeFunction('convertToInteractive',\n",
              "                                                    [key], {});\n",
              "        if (!dataTable) return;\n",
              "\n",
              "        const docLinkHtml = 'Like what you see? Visit the ' +\n",
              "          '<a target=\"_blank\" href=https://colab.research.google.com/notebooks/data_table.ipynb>data table notebook</a>'\n",
              "          + ' to learn more about interactive tables.';\n",
              "        element.innerHTML = '';\n",
              "        dataTable['output_type'] = 'display_data';\n",
              "        await google.colab.output.renderOutput(dataTable, element);\n",
              "        const docLink = document.createElement('div');\n",
              "        docLink.innerHTML = docLinkHtml;\n",
              "        element.appendChild(docLink);\n",
              "      }\n",
              "    </script>\n",
              "  </div>\n",
              "\n",
              "\n",
              "<div id=\"df-6b003342-43bf-4df0-9761-9bbdd2b5f194\">\n",
              "  <button class=\"colab-df-quickchart\" onclick=\"quickchart('df-6b003342-43bf-4df0-9761-9bbdd2b5f194')\"\n",
              "            title=\"Suggest charts\"\n",
              "            style=\"display:none;\">\n",
              "\n",
              "<svg xmlns=\"http://www.w3.org/2000/svg\" height=\"24px\"viewBox=\"0 0 24 24\"\n",
              "     width=\"24px\">\n",
              "    <g>\n",
              "        <path d=\"M19 3H5c-1.1 0-2 .9-2 2v14c0 1.1.9 2 2 2h14c1.1 0 2-.9 2-2V5c0-1.1-.9-2-2-2zM9 17H7v-7h2v7zm4 0h-2V7h2v10zm4 0h-2v-4h2v4z\"/>\n",
              "    </g>\n",
              "</svg>\n",
              "  </button>\n",
              "\n",
              "<style>\n",
              "  .colab-df-quickchart {\n",
              "      --bg-color: #E8F0FE;\n",
              "      --fill-color: #1967D2;\n",
              "      --hover-bg-color: #E2EBFA;\n",
              "      --hover-fill-color: #174EA6;\n",
              "      --disabled-fill-color: #AAA;\n",
              "      --disabled-bg-color: #DDD;\n",
              "  }\n",
              "\n",
              "  [theme=dark] .colab-df-quickchart {\n",
              "      --bg-color: #3B4455;\n",
              "      --fill-color: #D2E3FC;\n",
              "      --hover-bg-color: #434B5C;\n",
              "      --hover-fill-color: #FFFFFF;\n",
              "      --disabled-bg-color: #3B4455;\n",
              "      --disabled-fill-color: #666;\n",
              "  }\n",
              "\n",
              "  .colab-df-quickchart {\n",
              "    background-color: var(--bg-color);\n",
              "    border: none;\n",
              "    border-radius: 50%;\n",
              "    cursor: pointer;\n",
              "    display: none;\n",
              "    fill: var(--fill-color);\n",
              "    height: 32px;\n",
              "    padding: 0;\n",
              "    width: 32px;\n",
              "  }\n",
              "\n",
              "  .colab-df-quickchart:hover {\n",
              "    background-color: var(--hover-bg-color);\n",
              "    box-shadow: 0 1px 2px rgba(60, 64, 67, 0.3), 0 1px 3px 1px rgba(60, 64, 67, 0.15);\n",
              "    fill: var(--button-hover-fill-color);\n",
              "  }\n",
              "\n",
              "  .colab-df-quickchart-complete:disabled,\n",
              "  .colab-df-quickchart-complete:disabled:hover {\n",
              "    background-color: var(--disabled-bg-color);\n",
              "    fill: var(--disabled-fill-color);\n",
              "    box-shadow: none;\n",
              "  }\n",
              "\n",
              "  .colab-df-spinner {\n",
              "    border: 2px solid var(--fill-color);\n",
              "    border-color: transparent;\n",
              "    border-bottom-color: var(--fill-color);\n",
              "    animation:\n",
              "      spin 1s steps(1) infinite;\n",
              "  }\n",
              "\n",
              "  @keyframes spin {\n",
              "    0% {\n",
              "      border-color: transparent;\n",
              "      border-bottom-color: var(--fill-color);\n",
              "      border-left-color: var(--fill-color);\n",
              "    }\n",
              "    20% {\n",
              "      border-color: transparent;\n",
              "      border-left-color: var(--fill-color);\n",
              "      border-top-color: var(--fill-color);\n",
              "    }\n",
              "    30% {\n",
              "      border-color: transparent;\n",
              "      border-left-color: var(--fill-color);\n",
              "      border-top-color: var(--fill-color);\n",
              "      border-right-color: var(--fill-color);\n",
              "    }\n",
              "    40% {\n",
              "      border-color: transparent;\n",
              "      border-right-color: var(--fill-color);\n",
              "      border-top-color: var(--fill-color);\n",
              "    }\n",
              "    60% {\n",
              "      border-color: transparent;\n",
              "      border-right-color: var(--fill-color);\n",
              "    }\n",
              "    80% {\n",
              "      border-color: transparent;\n",
              "      border-right-color: var(--fill-color);\n",
              "      border-bottom-color: var(--fill-color);\n",
              "    }\n",
              "    90% {\n",
              "      border-color: transparent;\n",
              "      border-bottom-color: var(--fill-color);\n",
              "    }\n",
              "  }\n",
              "</style>\n",
              "\n",
              "  <script>\n",
              "    async function quickchart(key) {\n",
              "      const quickchartButtonEl =\n",
              "        document.querySelector('#' + key + ' button');\n",
              "      quickchartButtonEl.disabled = true;  // To prevent multiple clicks.\n",
              "      quickchartButtonEl.classList.add('colab-df-spinner');\n",
              "      try {\n",
              "        const charts = await google.colab.kernel.invokeFunction(\n",
              "            'suggestCharts', [key], {});\n",
              "      } catch (error) {\n",
              "        console.error('Error during call to suggestCharts:', error);\n",
              "      }\n",
              "      quickchartButtonEl.classList.remove('colab-df-spinner');\n",
              "      quickchartButtonEl.classList.add('colab-df-quickchart-complete');\n",
              "    }\n",
              "    (() => {\n",
              "      let quickchartButtonEl =\n",
              "        document.querySelector('#df-6b003342-43bf-4df0-9761-9bbdd2b5f194 button');\n",
              "      quickchartButtonEl.style.display =\n",
              "        google.colab.kernel.accessAllowed ? 'block' : 'none';\n",
              "    })();\n",
              "  </script>\n",
              "</div>\n",
              "\n",
              "    </div>\n",
              "  </div>\n"
            ],
            "application/vnd.google.colaboratory.intrinsic+json": {
              "type": "dataframe",
              "variable_name": "data_df"
            }
          },
          "metadata": {},
          "execution_count": 59
        }
      ]
    },
    {
      "cell_type": "code",
      "source": [
        "data_df.head()\n",
        "\n",
        "emotions_count = data_df['label'].value_counts()\n",
        "plt.bar(list(emotions_count.keys()), list(emotions_count), color='teal')\n",
        "plt.xlabel(\"Sentiment\",)\n",
        "plt.ylabel('Count')\n",
        "plt.title('Emotions Count')\n",
        "plt.show()\n",
        "print(list(emotions_count))"
      ],
      "metadata": {
        "colab": {
          "base_uri": "https://localhost:8080/",
          "height": 489
        },
        "id": "894TLJDL_AOF",
        "outputId": "0f566735-9413-4198-90c1-9b31f5944c75"
      },
      "execution_count": 60,
      "outputs": [
        {
          "output_type": "display_data",
          "data": {
            "text/plain": [
              "<Figure size 640x480 with 1 Axes>"
            ],
            "image/png": "[encoded data removed]"
          },
          "metadata": {}
        },
        {
          "output_type": "stream",
          "name": "stdout",
          "text": [
            "[87992, 67961, 43755]\n"
          ]
        }
      ]
    },
    {
      "cell_type": "code",
      "source": [
        "nltk.download('stopwords')\n",
        "stop_words = stopwords.words(\"english\")\n",
        "stemmer = SnowballStemmer(\"english\")\n",
        "\n",
        "def clean_text(text, stem=True):\n",
        "    text = re.sub(r'http\\S+|www\\S+|https\\S+', '', text, flags=re.MULTILINE)\n",
        "    text = re.sub(r'[^A-Za-z\\s]', '', text)\n",
        "    text = re.sub(r'\\s+', ' ', text).strip()\n",
        "    text = text.lower()\n",
        "    tokens = []\n",
        "    for token in text.split():\n",
        "        if token not in stop_words:\n",
        "            if stem:\n",
        "                tokens.append(stemmer.stem(token))\n",
        "            else:\n",
        "                tokens.append(token)\n",
        "    return text\n",
        "\n",
        "\n",
        "\n",
        "tokenizer = get_tokenizer('basic_english')\n",
        "train_data = data_df['text'].apply(clean_text).apply(tokenizer)\n",
        "data_df['tokens'] = train_data\n",
        "print(data_df['tokens'][:4])\n",
        "print(data_df['label'][:4])\n"
      ],
      "metadata": {
        "colab": {
          "base_uri": "https://localhost:8080/"
        },
        "id": "-MzVgGBm_E_s",
        "outputId": "bda5220d-f79c-4c82-d077-d4dab25dab26"
      },
      "execution_count": 61,
      "outputs": [
        {
          "output_type": "stream",
          "name": "stderr",
          "text": [
            "[nltk_data] Downloading package stopwords to /root/nltk_data...\n",
            "[nltk_data]   Package stopwords is already up-to-date!\n"
          ]
        },
        {
          "output_type": "stream",
          "name": "stdout",
          "text": [
            "0    [family, mormon, have, never, tried, explain, ...\n",
            "1    [buddhism, has, very, much, lot, compatible, w...\n",
            "2    [seriously, don, say, thing, first, all, they,...\n",
            "3    [what, you, have, learned, yours, and, only, y...\n",
            "Name: tokens, dtype: object\n",
            "0    2\n",
            "1    2\n",
            "2    0\n",
            "3    1\n",
            "Name: label, dtype: int64\n"
          ]
        }
      ]
    },
    {
      "cell_type": "code",
      "source": [
        "from sklearn.model_selection import train_test_split\n",
        "\n",
        "train_df, test_df = train_test_split(data_df, test_size=0.2, shuffle=True, random_state = 123)\n",
        "print(train_df['label'].value_counts())\n",
        "print(test_df['label'].value_counts())"
      ],
      "metadata": {
        "colab": {
          "base_uri": "https://localhost:8080/"
        },
        "id": "KEDuAgjj_PAU",
        "outputId": "d271fad2-19eb-4c3f-d00d-90abf8e02cb1"
      },
      "execution_count": 62,
      "outputs": [
        {
          "output_type": "stream",
          "name": "stdout",
          "text": [
            "label\n",
            "2    70485\n",
            "1    54278\n",
            "0    35003\n",
            "Name: count, dtype: int64\n",
            "label\n",
            "2    17507\n",
            "1    13683\n",
            "0     8752\n",
            "Name: count, dtype: int64\n"
          ]
        }
      ]
    },
    {
      "cell_type": "code",
      "source": [
        "def build_vocab(texts):\n",
        "        all_tokens = [token for text in texts for token in text]\n",
        "        vocab = {token: idx for idx, token in enumerate(set(all_tokens))}\n",
        "        vocab['<pad>'] = len(vocab)\n",
        "        print(f\"Vocabulary Length is: {len(vocab)}\")\n",
        "        return vocab, len(vocab)\n",
        "\n",
        "vocab, VOCAB_SIZE = build_vocab(train_data)"
      ],
      "metadata": {
        "colab": {
          "base_uri": "https://localhost:8080/"
        },
        "id": "gk1tnwX0_WnJ",
        "outputId": "7edca01e-ec2e-4526-f6b3-2b4c09f8bc53"
      },
      "execution_count": 63,
      "outputs": [
        {
          "output_type": "stream",
          "name": "stdout",
          "text": [
            "Vocabulary Length is: 123992\n"
          ]
        }
      ]
    },
    {
      "cell_type": "code",
      "source": [
        "BATCH_SIZE = 32\n",
        "HIDDEN_DIM = 256\n",
        "MAX_LEN = 50\n",
        "EMBED_DIM = 128\n",
        "pad_index = vocab[\"<pad>\"]"
      ],
      "metadata": {
        "id": "ww8rveRx_bSA"
      },
      "execution_count": 64,
      "outputs": []
    },
    {
      "cell_type": "code",
      "source": [
        "class TextDataset(Dataset):\n",
        "    def __init__(self, texts, labels, vocab=None, max_len = MAX_LEN, pad_token = '<pad>'):\n",
        "        self.texts = texts\n",
        "        self.pad_token = pad_token\n",
        "        self.max_length = max_len\n",
        "        self.labels = labels\n",
        "        self.vocab = vocab\n",
        "\n",
        "    def text_to_tensor(self, text):\n",
        "        text_indices = [self.vocab.get(token) for token in text]\n",
        "\n",
        "        if len(text_indices) < self.max_length:\n",
        "            text_indices = text_indices + [self.vocab[self.pad_token]] * (self.max_length - len(text_indices))\n",
        "        else:\n",
        "            text_indices = text_indices[:self.max_length]\n",
        "        return torch.tensor(text_indices, dtype=torch.long)\n",
        "\n",
        "    def label_to_tensor(self, label):\n",
        "        return torch.tensor(label, dtype=torch.long)\n",
        "\n",
        "    def __len__(self):\n",
        "        return len(self.texts)\n",
        "\n",
        "    def __getitem__(self, idx):\n",
        "        text = self.texts[idx]\n",
        "        label = self.labels[idx]\n",
        "        return self.text_to_tensor(text), self.label_to_tensor(label)\n",
        "\n",
        "train_dataset = TextDataset(train_df['tokens'].tolist(), train_df['label'].tolist(), vocab = vocab)\n",
        "test_dataset = TextDataset(test_df['tokens'].tolist(), test_df['label'].tolist(), vocab = vocab)\n",
        "\n",
        "for text_tensor, label_tensor in test_dataset:\n",
        "    print(f\"text_tensor: {text_tensor}\")\n",
        "    print(f\"label_tensor: {label_tensor}\")\n",
        "    tokenized_tensor = text_tensor\n",
        "    break\n"
      ],
      "metadata": {
        "colab": {
          "base_uri": "https://localhost:8080/"
        },
        "id": "WYzSNWdD_ncw",
        "outputId": "a8ee14df-652f-40e1-8a5c-d080d93ddc8f"
      },
      "execution_count": 65,
      "outputs": [
        {
          "output_type": "stream",
          "name": "stdout",
          "text": [
            "text_tensor: tensor([ 20617,  87112,  84452,  53892,  11493,  96315,  43215,  14876,  80360,\n",
            "         16554,  75203, 101402, 104218,  76188,  21041,  21831,  13466,  20617,\n",
            "        119822,   7533,  92205,  58671,   8155, 108018,  44868, 107685, 108964,\n",
            "         82890,  75203, 101402, 100056,  78144,  97220, 104218,  20617, 120585,\n",
            "         76188,  21041,  21831,  13466,   2320, 119822,   7533,  92205,  20617,\n",
            "        117941, 108233,  87112,  84452,  53892])\n",
            "label_tensor: 2\n"
          ]
        }
      ]
    },
    {
      "cell_type": "code",
      "source": [
        "reverse_vocab = {v: k for k, v in vocab.items()}\n",
        "\n",
        "# Function to convert tensor to sentence\n",
        "def tensor_to_sentence(tensor):\n",
        "    tokens = [reverse_vocab[idx.item()] for idx in tensor if idx.item() in reverse_vocab]\n",
        "    return ' '.join(tokens)\n",
        "\n",
        "print(tensor_to_sentence(tokenized_tensor))"
      ],
      "metadata": {
        "colab": {
          "base_uri": "https://localhost:8080/"
        },
        "id": "2XvOoWG0_ql6",
        "outputId": "d7cf7315-bad7-4201-96a9-e8624df7145d"
      },
      "execution_count": 66,
      "outputs": [
        {
          "output_type": "stream",
          "name": "stdout",
          "text": [
            "bjp shatrughan sinha has asked his party some pointed questions day when modi amit shah and several bjp mps are fasting protest against washout parliament budget session part day when prime minister narendra modi bjp president amit shah and several nda mps are fasting bjp patna sahib shatrughan sinha has\n"
          ]
        }
      ]
    },
    {
      "cell_type": "code",
      "source": [
        "device = ('cuda'\n",
        "          if torch.cuda.is_available()\n",
        "          else \"mps\"\n",
        "          if torch.backends.mps.is_available()\n",
        "          else \"cpu\"\n",
        "          )\n",
        "\n",
        "\n",
        "print(f\"Using Device: {device}\")\n",
        "\n",
        "train_dataloader = DataLoader(train_dataset, batch_size = BATCH_SIZE)\n",
        "test_dataloader = DataLoader(test_dataset, batch_size = BATCH_SIZE)\n",
        "\n",
        "n = 0\n",
        "for X, Y in test_dataloader:\n",
        "    n+=1\n",
        "    if n > 5:\n",
        "        break\n",
        "    else:\n",
        "        print(f\"Shape of X: {tensor_to_sentence(X[0])}\")\n",
        "        print(f\"Shape of Y: {Y[0]}\")"
      ],
      "metadata": {
        "colab": {
          "base_uri": "https://localhost:8080/"
        },
        "id": "uDb2BfDF_4hA",
        "outputId": "87e083ac-58d1-4d88-c1e8-bd54a70d59a6"
      },
      "execution_count": 67,
      "outputs": [
        {
          "output_type": "stream",
          "name": "stdout",
          "text": [
            "Using Device: cpu\n",
            "Shape of X: bjp shatrughan sinha has asked his party some pointed questions day when modi amit shah and several bjp mps are fasting protest against washout parliament budget session part day when prime minister narendra modi bjp president amit shah and several nda mps are fasting bjp patna sahib shatrughan sinha has\n",
            "Shape of Y: 2\n",
            "Shape of X: does this address hon prime minister narendra modi for election campaign <pad> <pad> <pad> <pad> <pad> <pad> <pad> <pad> <pad> <pad> <pad> <pad> <pad> <pad> <pad> <pad> <pad> <pad> <pad> <pad> <pad> <pad> <pad> <pad> <pad> <pad> <pad> <pad> <pad> <pad> <pad> <pad> <pad> <pad> <pad> <pad> <pad> <pad> <pad>\n",
            "Shape of Y: 1\n",
            "Shape of X: but bcs modi using chowkidaar just win election such incapable leader have never seen anywhere the world <pad> <pad> <pad> <pad> <pad> <pad> <pad> <pad> <pad> <pad> <pad> <pad> <pad> <pad> <pad> <pad> <pad> <pad> <pad> <pad> <pad> <pad> <pad> <pad> <pad> <pad> <pad> <pad> <pad> <pad> <pad> <pad> <pad>\n",
            "Shape of Y: 2\n",
            "Shape of X: the statistics are off here only the incidents happened prior may and there were only incidents reported english media would mean only incidents between and may amateur google searches show there least beef idindeebbo thief acid injected eye villagers years blinding similar crimes html smuggling dangerous illegal highly profitable trade\n",
            "Shape of Y: 0\n",
            "Shape of X: sardar tweet positive only undercurrent including sikhs against modi positive campaigning needed <pad> <pad> <pad> <pad> <pad> <pad> <pad> <pad> <pad> <pad> <pad> <pad> <pad> <pad> <pad> <pad> <pad> <pad> <pad> <pad> <pad> <pad> <pad> <pad> <pad> <pad> <pad> <pad> <pad> <pad> <pad> <pad> <pad> <pad> <pad> <pad> <pad> <pad>\n",
            "Shape of Y: 2\n"
          ]
        }
      ]
    },
    {
      "cell_type": "code",
      "source": [
        "class GRUModel(nn.Module):\n",
        "    def __init__(self):\n",
        "            super().__init__()\n",
        "            self.embedding = nn.Embedding(VOCAB_SIZE, EMBED_DIM)\n",
        "            self.gru = nn.GRU(EMBED_DIM, HIDDEN_DIM, dropout=0.3, batch_first=True)\n",
        "            self.fc = nn.Linear(HIDDEN_DIM, 3)\n",
        "            self.dropout = nn.Dropout(0.3)\n",
        "            self.sigmoid = nn.Sigmoid()\n",
        "            self.no_layers = 1\n",
        "\n",
        "\n",
        "\n",
        "    def forward(self, x, hidden):\n",
        "            batch_size = x.size(0)\n",
        "            embedded = self.embedding(x)\n",
        "            output, hidden = self.gru(embedded)\n",
        "            output = self.dropout(output[:, -1])\n",
        "            output = self.fc(output)\n",
        "\n",
        "\n",
        "            return output, hidden\n",
        "\n",
        "    def init_hidden(self, batch_size):\n",
        "\n",
        "        h0 = torch.zeros((self.no_layers,batch_size,HIDDEN_DIM)).to(device)\n",
        "        c0 = torch.zeros((self.no_layers,batch_size,HIDDEN_DIM)).to(device)\n",
        "        hidden = (h0,c0)\n",
        "        return hidden"
      ],
      "metadata": {
        "id": "eYwkWCdsABxw"
      },
      "execution_count": 68,
      "outputs": []
    },
    {
      "cell_type": "code",
      "source": [
        "gru_model = GRUModel().to(device)\n",
        "print(gru_model)"
      ],
      "metadata": {
        "colab": {
          "base_uri": "https://localhost:8080/"
        },
        "id": "5c9pfD_wALhc",
        "outputId": "090d66db-ebf1-48a4-c5b1-6a33e90ee1c3"
      },
      "execution_count": 69,
      "outputs": [
        {
          "output_type": "stream",
          "name": "stdout",
          "text": [
            "GRUModel(\n",
            "  (embedding): Embedding(123992, 128)\n",
            "  (gru): GRU(128, 256, batch_first=True, dropout=0.3)\n",
            "  (fc): Linear(in_features=256, out_features=3, bias=True)\n",
            "  (dropout): Dropout(p=0.3, inplace=False)\n",
            "  (sigmoid): Sigmoid()\n",
            ")\n"
          ]
        },
        {
          "output_type": "stream",
          "name": "stderr",
          "text": [
            "/usr/local/lib/python3.10/dist-packages/torch/nn/modules/rnn.py:83: UserWarning: dropout option adds dropout after all but last recurrent layer, so non-zero dropout expects num_layers greater than 1, but got dropout=0.3 and num_layers=1\n",
            "  warnings.warn(\"dropout option adds dropout after all but last \"\n"
          ]
        }
      ]
    },
    {
      "cell_type": "code",
      "source": [
        "for X, Y in test_dataloader:\n",
        "    X = X.to(device)\n",
        "    Y = Y.to(device)\n",
        "    h = gru_model.init_hidden(BATCH_SIZE)\n",
        "    h = tuple([each.data for each in h])\n",
        "    pred, h = gru_model(X, h)\n",
        "    print(f\"Shape of X: {tensor_to_sentence(X[1])}\")\n",
        "    print(f\"Shape of Y: {Y.shape}\")\n",
        "    print(f\"pred shape: {pred.shape}\")\n",
        "    break"
      ],
      "metadata": {
        "colab": {
          "base_uri": "https://localhost:8080/"
        },
        "id": "dcDocIprAMry",
        "outputId": "49facc51-38bd-46ff-f66e-1918099ddaf4"
      },
      "execution_count": 70,
      "outputs": [
        {
          "output_type": "stream",
          "name": "stdout",
          "text": [
            "Shape of X: answer what are your views rahul gandhi recent tweet mocking modi wishing him world theatre day <pad> <pad> <pad> <pad> <pad> <pad> <pad> <pad> <pad> <pad> <pad> <pad> <pad> <pad> <pad> <pad> <pad> <pad> <pad> <pad> <pad> <pad> <pad> <pad> <pad> <pad> <pad> <pad> <pad> <pad> <pad> <pad> <pad> <pad>\n",
            "Shape of Y: torch.Size([32])\n",
            "pred shape: torch.Size([32, 3])\n"
          ]
        }
      ]
    },
    {
      "cell_type": "code",
      "source": [
        "loss_func_gru = torch.nn.CrossEntropyLoss().to(device)\n",
        "optimizer_gru = torch.optim.Adam(gru_model.parameters(), lr=1e-3)"
      ],
      "metadata": {
        "id": "SiNMCV7UAcPv"
      },
      "execution_count": 71,
      "outputs": []
    },
    {
      "cell_type": "code",
      "source": [
        "def get_accuracy(pred,label):\n",
        "    pred = pred.argmax(1)\n",
        "    return torch.sum(pred == label).item()"
      ],
      "metadata": {
        "id": "BKFIT1JKAfuR"
      },
      "execution_count": 72,
      "outputs": []
    },
    {
      "cell_type": "code",
      "source": [
        "CLIP = 1\n",
        "\n",
        "def train(dataloader, model, loss_fn, optimizer, train_losses):\n",
        "    size = len(dataloader.dataset)\n",
        "    model.train()\n",
        "    h = model.init_hidden(BATCH_SIZE)\n",
        "    loss_sum = 0\n",
        "    accuracy = 0\n",
        "    num_batches = len(dataloader)\n",
        "    for batch, (x, y) in enumerate(dataloader):\n",
        "        x, y = x.to(device), y.to(device)\n",
        "        h = tuple([each.data for each in h])\n",
        "        pred, h = model(x, h)\n",
        "        loss = loss_fn(pred, y)\n",
        "        loss_sum += loss.item()\n",
        "        loss.backward()\n",
        "        torch.nn.utils.clip_grad_norm_(model.parameters(), CLIP)\n",
        "        optimizer.step()\n",
        "        optimizer.zero_grad()\n",
        "        accuracy += get_accuracy(pred, y)\n",
        "        if batch % 200 == 0:\n",
        "            loss, current = loss.item(), (batch + 1) * len(x)\n",
        "            print(f\"loss: {loss:>7f} [{current:>5d}/{size:>5d}]\")\n",
        "\n",
        "    mean_loss = loss_sum / num_batches\n",
        "    accuracy /= size\n",
        "    train_losses.append(mean_loss)\n",
        "    print(f\"Training loss: {mean_loss:>7f}\")\n",
        "    print(f\"Training accuracy: {(accuracy*100):>7f}\")\n",
        "\n"
      ],
      "metadata": {
        "id": "lpaI5tB9AtTC"
      },
      "execution_count": 73,
      "outputs": []
    },
    {
      "cell_type": "code",
      "source": [
        "def test(dataloader, model, loss_fn, test_losses):\n",
        "    size = len(dataloader.dataset)\n",
        "    num_batches = len(dataloader)\n",
        "    model.eval()\n",
        "    test_loss, accuracy = 0, 0\n",
        "    h = model.init_hidden(BATCH_SIZE)\n",
        "    with torch.no_grad():\n",
        "        for x, y in dataloader:\n",
        "            x, y = x.to(device), y.to(device)\n",
        "            h = tuple([each.data for each in h])\n",
        "            pred, h = model(x, h)\n",
        "            test_loss += loss_fn(pred, y).item()\n",
        "            accuracy += get_accuracy(pred, y)\n",
        "    test_loss /= num_batches\n",
        "    accuracy /= size\n",
        "    print(\"________\")\n",
        "    print(f\"Test loss: {test_loss:>7f}\")\n",
        "    print(f\"Test accuracy: {(accuracy*100):>0.1f}%\")\n",
        "    test_losses.append(test_loss)"
      ],
      "metadata": {
        "id": "inoUv0SOA0zR"
      },
      "execution_count": 74,
      "outputs": []
    },
    {
      "cell_type": "code",
      "source": [
        "train_losses = []\n",
        "test_losses = []\n",
        "\n",
        "for i in range(10):\n",
        "    print(f'Epoch {i} -----------------------------------')\n",
        "    train(train_dataloader, gru_model, loss_func_gru, optimizer_gru, train_losses)\n",
        "    test(test_dataloader, gru_model, loss_func_gru, test_losses)\n",
        "\n",
        "print('Finished Training')"
      ],
      "metadata": {
        "colab": {
          "base_uri": "https://localhost:8080/"
        },
        "id": "0uCynycmA8VZ",
        "outputId": "a00417d6-5d08-479d-c3c0-a7f59bb06d6e"
      },
      "execution_count": 75,
      "outputs": [
        {
          "output_type": "stream",
          "name": "stdout",
          "text": [
            "Epoch 0 -----------------------------------\n",
            "loss: 1.122044 [   32/159766]\n",
            "loss: 0.887574 [ 6432/159766]\n",
            "loss: 0.761573 [12832/159766]\n",
            "loss: 0.704691 [19232/159766]\n",
            "loss: 0.578170 [25632/159766]\n",
            "loss: 0.223867 [32032/159766]\n",
            "loss: 0.422232 [38432/159766]\n",
            "loss: 0.457740 [44832/159766]\n",
            "loss: 0.572415 [51232/159766]\n",
            "loss: 0.589303 [57632/159766]\n",
            "loss: 0.362221 [64032/159766]\n",
            "loss: 0.372980 [70432/159766]\n",
            "loss: 0.396329 [76832/159766]\n",
            "loss: 0.315705 [83232/159766]\n",
            "loss: 0.180795 [89632/159766]\n",
            "loss: 0.180149 [96032/159766]\n",
            "loss: 0.417532 [102432/159766]\n",
            "loss: 0.475836 [108832/159766]\n",
            "loss: 0.383047 [115232/159766]\n",
            "loss: 0.181662 [121632/159766]\n",
            "loss: 0.435395 [128032/159766]\n",
            "loss: 0.145336 [134432/159766]\n",
            "loss: 0.143403 [140832/159766]\n",
            "loss: 0.179993 [147232/159766]\n",
            "loss: 0.073557 [153632/159766]\n",
            "Training loss: 0.392813\n",
            "Training accuracy: 85.304132\n",
            "________\n",
            "Test loss: 0.196897\n",
            "Test accuracy: 94.0%\n",
            "Epoch 1 -----------------------------------\n",
            "loss: 0.135465 [   32/159766]\n",
            "loss: 0.040710 [ 6432/159766]\n",
            "loss: 0.080347 [12832/159766]\n",
            "loss: 0.082856 [19232/159766]\n",
            "loss: 0.212557 [25632/159766]\n",
            "loss: 0.063632 [32032/159766]\n",
            "loss: 0.170487 [38432/159766]\n",
            "loss: 0.274118 [44832/159766]\n",
            "loss: 0.056684 [51232/159766]\n",
            "loss: 0.320096 [57632/159766]\n",
            "loss: 0.074693 [64032/159766]\n",
            "loss: 0.289627 [70432/159766]\n",
            "loss: 0.093597 [76832/159766]\n",
            "loss: 0.194856 [83232/159766]\n",
            "loss: 0.018088 [89632/159766]\n",
            "loss: 0.289367 [96032/159766]\n",
            "loss: 0.264202 [102432/159766]\n",
            "loss: 0.301557 [108832/159766]\n",
            "loss: 0.131367 [115232/159766]\n",
            "loss: 0.045435 [121632/159766]\n",
            "loss: 0.376206 [128032/159766]\n",
            "loss: 0.047498 [134432/159766]\n",
            "loss: 0.106853 [140832/159766]\n",
            "loss: 0.011808 [147232/159766]\n",
            "loss: 0.013046 [153632/159766]\n",
            "Training loss: 0.141647\n",
            "Training accuracy: 95.587296\n",
            "________\n",
            "Test loss: 0.151836\n",
            "Test accuracy: 95.4%\n",
            "Epoch 2 -----------------------------------\n",
            "loss: 0.095065 [   32/159766]\n",
            "loss: 0.008938 [ 6432/159766]\n",
            "loss: 0.120465 [12832/159766]\n",
            "loss: 0.025975 [19232/159766]\n",
            "loss: 0.129351 [25632/159766]\n",
            "loss: 0.021261 [32032/159766]\n",
            "loss: 0.019705 [38432/159766]\n",
            "loss: 0.252442 [44832/159766]\n",
            "loss: 0.010993 [51232/159766]\n",
            "loss: 0.303037 [57632/159766]\n",
            "loss: 0.061568 [64032/159766]\n",
            "loss: 0.275525 [70432/159766]\n",
            "loss: 0.021939 [76832/159766]\n",
            "loss: 0.070508 [83232/159766]\n",
            "loss: 0.011848 [89632/159766]\n",
            "loss: 0.158124 [96032/159766]\n",
            "loss: 0.223590 [102432/159766]\n",
            "loss: 0.219800 [108832/159766]\n",
            "loss: 0.211480 [115232/159766]\n",
            "loss: 0.064469 [121632/159766]\n",
            "loss: 0.198417 [128032/159766]\n",
            "loss: 0.038502 [134432/159766]\n",
            "loss: 0.047722 [140832/159766]\n",
            "loss: 0.008688 [147232/159766]\n",
            "loss: 0.003341 [153632/159766]\n",
            "Training loss: 0.083259\n",
            "Training accuracy: 97.439380\n",
            "________\n",
            "Test loss: 0.159569\n",
            "Test accuracy: 95.6%\n",
            "Epoch 3 -----------------------------------\n",
            "loss: 0.013862 [   32/159766]\n",
            "loss: 0.005881 [ 6432/159766]\n",
            "loss: 0.030737 [12832/159766]\n",
            "loss: 0.008187 [19232/159766]\n",
            "loss: 0.014348 [25632/159766]\n",
            "loss: 0.011499 [32032/159766]\n",
            "loss: 0.034106 [38432/159766]\n",
            "loss: 0.180592 [44832/159766]\n",
            "loss: 0.152126 [51232/159766]\n",
            "loss: 0.087976 [57632/159766]\n",
            "loss: 0.011301 [64032/159766]\n",
            "loss: 0.216600 [70432/159766]\n",
            "loss: 0.031271 [76832/159766]\n",
            "loss: 0.093275 [83232/159766]\n",
            "loss: 0.004592 [89632/159766]\n",
            "loss: 0.126316 [96032/159766]\n",
            "loss: 0.088436 [102432/159766]\n",
            "loss: 0.375701 [108832/159766]\n",
            "loss: 0.058026 [115232/159766]\n",
            "loss: 0.004792 [121632/159766]\n",
            "loss: 0.101163 [128032/159766]\n",
            "loss: 0.001619 [134432/159766]\n",
            "loss: 0.011751 [140832/159766]\n",
            "loss: 0.001959 [147232/159766]\n",
            "loss: 0.001386 [153632/159766]\n",
            "Training loss: 0.053953\n",
            "Training accuracy: 98.346332\n",
            "________\n",
            "Test loss: 0.192744\n",
            "Test accuracy: 95.2%\n",
            "Epoch 4 -----------------------------------\n",
            "loss: 0.049495 [   32/159766]\n",
            "loss: 0.000518 [ 6432/159766]\n",
            "loss: 0.012823 [12832/159766]\n",
            "loss: 0.000604 [19232/159766]\n",
            "loss: 0.026662 [25632/159766]\n",
            "loss: 0.070343 [32032/159766]\n",
            "loss: 0.002609 [38432/159766]\n",
            "loss: 0.182827 [44832/159766]\n",
            "loss: 0.003956 [51232/159766]\n",
            "loss: 0.016572 [57632/159766]\n",
            "loss: 0.021950 [64032/159766]\n",
            "loss: 0.064755 [70432/159766]\n",
            "loss: 0.005410 [76832/159766]\n",
            "loss: 0.000932 [83232/159766]\n",
            "loss: 0.102887 [89632/159766]\n",
            "loss: 0.026439 [96032/159766]\n",
            "loss: 0.121588 [102432/159766]\n",
            "loss: 0.059751 [108832/159766]\n",
            "loss: 0.007072 [115232/159766]\n",
            "loss: 0.001062 [121632/159766]\n",
            "loss: 0.027873 [128032/159766]\n",
            "loss: 0.004510 [134432/159766]\n",
            "loss: 0.000725 [140832/159766]\n",
            "loss: 0.001821 [147232/159766]\n",
            "loss: 0.001803 [153632/159766]\n",
            "Training loss: 0.037165\n",
            "Training accuracy: 98.890878\n",
            "________\n",
            "Test loss: 0.197914\n",
            "Test accuracy: 95.2%\n",
            "Epoch 5 -----------------------------------\n",
            "loss: 0.005402 [   32/159766]\n",
            "loss: 0.001430 [ 6432/159766]\n",
            "loss: 0.023123 [12832/159766]\n",
            "loss: 0.057500 [19232/159766]\n",
            "loss: 0.011453 [25632/159766]\n",
            "loss: 0.009896 [32032/159766]\n",
            "loss: 0.001125 [38432/159766]\n",
            "loss: 0.042658 [44832/159766]\n",
            "loss: 0.015249 [51232/159766]\n",
            "loss: 0.025753 [57632/159766]\n",
            "loss: 0.000479 [64032/159766]\n",
            "loss: 0.063561 [70432/159766]\n",
            "loss: 0.002838 [76832/159766]\n",
            "loss: 0.019732 [83232/159766]\n",
            "loss: 0.009040 [89632/159766]\n",
            "loss: 0.000534 [96032/159766]\n",
            "loss: 0.230387 [102432/159766]\n",
            "loss: 0.069184 [108832/159766]\n",
            "loss: 0.003467 [115232/159766]\n",
            "loss: 0.005718 [121632/159766]\n",
            "loss: 0.004047 [128032/159766]\n",
            "loss: 0.018008 [134432/159766]\n",
            "loss: 0.002802 [140832/159766]\n",
            "loss: 0.001285 [147232/159766]\n",
            "loss: 0.000863 [153632/159766]\n",
            "Training loss: 0.027728\n",
            "Training accuracy: 99.172540\n",
            "________\n",
            "Test loss: 0.240273\n",
            "Test accuracy: 95.1%\n",
            "Epoch 6 -----------------------------------\n",
            "loss: 0.000518 [   32/159766]\n",
            "loss: 0.000318 [ 6432/159766]\n",
            "loss: 0.002593 [12832/159766]\n",
            "loss: 0.000237 [19232/159766]\n",
            "loss: 0.050121 [25632/159766]\n",
            "loss: 0.011506 [32032/159766]\n",
            "loss: 0.002128 [38432/159766]\n",
            "loss: 0.127911 [44832/159766]\n",
            "loss: 0.026610 [51232/159766]\n",
            "loss: 0.002453 [57632/159766]\n",
            "loss: 0.000581 [64032/159766]\n",
            "loss: 0.000511 [70432/159766]\n",
            "loss: 0.027759 [76832/159766]\n",
            "loss: 0.000158 [83232/159766]\n",
            "loss: 0.001156 [89632/159766]\n",
            "loss: 0.002380 [96032/159766]\n",
            "loss: 0.031201 [102432/159766]\n",
            "loss: 0.018594 [108832/159766]\n",
            "loss: 0.017851 [115232/159766]\n",
            "loss: 0.011874 [121632/159766]\n",
            "loss: 0.150325 [128032/159766]\n",
            "loss: 0.002993 [134432/159766]\n",
            "loss: 0.001570 [140832/159766]\n",
            "loss: 0.000701 [147232/159766]\n",
            "loss: 0.004442 [153632/159766]\n",
            "Training loss: 0.022202\n",
            "Training accuracy: 99.337782\n",
            "________\n",
            "Test loss: 0.259609\n",
            "Test accuracy: 95.1%\n",
            "Epoch 7 -----------------------------------\n",
            "loss: 0.001172 [   32/159766]\n",
            "loss: 0.000265 [ 6432/159766]\n",
            "loss: 0.000955 [12832/159766]\n",
            "loss: 0.001306 [19232/159766]\n",
            "loss: 0.002585 [25632/159766]\n",
            "loss: 0.001275 [32032/159766]\n",
            "loss: 0.020838 [38432/159766]\n",
            "loss: 0.406044 [44832/159766]\n",
            "loss: 0.004734 [51232/159766]\n",
            "loss: 0.000235 [57632/159766]\n",
            "loss: 0.000291 [64032/159766]\n",
            "loss: 0.073479 [70432/159766]\n",
            "loss: 0.000453 [76832/159766]\n",
            "loss: 0.000664 [83232/159766]\n",
            "loss: 0.003889 [89632/159766]\n",
            "loss: 0.002507 [96032/159766]\n",
            "loss: 0.002101 [102432/159766]\n",
            "loss: 0.130139 [108832/159766]\n",
            "loss: 0.004187 [115232/159766]\n",
            "loss: 0.001475 [121632/159766]\n",
            "loss: 0.001066 [128032/159766]\n",
            "loss: 0.000493 [134432/159766]\n",
            "loss: 0.000256 [140832/159766]\n",
            "loss: 0.000056 [147232/159766]\n",
            "loss: 0.000094 [153632/159766]\n",
            "Training loss: 0.019359\n",
            "Training accuracy: 99.432295\n",
            "________\n",
            "Test loss: 0.254601\n",
            "Test accuracy: 95.4%\n",
            "Epoch 8 -----------------------------------\n",
            "loss: 0.000516 [   32/159766]\n",
            "loss: 0.000208 [ 6432/159766]\n",
            "loss: 0.001953 [12832/159766]\n",
            "loss: 0.000042 [19232/159766]\n",
            "loss: 0.000366 [25632/159766]\n",
            "loss: 0.002312 [32032/159766]\n",
            "loss: 0.000185 [38432/159766]\n",
            "loss: 0.046151 [44832/159766]\n",
            "loss: 0.000291 [51232/159766]\n",
            "loss: 0.000575 [57632/159766]\n",
            "loss: 0.000120 [64032/159766]\n",
            "loss: 0.011507 [70432/159766]\n",
            "loss: 0.073268 [76832/159766]\n",
            "loss: 0.060298 [83232/159766]\n",
            "loss: 0.009274 [89632/159766]\n",
            "loss: 0.000393 [96032/159766]\n",
            "loss: 0.158907 [102432/159766]\n",
            "loss: 0.091059 [108832/159766]\n",
            "loss: 0.000163 [115232/159766]\n",
            "loss: 0.001180 [121632/159766]\n",
            "loss: 0.000184 [128032/159766]\n",
            "loss: 0.001670 [134432/159766]\n",
            "loss: 0.002430 [140832/159766]\n",
            "loss: 0.000119 [147232/159766]\n",
            "loss: 0.002356 [153632/159766]\n",
            "Training loss: 0.017759\n",
            "Training accuracy: 99.481116\n",
            "________\n",
            "Test loss: 0.279771\n",
            "Test accuracy: 95.3%\n",
            "Epoch 9 -----------------------------------\n",
            "loss: 0.000089 [   32/159766]\n",
            "loss: 0.109231 [ 6432/159766]\n",
            "loss: 0.002073 [12832/159766]\n",
            "loss: 0.000056 [19232/159766]\n",
            "loss: 0.002906 [25632/159766]\n",
            "loss: 0.008637 [32032/159766]\n",
            "loss: 0.057275 [38432/159766]\n",
            "loss: 0.013672 [44832/159766]\n",
            "loss: 0.001469 [51232/159766]\n",
            "loss: 0.000775 [57632/159766]\n",
            "loss: 0.000710 [64032/159766]\n",
            "loss: 0.024344 [70432/159766]\n",
            "loss: 0.079245 [76832/159766]\n",
            "loss: 0.000852 [83232/159766]\n",
            "loss: 0.156740 [89632/159766]\n",
            "loss: 0.001251 [96032/159766]\n",
            "loss: 0.102633 [102432/159766]\n",
            "loss: 0.005210 [108832/159766]\n",
            "loss: 0.000095 [115232/159766]\n",
            "loss: 0.000574 [121632/159766]\n",
            "loss: 0.000703 [128032/159766]\n",
            "loss: 0.000428 [134432/159766]\n",
            "loss: 0.000768 [140832/159766]\n",
            "loss: 0.000297 [147232/159766]\n",
            "loss: 0.000567 [153632/159766]\n",
            "Training loss: 0.017549\n",
            "Training accuracy: 99.496138\n",
            "________\n",
            "Test loss: 0.291499\n",
            "Test accuracy: 95.2%\n",
            "Finished Training\n"
          ]
        }
      ]
    },
    {
      "cell_type": "code",
      "source": [
        "print(train_losses)\n"
      ],
      "metadata": {
        "id": "5g2T0IvqBGAL",
        "colab": {
          "base_uri": "https://localhost:8080/"
        },
        "outputId": "cc7bbdca-670c-4864-b52f-443a50d2cf09"
      },
      "execution_count": 76,
      "outputs": [
        {
          "output_type": "stream",
          "name": "stdout",
          "text": [
            "[0.3928126535165198, 0.14164731342229084, 0.0832586631181374, 0.05395289269082933, 0.03716531890155891, 0.027728057717248577, 0.02220162978940192, 0.01935862949776678, 0.01775908328083869, 0.01754869385711723]\n"
          ]
        }
      ]
    },
    {
      "cell_type": "code",
      "source": [
        "plt.figure(figsize=(10, 5))\n",
        "plt.plot(train_losses, label='Training Loss')\n",
        "plt.plot(test_losses, label='Val Loss')\n",
        "plt.xlabel('Epoch')\n",
        "plt.ylabel('Loss')\n",
        "plt.title('Training and Validation Loss Over Epochs')\n",
        "plt.legend()\n",
        "plt.show()"
      ],
      "metadata": {
        "id": "IDTdwOIQBVLu",
        "colab": {
          "base_uri": "https://localhost:8080/",
          "height": 487
        },
        "outputId": "98ba1948-659a-445c-cec4-3e189bd65869"
      },
      "execution_count": 77,
      "outputs": [
        {
          "output_type": "display_data",
          "data": {
            "text/plain": [
              "<Figure size 1000x500 with 1 Axes>"
            ],
            "image/png": "[encoded data removed]"
          },
          "metadata": {}
        }
      ]
    },
    {
      "cell_type": "code",
      "source": [
        "for X, Y in test_dataloader:\n",
        "    X = X.to(device)\n",
        "    Y = Y.to(device)\n",
        "    h = gru_model.init_hidden(BATCH_SIZE)\n",
        "    h = tuple([each.data for each in h])\n",
        "    pred, h = gru_model(X, h)\n",
        "    print(f\"Shape of X: {tensor_to_sentence(X[10])}\")\n",
        "    print(f\"Shape of Y: {Y[10]}\")\n",
        "    print(f\"pred shape: {pred[10]}\")\n",
        "    x = X\n",
        "    y = Y\n",
        "    break"
      ],
      "metadata": {
        "colab": {
          "base_uri": "https://localhost:8080/"
        },
        "id": "JpKRhqFRBWA1",
        "outputId": "cdfb83cc-c962-4e49-b372-fbbc23b087a6"
      },
      "execution_count": 78,
      "outputs": [
        {
          "output_type": "stream",
          "name": "stdout",
          "text": [
            "Shape of X: isn the whole debate centered around the effects the said crops your health just the anti vaccine crowd diversifying also monsanto who keeps patenting everything and prevents farmers under threat litigation reuse seeds from last year wouldn this affect indian farmers who are mostly poor <pad> <pad> <pad> <pad> <pad>\n",
            "Shape of Y: 0\n",
            "pred shape: tensor([-3.4664, -1.9061,  4.8733], grad_fn=<SelectBackward0>)\n"
          ]
        }
      ]
    },
    {
      "cell_type": "code",
      "source": [
        "import numpy as np\n",
        "from sklearn.metrics import confusion_matrix,classification_report\n",
        "import seaborn as sns\n",
        "import matplotlib.pyplot as plt\n",
        "\n",
        "# Confusion Matrix on 1 batch in the validation set\n",
        "\n",
        "h = gru_model.init_hidden(BATCH_SIZE)\n",
        "h = tuple([each.data for each in h])\n",
        "predicted, h = gru_model(x, h)\n",
        "print(y)\n",
        "print(predicted.argmax(1))\n",
        "y = y.cpu().detach().numpy()\n",
        "cm = confusion_matrix(y, predicted.argmax(1).cpu().detach().numpy())\n",
        "sns.heatmap(cm,\n",
        "            annot=True,\n",
        "            fmt='g',\n",
        "            xticklabels=['Negative', 'Positive'],\n",
        "            yticklabels=['Negative', 'Positive'])\n",
        "plt.xlabel('Prediction',fontsize=13)\n",
        "plt.ylabel('Actual',fontsize=13)\n",
        "plt.title('Confusion Matrix',fontsize=17)\n",
        "plt.show()"
      ],
      "metadata": {
        "colab": {
          "base_uri": "https://localhost:8080/",
          "height": 550
        },
        "id": "nhy0FrX2Bgvx",
        "outputId": "e8bcffdb-4b58-404a-abb6-850b8ee0c7b5"
      },
      "execution_count": 79,
      "outputs": [
        {
          "output_type": "stream",
          "name": "stdout",
          "text": [
            "tensor([2, 1, 1, 0, 0, 1, 0, 1, 1, 2, 0, 2, 0, 2, 2, 2, 2, 2, 1, 2, 1, 2, 2, 0,\n",
            "        2, 0, 2, 1, 1, 1, 0, 2])\n",
            "tensor([1, 1, 1, 0, 0, 1, 0, 1, 1, 2, 2, 0, 0, 2, 2, 2, 2, 2, 1, 2, 1, 2, 2, 0,\n",
            "        2, 0, 2, 1, 1, 1, 0, 2])\n"
          ]
        },
        {
          "output_type": "display_data",
          "data": {
            "text/plain": [
              "<Figure size 640x480 with 2 Axes>"
            ],
            "image/png": "[encoded data removed]"
          },
          "metadata": {}
        }
      ]
    }
  ]
}