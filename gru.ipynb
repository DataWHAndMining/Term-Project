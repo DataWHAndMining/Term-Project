{
  "nbformat": 4,
  "nbformat_minor": 0,
  "metadata": {
    "colab": {
      "provenance": []
    },
    "kernelspec": {
      "name": "python3",
      "display_name": "Python 3"
    },
    "language_info": {
      "name": "python"
    }
  },
  "cells": [
    {
      "cell_type": "code",
      "source": [
        "from google.colab import drive\n",
        "drive.mount('/content/drive')"
      ],
      "metadata": {
        "colab": {
          "base_uri": "https://localhost:8080/"
        },
        "id": "o8Rm0HQT-V4C",
        "outputId": "035490d1-e0db-4a80-e7fa-6a09dcbdf469"
      },
      "execution_count": 1,
      "outputs": [
        {
          "output_type": "stream",
          "name": "stdout",
          "text": [
            "Mounted at /content/drive\n"
          ]
        }
      ]
    },
    {
      "cell_type": "code",
      "execution_count": 2,
      "metadata": {
        "colab": {
          "base_uri": "https://localhost:8080/"
        },
        "id": "8sMF2L238RMp",
        "outputId": "507910ef-722f-4e37-a072-e85617b68e95"
      },
      "outputs": [
        {
          "output_type": "stream",
          "name": "stderr",
          "text": [
            "/usr/local/lib/python3.10/dist-packages/torchtext/data/__init__.py:4: UserWarning: \n",
            "/!\\ IMPORTANT WARNING ABOUT TORCHTEXT STATUS /!\\ \n",
            "Torchtext is deprecated and the last released version will be 0.18 (this one). You can silence this warning by calling the following at the beginnign of your scripts: `import torchtext; torchtext.disable_torchtext_deprecation_warning()`\n",
            "  warnings.warn(torchtext._TORCHTEXT_DEPRECATION_MSG)\n"
          ]
        }
      ],
      "source": [
        "import torch.nn as nn\n",
        "import torch\n",
        "import pandas as pd\n",
        "import numpy as np\n",
        "import matplotlib.pyplot as plt\n",
        "from torchtext.data.utils import get_tokenizer\n",
        "from torch.utils.data import Dataset, DataLoader\n",
        "import re\n",
        "import nltk\n",
        "from nltk.corpus import stopwords\n",
        "from nltk.stem import SnowballStemmer\n",
        "\n",
        "from sklearn.model_selection import train_test_split"
      ]
    },
    {
      "cell_type": "code",
      "source": [
        "data_df = pd.read_csv(r\"/content/drive/MyDrive/Twitter_senti/twitter_training.csv\",header=None)\n"
      ],
      "metadata": {
        "id": "-5ZDkeZD-hwe",
        "colab": {
          "base_uri": "https://localhost:8080/",
          "height": 287
        },
        "outputId": "4a87bbf3-258f-4211-e2e6-645cabda5aa5"
      },
      "execution_count": 3,
      "outputs": [
        {
          "output_type": "error",
          "ename": "FileNotFoundError",
          "evalue": "[Errno 2] No such file or directory: '/content/drive/MyDrive/Twitter_senti/twitter_training.csv'",
          "traceback": [
            "\u001b[0;31m---------------------------------------------------------------------------\u001b[0m",
            "\u001b[0;31mFileNotFoundError\u001b[0m                         Traceback (most recent call last)",
            "\u001b[0;32m<ipython-input-3-ab62398feb6a>\u001b[0m in \u001b[0;36m<cell line: 1>\u001b[0;34m()\u001b[0m\n\u001b[0;32m----> 1\u001b[0;31m \u001b[0mdata_df\u001b[0m \u001b[0;34m=\u001b[0m \u001b[0mpd\u001b[0m\u001b[0;34m.\u001b[0m\u001b[0mread_csv\u001b[0m\u001b[0;34m(\u001b[0m\u001b[0;34mr\"/content/drive/MyDrive/Twitter_senti/twitter_training.csv\"\u001b[0m\u001b[0;34m,\u001b[0m\u001b[0mheader\u001b[0m\u001b[0;34m=\u001b[0m\u001b[0;32mNone\u001b[0m\u001b[0;34m)\u001b[0m\u001b[0;34m\u001b[0m\u001b[0;34m\u001b[0m\u001b[0m\n\u001b[0m",
            "\u001b[0;32m/usr/local/lib/python3.10/dist-packages/pandas/io/parsers/readers.py\u001b[0m in \u001b[0;36mread_csv\u001b[0;34m(filepath_or_buffer, sep, delimiter, header, names, index_col, usecols, dtype, engine, converters, true_values, false_values, skipinitialspace, skiprows, skipfooter, nrows, na_values, keep_default_na, na_filter, verbose, skip_blank_lines, parse_dates, infer_datetime_format, keep_date_col, date_parser, date_format, dayfirst, cache_dates, iterator, chunksize, compression, thousands, decimal, lineterminator, quotechar, quoting, doublequote, escapechar, comment, encoding, encoding_errors, dialect, on_bad_lines, delim_whitespace, low_memory, memory_map, float_precision, storage_options, dtype_backend)\u001b[0m\n\u001b[1;32m    910\u001b[0m     \u001b[0mkwds\u001b[0m\u001b[0;34m.\u001b[0m\u001b[0mupdate\u001b[0m\u001b[0;34m(\u001b[0m\u001b[0mkwds_defaults\u001b[0m\u001b[0;34m)\u001b[0m\u001b[0;34m\u001b[0m\u001b[0;34m\u001b[0m\u001b[0m\n\u001b[1;32m    911\u001b[0m \u001b[0;34m\u001b[0m\u001b[0m\n\u001b[0;32m--> 912\u001b[0;31m     \u001b[0;32mreturn\u001b[0m \u001b[0m_read\u001b[0m\u001b[0;34m(\u001b[0m\u001b[0mfilepath_or_buffer\u001b[0m\u001b[0;34m,\u001b[0m \u001b[0mkwds\u001b[0m\u001b[0;34m)\u001b[0m\u001b[0;34m\u001b[0m\u001b[0;34m\u001b[0m\u001b[0m\n\u001b[0m\u001b[1;32m    913\u001b[0m \u001b[0;34m\u001b[0m\u001b[0m\n\u001b[1;32m    914\u001b[0m \u001b[0;34m\u001b[0m\u001b[0m\n",
            "\u001b[0;32m/usr/local/lib/python3.10/dist-packages/pandas/io/parsers/readers.py\u001b[0m in \u001b[0;36m_read\u001b[0;34m(filepath_or_buffer, kwds)\u001b[0m\n\u001b[1;32m    575\u001b[0m \u001b[0;34m\u001b[0m\u001b[0m\n\u001b[1;32m    576\u001b[0m     \u001b[0;31m# Create the parser.\u001b[0m\u001b[0;34m\u001b[0m\u001b[0;34m\u001b[0m\u001b[0m\n\u001b[0;32m--> 577\u001b[0;31m     \u001b[0mparser\u001b[0m \u001b[0;34m=\u001b[0m \u001b[0mTextFileReader\u001b[0m\u001b[0;34m(\u001b[0m\u001b[0mfilepath_or_buffer\u001b[0m\u001b[0;34m,\u001b[0m \u001b[0;34m**\u001b[0m\u001b[0mkwds\u001b[0m\u001b[0;34m)\u001b[0m\u001b[0;34m\u001b[0m\u001b[0;34m\u001b[0m\u001b[0m\n\u001b[0m\u001b[1;32m    578\u001b[0m \u001b[0;34m\u001b[0m\u001b[0m\n\u001b[1;32m    579\u001b[0m     \u001b[0;32mif\u001b[0m \u001b[0mchunksize\u001b[0m \u001b[0;32mor\u001b[0m \u001b[0miterator\u001b[0m\u001b[0;34m:\u001b[0m\u001b[0;34m\u001b[0m\u001b[0;34m\u001b[0m\u001b[0m\n",
            "\u001b[0;32m/usr/local/lib/python3.10/dist-packages/pandas/io/parsers/readers.py\u001b[0m in \u001b[0;36m__init__\u001b[0;34m(self, f, engine, **kwds)\u001b[0m\n\u001b[1;32m   1405\u001b[0m \u001b[0;34m\u001b[0m\u001b[0m\n\u001b[1;32m   1406\u001b[0m         \u001b[0mself\u001b[0m\u001b[0;34m.\u001b[0m\u001b[0mhandles\u001b[0m\u001b[0;34m:\u001b[0m \u001b[0mIOHandles\u001b[0m \u001b[0;34m|\u001b[0m \u001b[0;32mNone\u001b[0m \u001b[0;34m=\u001b[0m \u001b[0;32mNone\u001b[0m\u001b[0;34m\u001b[0m\u001b[0;34m\u001b[0m\u001b[0m\n\u001b[0;32m-> 1407\u001b[0;31m         \u001b[0mself\u001b[0m\u001b[0;34m.\u001b[0m\u001b[0m_engine\u001b[0m \u001b[0;34m=\u001b[0m \u001b[0mself\u001b[0m\u001b[0;34m.\u001b[0m\u001b[0m_make_engine\u001b[0m\u001b[0;34m(\u001b[0m\u001b[0mf\u001b[0m\u001b[0;34m,\u001b[0m \u001b[0mself\u001b[0m\u001b[0;34m.\u001b[0m\u001b[0mengine\u001b[0m\u001b[0;34m)\u001b[0m\u001b[0;34m\u001b[0m\u001b[0;34m\u001b[0m\u001b[0m\n\u001b[0m\u001b[1;32m   1408\u001b[0m \u001b[0;34m\u001b[0m\u001b[0m\n\u001b[1;32m   1409\u001b[0m     \u001b[0;32mdef\u001b[0m \u001b[0mclose\u001b[0m\u001b[0;34m(\u001b[0m\u001b[0mself\u001b[0m\u001b[0;34m)\u001b[0m \u001b[0;34m->\u001b[0m \u001b[0;32mNone\u001b[0m\u001b[0;34m:\u001b[0m\u001b[0;34m\u001b[0m\u001b[0;34m\u001b[0m\u001b[0m\n",
            "\u001b[0;32m/usr/local/lib/python3.10/dist-packages/pandas/io/parsers/readers.py\u001b[0m in \u001b[0;36m_make_engine\u001b[0;34m(self, f, engine)\u001b[0m\n\u001b[1;32m   1659\u001b[0m                 \u001b[0;32mif\u001b[0m \u001b[0;34m\"b\"\u001b[0m \u001b[0;32mnot\u001b[0m \u001b[0;32min\u001b[0m \u001b[0mmode\u001b[0m\u001b[0;34m:\u001b[0m\u001b[0;34m\u001b[0m\u001b[0;34m\u001b[0m\u001b[0m\n\u001b[1;32m   1660\u001b[0m                     \u001b[0mmode\u001b[0m \u001b[0;34m+=\u001b[0m \u001b[0;34m\"b\"\u001b[0m\u001b[0;34m\u001b[0m\u001b[0;34m\u001b[0m\u001b[0m\n\u001b[0;32m-> 1661\u001b[0;31m             self.handles = get_handle(\n\u001b[0m\u001b[1;32m   1662\u001b[0m                 \u001b[0mf\u001b[0m\u001b[0;34m,\u001b[0m\u001b[0;34m\u001b[0m\u001b[0;34m\u001b[0m\u001b[0m\n\u001b[1;32m   1663\u001b[0m                 \u001b[0mmode\u001b[0m\u001b[0;34m,\u001b[0m\u001b[0;34m\u001b[0m\u001b[0;34m\u001b[0m\u001b[0m\n",
            "\u001b[0;32m/usr/local/lib/python3.10/dist-packages/pandas/io/common.py\u001b[0m in \u001b[0;36mget_handle\u001b[0;34m(path_or_buf, mode, encoding, compression, memory_map, is_text, errors, storage_options)\u001b[0m\n\u001b[1;32m    857\u001b[0m         \u001b[0;32mif\u001b[0m \u001b[0mioargs\u001b[0m\u001b[0;34m.\u001b[0m\u001b[0mencoding\u001b[0m \u001b[0;32mand\u001b[0m \u001b[0;34m\"b\"\u001b[0m \u001b[0;32mnot\u001b[0m \u001b[0;32min\u001b[0m \u001b[0mioargs\u001b[0m\u001b[0;34m.\u001b[0m\u001b[0mmode\u001b[0m\u001b[0;34m:\u001b[0m\u001b[0;34m\u001b[0m\u001b[0;34m\u001b[0m\u001b[0m\n\u001b[1;32m    858\u001b[0m             \u001b[0;31m# Encoding\u001b[0m\u001b[0;34m\u001b[0m\u001b[0;34m\u001b[0m\u001b[0m\n\u001b[0;32m--> 859\u001b[0;31m             handle = open(\n\u001b[0m\u001b[1;32m    860\u001b[0m                 \u001b[0mhandle\u001b[0m\u001b[0;34m,\u001b[0m\u001b[0;34m\u001b[0m\u001b[0;34m\u001b[0m\u001b[0m\n\u001b[1;32m    861\u001b[0m                 \u001b[0mioargs\u001b[0m\u001b[0;34m.\u001b[0m\u001b[0mmode\u001b[0m\u001b[0;34m,\u001b[0m\u001b[0;34m\u001b[0m\u001b[0;34m\u001b[0m\u001b[0m\n",
            "\u001b[0;31mFileNotFoundError\u001b[0m: [Errno 2] No such file or directory: '/content/drive/MyDrive/Twitter_senti/twitter_training.csv'"
          ]
        }
      ]
    },
    {
      "cell_type": "code",
      "source": [
        "from sklearn import preprocessing\n",
        "label_encoder = preprocessing.LabelEncoder()"
      ],
      "metadata": {
        "id": "CSlALnpq-sFJ"
      },
      "execution_count": null,
      "outputs": []
    },
    {
      "cell_type": "code",
      "source": [
        "data_df.dropna(inplace = True)\n",
        "data_df.drop_duplicates(inplace = True)\n",
        "data_df = data_df.drop(columns=data_df.columns[[0, 1]])\n",
        "new_column_names = ['label', 'text']\n",
        "data_df.columns = new_column_names\n",
        "data_df = data_df.loc[data_df['label'] != 'Irrelevant'].copy()\n",
        "data_df['label'] = label_encoder.fit_transform(data_df['label'])\n",
        "print(len(data_df))"
      ],
      "metadata": {
        "colab": {
          "base_uri": "https://localhost:8080/"
        },
        "id": "l9cbkRZN-4tw",
        "outputId": "4a54f747-274e-4ba0-cc6e-b5ebc47dda9c"
      },
      "execution_count": null,
      "outputs": [
        {
          "output_type": "stream",
          "name": "stdout",
          "text": [
            "59119\n"
          ]
        }
      ]
    },
    {
      "cell_type": "code",
      "source": [
        "data_df.head()\n",
        "\n",
        "emotions_count = data_df['label'].value_counts()\n",
        "plt.bar(list(emotions_count.keys()), list(emotions_count), color='teal')\n",
        "plt.xlabel(\"Sentiment\",)\n",
        "plt.ylabel('Count')\n",
        "plt.title('Emotions Count')\n",
        "plt.show()\n",
        "print(list(emotions_count))"
      ],
      "metadata": {
        "colab": {
          "base_uri": "https://localhost:8080/",
          "height": 489
        },
        "id": "894TLJDL_AOF",
        "outputId": "f77b3619-d85c-4ef3-dc59-8350be5e719a"
      },
      "execution_count": null,
      "outputs": [
        {
          "output_type": "display_data",
          "data": {
            "text/plain": [
              "<Figure size 640x480 with 1 Axes>"
            ],
            "image/png": "[encoded data removed]"
          },
          "metadata": {}
        },
        {
          "output_type": "stream",
          "name": "stdout",
          "text": [
            "[21698, 19713, 17708]\n"
          ]
        }
      ]
    },
    {
      "cell_type": "code",
      "source": [
        "nltk.download('stopwords')\n",
        "stop_words = stopwords.words(\"english\")\n",
        "stemmer = SnowballStemmer(\"english\")\n",
        "\n",
        "def clean_text(text, stem=True):\n",
        "    text = re.sub(r'http\\S+|www\\S+|https\\S+', '', text, flags=re.MULTILINE)\n",
        "    text = re.sub(r'[^A-Za-z\\s]', '', text)\n",
        "    text = re.sub(r'\\s+', ' ', text).strip()\n",
        "    text = text.lower()\n",
        "    tokens = []\n",
        "    for token in text.split():\n",
        "        if token not in stop_words:\n",
        "            if stem:\n",
        "                tokens.append(stemmer.stem(token))\n",
        "            else:\n",
        "                tokens.append(token)\n",
        "    return text\n",
        "\n",
        "\n",
        "\n",
        "tokenizer = get_tokenizer('basic_english')\n",
        "train_data = data_df['text'].apply(clean_text).apply(tokenizer)\n",
        "data_df['tokens'] = train_data\n",
        "print(data_df['tokens'][:4])\n",
        "print(data_df['label'][:4])\n"
      ],
      "metadata": {
        "colab": {
          "base_uri": "https://localhost:8080/"
        },
        "id": "-MzVgGBm_E_s",
        "outputId": "234c8cdd-94f1-4c73-a478-966aba03fca2"
      },
      "execution_count": null,
      "outputs": [
        {
          "output_type": "stream",
          "name": "stderr",
          "text": [
            "[nltk_data] Downloading package stopwords to /root/nltk_data...\n",
            "[nltk_data]   Unzipping corpora/stopwords.zip.\n"
          ]
        },
        {
          "output_type": "stream",
          "name": "stdout",
          "text": [
            "0    [im, getting, on, borderlands, and, i, will, m...\n",
            "1    [i, am, coming, to, the, borders, and, i, will...\n",
            "2    [im, getting, on, borderlands, and, i, will, k...\n",
            "3    [im, coming, on, borderlands, and, i, will, mu...\n",
            "Name: tokens, dtype: object\n",
            "0    2\n",
            "1    2\n",
            "2    2\n",
            "3    2\n",
            "Name: label, dtype: int64\n"
          ]
        }
      ]
    },
    {
      "cell_type": "code",
      "source": [
        "from sklearn.model_selection import train_test_split\n",
        "\n",
        "train_df, test_df = train_test_split(data_df, test_size=0.2, shuffle=True, random_state = 123)\n",
        "print(train_df['label'].value_counts())\n",
        "print(test_df['label'].value_counts())"
      ],
      "metadata": {
        "colab": {
          "base_uri": "https://localhost:8080/"
        },
        "id": "KEDuAgjj_PAU",
        "outputId": "44c99861-bd62-4de4-c2ab-4d66966c3f31"
      },
      "execution_count": null,
      "outputs": [
        {
          "output_type": "stream",
          "name": "stdout",
          "text": [
            "label\n",
            "0    17421\n",
            "2    15802\n",
            "1    14072\n",
            "Name: count, dtype: int64\n",
            "label\n",
            "0    4277\n",
            "2    3911\n",
            "1    3636\n",
            "Name: count, dtype: int64\n"
          ]
        }
      ]
    },
    {
      "cell_type": "code",
      "source": [
        "def build_vocab(texts):\n",
        "        all_tokens = [token for text in texts for token in text]\n",
        "        vocab = {token: idx for idx, token in enumerate(set(all_tokens))}\n",
        "        vocab['<pad>'] = len(vocab)\n",
        "        print(f\"Vocabulary Length is: {len(vocab)}\")\n",
        "        return vocab, len(vocab)\n",
        "\n",
        "vocab, VOCAB_SIZE = build_vocab(train_data)"
      ],
      "metadata": {
        "colab": {
          "base_uri": "https://localhost:8080/"
        },
        "id": "gk1tnwX0_WnJ",
        "outputId": "9a050d1b-5119-446b-fede-e1bc8d9e0c65"
      },
      "execution_count": null,
      "outputs": [
        {
          "output_type": "stream",
          "name": "stdout",
          "text": [
            "Vocabulary Length is: 32475\n"
          ]
        }
      ]
    },
    {
      "cell_type": "code",
      "source": [
        "BATCH_SIZE = 32\n",
        "HIDDEN_DIM = 256\n",
        "MAX_LEN = 50\n",
        "EMBED_DIM = 128\n",
        "pad_index = vocab[\"<pad>\"]"
      ],
      "metadata": {
        "id": "ww8rveRx_bSA"
      },
      "execution_count": null,
      "outputs": []
    },
    {
      "cell_type": "code",
      "source": [
        "class TextDataset(Dataset):\n",
        "    def __init__(self, texts, labels, vocab=None, max_len = MAX_LEN, pad_token = '<pad>'):\n",
        "        self.texts = texts\n",
        "        self.pad_token = pad_token\n",
        "        self.max_length = max_len\n",
        "        self.labels = labels\n",
        "        self.vocab = vocab\n",
        "\n",
        "    def text_to_tensor(self, text):\n",
        "        text_indices = [self.vocab.get(token) for token in text]\n",
        "\n",
        "        if len(text_indices) < self.max_length:\n",
        "            text_indices = text_indices + [self.vocab[self.pad_token]] * (self.max_length - len(text_indices))\n",
        "        else:\n",
        "            text_indices = text_indices[:self.max_length]\n",
        "        return torch.tensor(text_indices, dtype=torch.long)\n",
        "\n",
        "    def label_to_tensor(self, label):\n",
        "        return torch.tensor(label, dtype=torch.long)\n",
        "\n",
        "    def __len__(self):\n",
        "        return len(self.texts)\n",
        "\n",
        "    def __getitem__(self, idx):\n",
        "        text = self.texts[idx]\n",
        "        label = self.labels[idx]\n",
        "        return self.text_to_tensor(text), self.label_to_tensor(label)\n",
        "\n",
        "train_dataset = TextDataset(train_df['tokens'].tolist(), train_df['label'].tolist(), vocab = vocab)\n",
        "test_dataset = TextDataset(test_df['tokens'].tolist(), test_df['label'].tolist(), vocab = vocab)\n",
        "\n",
        "for text_tensor, label_tensor in test_dataset:\n",
        "    print(f\"text_tensor: {text_tensor}\")\n",
        "    print(f\"label_tensor: {label_tensor}\")\n",
        "    tokenized_tensor = text_tensor\n",
        "    break\n"
      ],
      "metadata": {
        "colab": {
          "base_uri": "https://localhost:8080/"
        },
        "id": "WYzSNWdD_ncw",
        "outputId": "b9d7aa66-a38c-4736-bc53-60e9b48ed9e2"
      },
      "execution_count": null,
      "outputs": [
        {
          "output_type": "stream",
          "name": "stdout",
          "text": [
            "text_tensor: tensor([24449, 17007, 14545, 20597, 11513,   989,  3096, 20597, 14409, 25084,\n",
            "        10192, 23050,  2204,  9097, 32474, 32474, 32474, 32474, 32474, 32474,\n",
            "        32474, 32474, 32474, 32474, 32474, 32474, 32474, 32474, 32474, 32474,\n",
            "        32474, 32474, 32474, 32474, 32474, 32474, 32474, 32474, 32474, 32474,\n",
            "        32474, 32474, 32474, 32474, 32474, 32474, 32474, 32474, 32474, 32474])\n",
            "label_tensor: 1\n"
          ]
        }
      ]
    },
    {
      "cell_type": "code",
      "source": [
        "reverse_vocab = {v: k for k, v in vocab.items()}\n",
        "\n",
        "# Function to convert tensor to sentence\n",
        "def tensor_to_sentence(tensor):\n",
        "    tokens = [reverse_vocab[idx.item()] for idx in tensor if idx.item() in reverse_vocab]\n",
        "    return ' '.join(tokens)\n",
        "\n",
        "print(tensor_to_sentence(tokenized_tensor))"
      ],
      "metadata": {
        "colab": {
          "base_uri": "https://localhost:8080/"
        },
        "id": "2XvOoWG0_ql6",
        "outputId": "11efc730-0d42-4e33-bdcc-853257f879b0"
      },
      "execution_count": null,
      "outputs": [
        {
          "output_type": "stream",
          "name": "stdout",
          "text": [
            "dota three of the strongest players at the leipzig major esports for us esportsforuscomdotathreeo <pad> <pad> <pad> <pad> <pad> <pad> <pad> <pad> <pad> <pad> <pad> <pad> <pad> <pad> <pad> <pad> <pad> <pad> <pad> <pad> <pad> <pad> <pad> <pad> <pad> <pad> <pad> <pad> <pad> <pad> <pad> <pad> <pad> <pad> <pad> <pad>\n"
          ]
        }
      ]
    },
    {
      "cell_type": "code",
      "source": [
        "device = ('cuda'\n",
        "          if torch.cuda.is_available()\n",
        "          else \"mps\"\n",
        "          if torch.backends.mps.is_available()\n",
        "          else \"cpu\"\n",
        "          )\n",
        "\n",
        "\n",
        "print(f\"Using Device: {device}\")\n",
        "\n",
        "train_dataloader = DataLoader(train_dataset, batch_size = BATCH_SIZE)\n",
        "test_dataloader = DataLoader(test_dataset, batch_size = BATCH_SIZE)\n",
        "\n",
        "n = 0\n",
        "for X, Y in test_dataloader:\n",
        "    n+=1\n",
        "    if n > 5:\n",
        "        break\n",
        "    else:\n",
        "        print(f\"Shape of X: {tensor_to_sentence(X[0])}\")\n",
        "        print(f\"Shape of Y: {Y[0]}\")"
      ],
      "metadata": {
        "colab": {
          "base_uri": "https://localhost:8080/"
        },
        "id": "uDb2BfDF_4hA",
        "outputId": "3927e57b-001f-439e-edd2-69b45ef7a946"
      },
      "execution_count": null,
      "outputs": [
        {
          "output_type": "stream",
          "name": "stdout",
          "text": [
            "Using Device: cpu\n",
            "Shape of X: dota three of the strongest players at the leipzig major esports for us esportsforuscomdotathreeo <pad> <pad> <pad> <pad> <pad> <pad> <pad> <pad> <pad> <pad> <pad> <pad> <pad> <pad> <pad> <pad> <pad> <pad> <pad> <pad> <pad> <pad> <pad> <pad> <pad> <pad> <pad> <pad> <pad> <pad> <pad> <pad> <pad> <pad> <pad> <pad>\n",
            "Shape of Y: 1\n",
            "Shape of X: i also die for kindred <pad> <pad> <pad> <pad> <pad> <pad> <pad> <pad> <pad> <pad> <pad> <pad> <pad> <pad> <pad> <pad> <pad> <pad> <pad> <pad> <pad> <pad> <pad> <pad> <pad> <pad> <pad> <pad> <pad> <pad> <pad> <pad> <pad> <pad> <pad> <pad> <pad> <pad> <pad> <pad> <pad> <pad> <pad> <pad> <pad>\n",
            "Shape of Y: 2\n",
            "Shape of X: odd rogue wild used this to hit legend times this month winrate the oneofs are flex spots there are a lot of good cards you can swap in and out in wild this final version is the best i think playhearthstone pictwittercomvefmebmj <pad> <pad> <pad> <pad> <pad> <pad> <pad> <pad>\n",
            "Shape of Y: 2\n",
            "Shape of X: all of these are me i wore tannis and handsome jack from borderlands at <pad> <pad> <pad> <pad> <pad> <pad> <pad> <pad> <pad> <pad> <pad> <pad> <pad> <pad> <pad> <pad> <pad> <pad> <pad> <pad> <pad> <pad> <pad> <pad> <pad> <pad> <pad> <pad> <pad> <pad> <pad> <pad> <pad> <pad> <pad> <pad>\n",
            "Shape of Y: 2\n",
            "Shape of X: she lets in fucking of goooooooooo <pad> <pad> <pad> <pad> <pad> <pad> <pad> <pad> <pad> <pad> <pad> <pad> <pad> <pad> <pad> <pad> <pad> <pad> <pad> <pad> <pad> <pad> <pad> <pad> <pad> <pad> <pad> <pad> <pad> <pad> <pad> <pad> <pad> <pad> <pad> <pad> <pad> <pad> <pad> <pad> <pad> <pad> <pad> <pad>\n",
            "Shape of Y: 2\n"
          ]
        }
      ]
    },
    {
      "cell_type": "code",
      "source": [
        "class GRUModel(nn.Module):\n",
        "    def __init__(self):\n",
        "            super().__init__()\n",
        "            self.embedding = nn.Embedding(VOCAB_SIZE, EMBED_DIM)\n",
        "            self.gru = nn.GRU(EMBED_DIM, HIDDEN_DIM, dropout=0.3, batch_first=True)\n",
        "            self.fc = nn.Linear(HIDDEN_DIM, 3)\n",
        "            self.dropout = nn.Dropout(0.3)\n",
        "            self.sigmoid = nn.Sigmoid()\n",
        "            self.no_layers = 1\n",
        "\n",
        "\n",
        "\n",
        "    def forward(self, x, hidden):\n",
        "            batch_size = x.size(0)\n",
        "            embedded = self.embedding(x)\n",
        "            output, hidden = self.gru(embedded)\n",
        "            output = self.dropout(output[:, -1])\n",
        "            output = self.fc(output)\n",
        "\n",
        "\n",
        "            return output, hidden\n",
        "\n",
        "    def init_hidden(self, batch_size):\n",
        "\n",
        "        h0 = torch.zeros((self.no_layers,batch_size,HIDDEN_DIM)).to(device)\n",
        "        c0 = torch.zeros((self.no_layers,batch_size,HIDDEN_DIM)).to(device)\n",
        "        hidden = (h0,c0)\n",
        "        return hidden"
      ],
      "metadata": {
        "id": "eYwkWCdsABxw"
      },
      "execution_count": null,
      "outputs": []
    },
    {
      "cell_type": "code",
      "source": [
        "gru_model = GRUModel().to(device)\n",
        "print(gru_model)"
      ],
      "metadata": {
        "colab": {
          "base_uri": "https://localhost:8080/"
        },
        "id": "5c9pfD_wALhc",
        "outputId": "f40a9c2e-f13e-488c-c712-b82c2931e45f"
      },
      "execution_count": null,
      "outputs": [
        {
          "output_type": "stream",
          "name": "stdout",
          "text": [
            "GRUModel(\n",
            "  (embedding): Embedding(32475, 128)\n",
            "  (gru): GRU(128, 256, batch_first=True, dropout=0.3)\n",
            "  (fc): Linear(in_features=256, out_features=3, bias=True)\n",
            "  (dropout): Dropout(p=0.3, inplace=False)\n",
            "  (sigmoid): Sigmoid()\n",
            ")\n"
          ]
        },
        {
          "output_type": "stream",
          "name": "stderr",
          "text": [
            "/usr/local/lib/python3.10/dist-packages/torch/nn/modules/rnn.py:83: UserWarning: dropout option adds dropout after all but last recurrent layer, so non-zero dropout expects num_layers greater than 1, but got dropout=0.3 and num_layers=1\n",
            "  warnings.warn(\"dropout option adds dropout after all but last \"\n"
          ]
        }
      ]
    },
    {
      "cell_type": "code",
      "source": [
        "for X, Y in test_dataloader:\n",
        "    X = X.to(device)\n",
        "    Y = Y.to(device)\n",
        "    h = gru_model.init_hidden(BATCH_SIZE)\n",
        "    h = tuple([each.data for each in h])\n",
        "    pred, h = gru_model(X, h)\n",
        "    print(f\"Shape of X: {tensor_to_sentence(X[1])}\")\n",
        "    print(f\"Shape of Y: {Y.shape}\")\n",
        "    print(f\"pred shape: {pred.shape}\")\n",
        "    break"
      ],
      "metadata": {
        "colab": {
          "base_uri": "https://localhost:8080/"
        },
        "id": "dcDocIprAMry",
        "outputId": "1f5600f5-ef96-481e-dd19-a1c3d779a348"
      },
      "execution_count": null,
      "outputs": [
        {
          "output_type": "stream",
          "name": "stdout",
          "text": [
            "Shape of X: the borderlands ports on switch are so good that i have no complaints its definitely worth it i cant wait to get bioshock collection next <pad> <pad> <pad> <pad> <pad> <pad> <pad> <pad> <pad> <pad> <pad> <pad> <pad> <pad> <pad> <pad> <pad> <pad> <pad> <pad> <pad> <pad> <pad> <pad> <pad>\n",
            "Shape of Y: torch.Size([32])\n",
            "pred shape: torch.Size([32, 3])\n"
          ]
        }
      ]
    },
    {
      "cell_type": "code",
      "source": [
        "loss_func_gru = torch.nn.CrossEntropyLoss().to(device)\n",
        "optimizer_gru = torch.optim.Adam(gru_model.parameters(), lr=1e-3)"
      ],
      "metadata": {
        "id": "SiNMCV7UAcPv"
      },
      "execution_count": null,
      "outputs": []
    },
    {
      "cell_type": "code",
      "source": [
        "def get_accuracy(pred,label):\n",
        "    pred = pred.argmax(1)\n",
        "    return torch.sum(pred == label).item()"
      ],
      "metadata": {
        "id": "BKFIT1JKAfuR"
      },
      "execution_count": null,
      "outputs": []
    },
    {
      "cell_type": "code",
      "source": [
        "CLIP = 1\n",
        "\n",
        "def train(dataloader, model, loss_fn, optimizer, train_losses):\n",
        "    size = len(dataloader.dataset)\n",
        "    model.train()\n",
        "    h = model.init_hidden(BATCH_SIZE)\n",
        "    loss_sum = 0\n",
        "    accuracy = 0\n",
        "    num_batches = len(dataloader)\n",
        "    for batch, (x, y) in enumerate(dataloader):\n",
        "        x, y = x.to(device), y.to(device)\n",
        "        h = tuple([each.data for each in h])\n",
        "        pred, h = model(x, h)\n",
        "        loss = loss_fn(pred, y)\n",
        "        loss_sum += loss.item()\n",
        "        loss.backward()\n",
        "        torch.nn.utils.clip_grad_norm_(model.parameters(), CLIP)\n",
        "        optimizer.step()\n",
        "        optimizer.zero_grad()\n",
        "        accuracy += get_accuracy(pred, y)\n",
        "        if batch % 200 == 0:\n",
        "            loss, current = loss.item(), (batch + 1) * len(x)\n",
        "            print(f\"loss: {loss:>7f} [{current:>5d}/{size:>5d}]\")\n",
        "\n",
        "    mean_loss = loss_sum / num_batches\n",
        "    accuracy /= size\n",
        "    train_losses.append(mean_loss)\n",
        "    print(f\"Training loss: {mean_loss:>7f}\")\n",
        "    print(f\"Training accuracy: {(accuracy*100):>7f}\")\n",
        "\n"
      ],
      "metadata": {
        "id": "lpaI5tB9AtTC"
      },
      "execution_count": null,
      "outputs": []
    },
    {
      "cell_type": "code",
      "source": [
        "def test(dataloader, model, loss_fn, test_losses):\n",
        "    size = len(dataloader.dataset)\n",
        "    num_batches = len(dataloader)\n",
        "    model.eval()\n",
        "    test_loss, accuracy = 0, 0\n",
        "    h = model.init_hidden(BATCH_SIZE)\n",
        "    with torch.no_grad():\n",
        "        for x, y in dataloader:\n",
        "            x, y = x.to(device), y.to(device)\n",
        "            h = tuple([each.data for each in h])\n",
        "            pred, h = model(x, h)\n",
        "            test_loss += loss_fn(pred, y).item()\n",
        "            accuracy += get_accuracy(pred, y)\n",
        "    test_loss /= num_batches\n",
        "    accuracy /= size\n",
        "    print(\"________\")\n",
        "    print(f\"Test loss: {test_loss:>7f}\")\n",
        "    print(f\"Test accuracy: {(accuracy*100):>0.1f}%\")\n",
        "    test_losses.append(test_loss)"
      ],
      "metadata": {
        "id": "inoUv0SOA0zR"
      },
      "execution_count": null,
      "outputs": []
    },
    {
      "cell_type": "code",
      "source": [
        "train_losses = []\n",
        "test_losses = []\n",
        "\n",
        "for i in range(10):\n",
        "    print(f'Epoch {i} -----------------------------------')\n",
        "    train(train_dataloader, gru_model, loss_func_gru, optimizer_gru, train_losses)\n",
        "    test(test_dataloader, gru_model, loss_func_gru, test_losses)\n",
        "\n",
        "print('Finished Training')"
      ],
      "metadata": {
        "colab": {
          "base_uri": "https://localhost:8080/"
        },
        "id": "0uCynycmA8VZ",
        "outputId": "6f821761-3721-4ac9-edda-bef71219827c"
      },
      "execution_count": null,
      "outputs": [
        {
          "output_type": "stream",
          "name": "stdout",
          "text": [
            "Epoch 0 -----------------------------------\n",
            "loss: 1.108492 [   32/47295]\n",
            "loss: 1.152701 [ 6432/47295]\n",
            "loss: 0.717768 [12832/47295]\n",
            "loss: 0.811162 [19232/47295]\n",
            "loss: 0.794553 [25632/47295]\n",
            "loss: 0.935500 [32032/47295]\n",
            "loss: 0.598648 [38432/47295]\n",
            "loss: 0.715514 [44832/47295]\n",
            "Training loss: 0.847969\n",
            "Training accuracy: 60.207210\n",
            "________\n",
            "Test loss: 0.623610\n",
            "Test accuracy: 74.0%\n",
            "Epoch 1 -----------------------------------\n",
            "loss: 0.550792 [   32/47295]\n",
            "loss: 0.749802 [ 6432/47295]\n",
            "loss: 0.251407 [12832/47295]\n",
            "loss: 0.456569 [19232/47295]\n",
            "loss: 0.373775 [25632/47295]\n",
            "loss: 0.487079 [32032/47295]\n",
            "loss: 0.255828 [38432/47295]\n",
            "loss: 0.434199 [44832/47295]\n",
            "Training loss: 0.442671\n",
            "Training accuracy: 82.514008\n",
            "________\n",
            "Test loss: 0.446704\n",
            "Test accuracy: 82.8%\n",
            "Epoch 2 -----------------------------------\n",
            "loss: 0.310158 [   32/47295]\n",
            "loss: 0.360658 [ 6432/47295]\n",
            "loss: 0.090528 [12832/47295]\n",
            "loss: 0.154634 [19232/47295]\n",
            "loss: 0.101211 [25632/47295]\n",
            "loss: 0.363309 [32032/47295]\n",
            "loss: 0.155581 [38432/47295]\n",
            "loss: 0.347385 [44832/47295]\n",
            "Training loss: 0.210977\n",
            "Training accuracy: 92.005497\n",
            "________\n",
            "Test loss: 0.411637\n",
            "Test accuracy: 85.9%\n",
            "Epoch 3 -----------------------------------\n",
            "loss: 0.178661 [   32/47295]\n",
            "loss: 0.073118 [ 6432/47295]\n",
            "loss: 0.028050 [12832/47295]\n",
            "loss: 0.160633 [19232/47295]\n",
            "loss: 0.015261 [25632/47295]\n",
            "loss: 0.134952 [32032/47295]\n",
            "loss: 0.372535 [38432/47295]\n",
            "loss: 0.136644 [44832/47295]\n",
            "Training loss: 0.123225\n",
            "Training accuracy: 95.327202\n",
            "________\n",
            "Test loss: 0.450999\n",
            "Test accuracy: 87.2%\n",
            "Epoch 4 -----------------------------------\n",
            "loss: 0.297264 [   32/47295]\n",
            "loss: 0.012686 [ 6432/47295]\n",
            "loss: 0.013258 [12832/47295]\n",
            "loss: 0.179222 [19232/47295]\n",
            "loss: 0.030985 [25632/47295]\n",
            "loss: 0.063500 [32032/47295]\n",
            "loss: 0.180417 [38432/47295]\n",
            "loss: 0.193355 [44832/47295]\n",
            "Training loss: 0.093927\n",
            "Training accuracy: 96.337879\n",
            "________\n",
            "Test loss: 0.490879\n",
            "Test accuracy: 87.3%\n",
            "Epoch 5 -----------------------------------\n",
            "loss: 0.118958 [   32/47295]\n",
            "loss: 0.032068 [ 6432/47295]\n",
            "loss: 0.094838 [12832/47295]\n",
            "loss: 0.118405 [19232/47295]\n",
            "loss: 0.005127 [25632/47295]\n",
            "loss: 0.002699 [32032/47295]\n",
            "loss: 0.209145 [38432/47295]\n",
            "loss: 0.008630 [44832/47295]\n",
            "Training loss: 0.077995\n",
            "Training accuracy: 96.813617\n",
            "________\n",
            "Test loss: 0.523312\n",
            "Test accuracy: 87.3%\n",
            "Epoch 6 -----------------------------------\n",
            "loss: 0.078866 [   32/47295]\n",
            "loss: 0.083201 [ 6432/47295]\n",
            "loss: 0.003088 [12832/47295]\n",
            "loss: 0.236912 [19232/47295]\n",
            "loss: 0.185314 [25632/47295]\n",
            "loss: 0.007051 [32032/47295]\n",
            "loss: 0.138234 [38432/47295]\n",
            "loss: 0.002273 [44832/47295]\n",
            "Training loss: 0.069707\n",
            "Training accuracy: 97.084258\n",
            "________\n",
            "Test loss: 0.512976\n",
            "Test accuracy: 87.9%\n",
            "Epoch 7 -----------------------------------\n",
            "loss: 0.134696 [   32/47295]\n",
            "loss: 0.005989 [ 6432/47295]\n",
            "loss: 0.001946 [12832/47295]\n",
            "loss: 0.334677 [19232/47295]\n",
            "loss: 0.131708 [25632/47295]\n",
            "loss: 0.004919 [32032/47295]\n",
            "loss: 0.199621 [38432/47295]\n",
            "loss: 0.027943 [44832/47295]\n",
            "Training loss: 0.069632\n",
            "Training accuracy: 97.151919\n",
            "________\n",
            "Test loss: 0.522729\n",
            "Test accuracy: 88.4%\n",
            "Epoch 8 -----------------------------------\n",
            "loss: 0.147547 [   32/47295]\n",
            "loss: 0.002368 [ 6432/47295]\n",
            "loss: 0.002180 [12832/47295]\n",
            "loss: 0.135680 [19232/47295]\n",
            "loss: 0.001121 [25632/47295]\n",
            "loss: 0.083219 [32032/47295]\n",
            "loss: 0.164058 [38432/47295]\n",
            "loss: 0.002342 [44832/47295]\n",
            "Training loss: 0.063208\n",
            "Training accuracy: 97.304155\n",
            "________\n",
            "Test loss: 0.524748\n",
            "Test accuracy: 88.3%\n",
            "Epoch 9 -----------------------------------\n",
            "loss: 0.078732 [   32/47295]\n",
            "loss: 0.001720 [ 6432/47295]\n",
            "loss: 0.001812 [12832/47295]\n",
            "loss: 0.084689 [19232/47295]\n",
            "loss: 0.157883 [25632/47295]\n",
            "loss: 0.011548 [32032/47295]\n",
            "loss: 0.116065 [38432/47295]\n",
            "loss: 0.002302 [44832/47295]\n",
            "Training loss: 0.060671\n",
            "Training accuracy: 97.390845\n",
            "________\n",
            "Test loss: 0.524301\n",
            "Test accuracy: 88.5%\n",
            "Finished Training\n"
          ]
        }
      ]
    },
    {
      "cell_type": "code",
      "source": [
        "print(train_losses)\n"
      ],
      "metadata": {
        "id": "5g2T0IvqBGAL"
      },
      "execution_count": null,
      "outputs": []
    },
    {
      "cell_type": "code",
      "source": [
        "plt.figure(figsize=(10, 5))\n",
        "plt.plot(train_losses, label='Training Loss')\n",
        "plt.plot(test_losses, label='Val Loss')\n",
        "plt.xlabel('Epoch')\n",
        "plt.ylabel('Loss')\n",
        "plt.title('Training and Validation Loss Over Epochs')\n",
        "plt.legend()\n",
        "plt.show()"
      ],
      "metadata": {
        "id": "IDTdwOIQBVLu"
      },
      "execution_count": null,
      "outputs": []
    },
    {
      "cell_type": "code",
      "source": [
        "for X, Y in test_dataloader:\n",
        "    X = X.to(device)\n",
        "    Y = Y.to(device)\n",
        "    h = gru_model.init_hidden(BATCH_SIZE)\n",
        "    h = tuple([each.data for each in h])\n",
        "    pred, h = gru_model(X, h)\n",
        "    print(f\"Shape of X: {tensor_to_sentence(X[10])}\")\n",
        "    print(f\"Shape of Y: {Y[10]}\")\n",
        "    print(f\"pred shape: {pred[10]}\")\n",
        "    x = X\n",
        "    y = Y\n",
        "    break"
      ],
      "metadata": {
        "colab": {
          "base_uri": "https://localhost:8080/"
        },
        "id": "JpKRhqFRBWA1",
        "outputId": "e5f3a130-4a57-41fc-92c0-6e95bf2604c4"
      },
      "execution_count": null,
      "outputs": [
        {
          "output_type": "stream",
          "name": "stdout",
          "text": [
            "Shape of X: grand theft city one hold ps youtubetvdwipwlzxm <pad> <pad> <pad> <pad> <pad> <pad> <pad> <pad> <pad> <pad> <pad> <pad> <pad> <pad> <pad> <pad> <pad> <pad> <pad> <pad> <pad> <pad> <pad> <pad> <pad> <pad> <pad> <pad> <pad> <pad> <pad> <pad> <pad> <pad> <pad> <pad> <pad> <pad> <pad> <pad> <pad> <pad> <pad>\n",
            "Shape of Y: 1\n",
            "pred shape: tensor([-2.2174, -1.4602,  4.2927], grad_fn=<SelectBackward0>)\n"
          ]
        }
      ]
    },
    {
      "cell_type": "code",
      "source": [
        "import numpy as np\n",
        "from sklearn.metrics import confusion_matrix,classification_report\n",
        "import seaborn as sns\n",
        "import matplotlib.pyplot as plt\n",
        "\n",
        "# Confusion Matrix on 1 batch in the validation set\n",
        "\n",
        "h = gru_model.init_hidden(BATCH_SIZE)\n",
        "h = tuple([each.data for each in h])\n",
        "predicted, h = gru_model(x, h)\n",
        "print(y)\n",
        "print(predicted.argmax(1))\n",
        "y = y.cpu().detach().numpy()\n",
        "cm = confusion_matrix(y, predicted.argmax(1).cpu().detach().numpy())\n",
        "sns.heatmap(cm,\n",
        "            annot=True,\n",
        "            fmt='g',\n",
        "            xticklabels=['Negative', 'Positive'],\n",
        "            yticklabels=['Negative', 'Positive'])\n",
        "plt.xlabel('Prediction',fontsize=13)\n",
        "plt.ylabel('Actual',fontsize=13)\n",
        "plt.title('Confusion Matrix',fontsize=17)\n",
        "plt.show()"
      ],
      "metadata": {
        "colab": {
          "base_uri": "https://localhost:8080/",
          "height": 550
        },
        "id": "nhy0FrX2Bgvx",
        "outputId": "db503d4d-519d-423b-e1a1-192c9200e488"
      },
      "execution_count": null,
      "outputs": [
        {
          "output_type": "stream",
          "name": "stdout",
          "text": [
            "tensor([1, 1, 0, 2, 0, 2, 0, 0, 0, 1, 1, 1, 2, 0, 2, 0, 0, 0, 1, 1, 1, 2, 1, 1,\n",
            "        2, 1, 2, 2, 1, 0, 0, 1])\n",
            "tensor([1, 1, 0, 2, 0, 2, 0, 0, 0, 1, 2, 1, 2, 0, 2, 0, 0, 0, 1, 1, 2, 2, 1, 1,\n",
            "        2, 1, 2, 2, 0, 0, 0, 1])\n"
          ]
        },
        {
          "output_type": "display_data",
          "data": {
            "text/plain": [
              "<Figure size 640x480 with 2 Axes>"
            ],
            "image/png": "[encoded data removed]"
          },
          "metadata": {}
        }
      ]
    }
  ]
}