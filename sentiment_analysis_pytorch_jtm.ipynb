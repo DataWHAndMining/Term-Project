{
  "metadata": {
    "kernelspec": {
      "display_name": "Python 3",
      "name": "python3"
    },
    "language_info": {
      "name": "python",
      "version": "3.10.13",
      "mimetype": "text/x-python",
      "codemirror_mode": {
        "name": "ipython",
        "version": 3
      },
      "pygments_lexer": "ipython3",
      "nbconvert_exporter": "python",
      "file_extension": ".py"
    },
    "kaggle": {
      "accelerator": "nvidiaTeslaT4",
      "dataSources": [
        {
          "sourceId": 2510329,
          "sourceType": "datasetVersion",
          "datasetId": 1520310
        }
      ],
      "dockerImageVersionId": 30747,
      "isInternetEnabled": true,
      "language": "python",
      "sourceType": "notebook",
      "isGpuEnabled": true
    },
    "colab": {
      "provenance": [],
      "machine_shape": "hm",
      "gpuType": "A100"
    },
    "accelerator": "GPU"
  },
  "nbformat_minor": 0,
  "nbformat": 4,
  "cells": [
    {
      "cell_type": "markdown",
      "source": [
        "Adapter from:\n",
        "\n",
        "https://github.com/bentrevett/pytorch-sentiment-analysis/blob/main/2%20-%20Recurrent%20Neural%20Networks.ipynb"
      ],
      "metadata": {
        "id": "eaxQVJ3FFvC0"
      }
    },
    {
      "cell_type": "code",
      "source": [
        "import pandas as pd\n",
        "import numpy as np\n",
        "\n",
        "import torch\n",
        "import torch.nn.functional as F\n",
        "from torch import nn\n",
        "import torch.optim as optim\n",
        "from torch.utils.data import DataLoader, TensorDataset\n",
        "\n",
        "from sklearn.preprocessing import LabelEncoder\n",
        "from sklearn.model_selection import train_test_split\n",
        "\n",
        "import re\n",
        "\n",
        "import nltk\n",
        "from nltk.stem import WordNetLemmatizer\n",
        "from nltk.corpus import stopwords\n",
        "\n",
        "import matplotlib.pyplot as plt"
      ],
      "metadata": {
        "execution": {
          "iopub.status.busy": "2024-07-14T17:19:13.015651Z",
          "iopub.execute_input": "2024-07-14T17:19:13.01594Z",
          "iopub.status.idle": "2024-07-14T17:19:18.835494Z",
          "shell.execute_reply.started": "2024-07-14T17:19:13.015914Z",
          "shell.execute_reply": "2024-07-14T17:19:18.834556Z"
        },
        "trusted": true,
        "id": "5VN6SDOgEg4l"
      },
      "execution_count": 1,
      "outputs": []
    },
    {
      "cell_type": "code",
      "source": [
        "nltk.download('all')"
      ],
      "metadata": {
        "_kg_hide-input": true,
        "_kg_hide-output": true,
        "trusted": true,
        "colab": {
          "base_uri": "https://localhost:8080/"
        },
        "id": "1qfQ09SBEg4n",
        "outputId": "8bf9872c-71c4-4b05-ee86-a13a31859387"
      },
      "execution_count": 2,
      "outputs": [
        {
          "output_type": "stream",
          "name": "stderr",
          "text": [
            "[nltk_data] Downloading collection 'all'\n",
            "[nltk_data]    | \n",
            "[nltk_data]    | Downloading package abc to /root/nltk_data...\n",
            "[nltk_data]    |   Unzipping corpora/abc.zip.\n",
            "[nltk_data]    | Downloading package alpino to /root/nltk_data...\n",
            "[nltk_data]    |   Unzipping corpora/alpino.zip.\n",
            "[nltk_data]    | Downloading package averaged_perceptron_tagger to\n",
            "[nltk_data]    |     /root/nltk_data...\n",
            "[nltk_data]    |   Unzipping taggers/averaged_perceptron_tagger.zip.\n",
            "[nltk_data]    | Downloading package averaged_perceptron_tagger_eng to\n",
            "[nltk_data]    |     /root/nltk_data...\n",
            "[nltk_data]    |   Unzipping\n",
            "[nltk_data]    |       taggers/averaged_perceptron_tagger_eng.zip.\n",
            "[nltk_data]    | Downloading package averaged_perceptron_tagger_ru to\n",
            "[nltk_data]    |     /root/nltk_data...\n",
            "[nltk_data]    |   Unzipping\n",
            "[nltk_data]    |       taggers/averaged_perceptron_tagger_ru.zip.\n",
            "[nltk_data]    | Downloading package averaged_perceptron_tagger_rus to\n",
            "[nltk_data]    |     /root/nltk_data...\n",
            "[nltk_data]    |   Unzipping\n",
            "[nltk_data]    |       taggers/averaged_perceptron_tagger_rus.zip.\n",
            "[nltk_data]    | Downloading package basque_grammars to\n",
            "[nltk_data]    |     /root/nltk_data...\n",
            "[nltk_data]    |   Unzipping grammars/basque_grammars.zip.\n",
            "[nltk_data]    | Downloading package bcp47 to /root/nltk_data...\n",
            "[nltk_data]    | Downloading package biocreative_ppi to\n",
            "[nltk_data]    |     /root/nltk_data...\n",
            "[nltk_data]    |   Unzipping corpora/biocreative_ppi.zip.\n",
            "[nltk_data]    | Downloading package bllip_wsj_no_aux to\n",
            "[nltk_data]    |     /root/nltk_data...\n",
            "[nltk_data]    |   Unzipping models/bllip_wsj_no_aux.zip.\n",
            "[nltk_data]    | Downloading package book_grammars to\n",
            "[nltk_data]    |     /root/nltk_data...\n",
            "[nltk_data]    |   Unzipping grammars/book_grammars.zip.\n",
            "[nltk_data]    | Downloading package brown to /root/nltk_data...\n",
            "[nltk_data]    |   Unzipping corpora/brown.zip.\n",
            "[nltk_data]    | Downloading package brown_tei to /root/nltk_data...\n",
            "[nltk_data]    |   Unzipping corpora/brown_tei.zip.\n",
            "[nltk_data]    | Downloading package cess_cat to /root/nltk_data...\n",
            "[nltk_data]    |   Unzipping corpora/cess_cat.zip.\n",
            "[nltk_data]    | Downloading package cess_esp to /root/nltk_data...\n",
            "[nltk_data]    |   Unzipping corpora/cess_esp.zip.\n",
            "[nltk_data]    | Downloading package chat80 to /root/nltk_data...\n",
            "[nltk_data]    |   Unzipping corpora/chat80.zip.\n",
            "[nltk_data]    | Downloading package city_database to\n",
            "[nltk_data]    |     /root/nltk_data...\n",
            "[nltk_data]    |   Unzipping corpora/city_database.zip.\n",
            "[nltk_data]    | Downloading package cmudict to /root/nltk_data...\n",
            "[nltk_data]    |   Unzipping corpora/cmudict.zip.\n",
            "[nltk_data]    | Downloading package comparative_sentences to\n",
            "[nltk_data]    |     /root/nltk_data...\n",
            "[nltk_data]    |   Unzipping corpora/comparative_sentences.zip.\n",
            "[nltk_data]    | Downloading package comtrans to /root/nltk_data...\n",
            "[nltk_data]    | Downloading package conll2000 to /root/nltk_data...\n",
            "[nltk_data]    |   Unzipping corpora/conll2000.zip.\n",
            "[nltk_data]    | Downloading package conll2002 to /root/nltk_data...\n",
            "[nltk_data]    |   Unzipping corpora/conll2002.zip.\n",
            "[nltk_data]    | Downloading package conll2007 to /root/nltk_data...\n",
            "[nltk_data]    | Downloading package crubadan to /root/nltk_data...\n",
            "[nltk_data]    |   Unzipping corpora/crubadan.zip.\n",
            "[nltk_data]    | Downloading package dependency_treebank to\n",
            "[nltk_data]    |     /root/nltk_data...\n",
            "[nltk_data]    |   Unzipping corpora/dependency_treebank.zip.\n",
            "[nltk_data]    | Downloading package dolch to /root/nltk_data...\n",
            "[nltk_data]    |   Unzipping corpora/dolch.zip.\n",
            "[nltk_data]    | Downloading package europarl_raw to\n",
            "[nltk_data]    |     /root/nltk_data...\n",
            "[nltk_data]    |   Unzipping corpora/europarl_raw.zip.\n",
            "[nltk_data]    | Downloading package extended_omw to\n",
            "[nltk_data]    |     /root/nltk_data...\n",
            "[nltk_data]    | Downloading package floresta to /root/nltk_data...\n",
            "[nltk_data]    |   Unzipping corpora/floresta.zip.\n",
            "[nltk_data]    | Downloading package framenet_v15 to\n",
            "[nltk_data]    |     /root/nltk_data...\n",
            "[nltk_data]    |   Unzipping corpora/framenet_v15.zip.\n",
            "[nltk_data]    | Downloading package framenet_v17 to\n",
            "[nltk_data]    |     /root/nltk_data...\n",
            "[nltk_data]    |   Unzipping corpora/framenet_v17.zip.\n",
            "[nltk_data]    | Downloading package gazetteers to /root/nltk_data...\n",
            "[nltk_data]    |   Unzipping corpora/gazetteers.zip.\n",
            "[nltk_data]    | Downloading package genesis to /root/nltk_data...\n",
            "[nltk_data]    |   Unzipping corpora/genesis.zip.\n",
            "[nltk_data]    | Downloading package gutenberg to /root/nltk_data...\n",
            "[nltk_data]    |   Unzipping corpora/gutenberg.zip.\n",
            "[nltk_data]    | Downloading package ieer to /root/nltk_data...\n",
            "[nltk_data]    |   Unzipping corpora/ieer.zip.\n",
            "[nltk_data]    | Downloading package inaugural to /root/nltk_data...\n",
            "[nltk_data]    |   Unzipping corpora/inaugural.zip.\n",
            "[nltk_data]    | Downloading package indian to /root/nltk_data...\n",
            "[nltk_data]    |   Unzipping corpora/indian.zip.\n",
            "[nltk_data]    | Downloading package jeita to /root/nltk_data...\n",
            "[nltk_data]    | Downloading package kimmo to /root/nltk_data...\n",
            "[nltk_data]    |   Unzipping corpora/kimmo.zip.\n",
            "[nltk_data]    | Downloading package knbc to /root/nltk_data...\n",
            "[nltk_data]    | Downloading package large_grammars to\n",
            "[nltk_data]    |     /root/nltk_data...\n",
            "[nltk_data]    |   Unzipping grammars/large_grammars.zip.\n",
            "[nltk_data]    | Downloading package lin_thesaurus to\n",
            "[nltk_data]    |     /root/nltk_data...\n",
            "[nltk_data]    |   Unzipping corpora/lin_thesaurus.zip.\n",
            "[nltk_data]    | Downloading package mac_morpho to /root/nltk_data...\n",
            "[nltk_data]    |   Unzipping corpora/mac_morpho.zip.\n",
            "[nltk_data]    | Downloading package machado to /root/nltk_data...\n",
            "[nltk_data]    | Downloading package masc_tagged to /root/nltk_data...\n",
            "[nltk_data]    | Downloading package maxent_ne_chunker to\n",
            "[nltk_data]    |     /root/nltk_data...\n",
            "[nltk_data]    |   Unzipping chunkers/maxent_ne_chunker.zip.\n",
            "[nltk_data]    | Downloading package maxent_treebank_pos_tagger to\n",
            "[nltk_data]    |     /root/nltk_data...\n",
            "[nltk_data]    |   Unzipping taggers/maxent_treebank_pos_tagger.zip.\n",
            "[nltk_data]    | Downloading package moses_sample to\n",
            "[nltk_data]    |     /root/nltk_data...\n",
            "[nltk_data]    |   Unzipping models/moses_sample.zip.\n",
            "[nltk_data]    | Downloading package movie_reviews to\n",
            "[nltk_data]    |     /root/nltk_data...\n",
            "[nltk_data]    |   Unzipping corpora/movie_reviews.zip.\n",
            "[nltk_data]    | Downloading package mte_teip5 to /root/nltk_data...\n",
            "[nltk_data]    |   Unzipping corpora/mte_teip5.zip.\n",
            "[nltk_data]    | Downloading package mwa_ppdb to /root/nltk_data...\n",
            "[nltk_data]    |   Unzipping misc/mwa_ppdb.zip.\n",
            "[nltk_data]    | Downloading package names to /root/nltk_data...\n",
            "[nltk_data]    |   Unzipping corpora/names.zip.\n",
            "[nltk_data]    | Downloading package nombank.1.0 to /root/nltk_data...\n",
            "[nltk_data]    | Downloading package nonbreaking_prefixes to\n",
            "[nltk_data]    |     /root/nltk_data...\n",
            "[nltk_data]    |   Unzipping corpora/nonbreaking_prefixes.zip.\n",
            "[nltk_data]    | Downloading package nps_chat to /root/nltk_data...\n",
            "[nltk_data]    |   Unzipping corpora/nps_chat.zip.\n",
            "[nltk_data]    | Downloading package omw to /root/nltk_data...\n",
            "[nltk_data]    | Downloading package omw-1.4 to /root/nltk_data...\n",
            "[nltk_data]    | Downloading package opinion_lexicon to\n",
            "[nltk_data]    |     /root/nltk_data...\n",
            "[nltk_data]    |   Unzipping corpora/opinion_lexicon.zip.\n",
            "[nltk_data]    | Downloading package panlex_swadesh to\n",
            "[nltk_data]    |     /root/nltk_data...\n",
            "[nltk_data]    | Downloading package paradigms to /root/nltk_data...\n",
            "[nltk_data]    |   Unzipping corpora/paradigms.zip.\n",
            "[nltk_data]    | Downloading package pe08 to /root/nltk_data...\n",
            "[nltk_data]    |   Unzipping corpora/pe08.zip.\n",
            "[nltk_data]    | Downloading package perluniprops to\n",
            "[nltk_data]    |     /root/nltk_data...\n",
            "[nltk_data]    |   Unzipping misc/perluniprops.zip.\n",
            "[nltk_data]    | Downloading package pil to /root/nltk_data...\n",
            "[nltk_data]    |   Unzipping corpora/pil.zip.\n",
            "[nltk_data]    | Downloading package pl196x to /root/nltk_data...\n",
            "[nltk_data]    |   Unzipping corpora/pl196x.zip.\n",
            "[nltk_data]    | Downloading package porter_test to /root/nltk_data...\n",
            "[nltk_data]    |   Unzipping stemmers/porter_test.zip.\n",
            "[nltk_data]    | Downloading package ppattach to /root/nltk_data...\n",
            "[nltk_data]    |   Unzipping corpora/ppattach.zip.\n",
            "[nltk_data]    | Downloading package problem_reports to\n",
            "[nltk_data]    |     /root/nltk_data...\n",
            "[nltk_data]    |   Unzipping corpora/problem_reports.zip.\n",
            "[nltk_data]    | Downloading package product_reviews_1 to\n",
            "[nltk_data]    |     /root/nltk_data...\n",
            "[nltk_data]    |   Unzipping corpora/product_reviews_1.zip.\n",
            "[nltk_data]    | Downloading package product_reviews_2 to\n",
            "[nltk_data]    |     /root/nltk_data...\n",
            "[nltk_data]    |   Unzipping corpora/product_reviews_2.zip.\n",
            "[nltk_data]    | Downloading package propbank to /root/nltk_data...\n",
            "[nltk_data]    | Downloading package pros_cons to /root/nltk_data...\n",
            "[nltk_data]    |   Unzipping corpora/pros_cons.zip.\n",
            "[nltk_data]    | Downloading package ptb to /root/nltk_data...\n",
            "[nltk_data]    |   Unzipping corpora/ptb.zip.\n",
            "[nltk_data]    | Downloading package punkt to /root/nltk_data...\n",
            "[nltk_data]    |   Unzipping tokenizers/punkt.zip.\n",
            "[nltk_data]    | Downloading package qc to /root/nltk_data...\n",
            "[nltk_data]    |   Unzipping corpora/qc.zip.\n",
            "[nltk_data]    | Downloading package reuters to /root/nltk_data...\n",
            "[nltk_data]    | Downloading package rslp to /root/nltk_data...\n",
            "[nltk_data]    |   Unzipping stemmers/rslp.zip.\n",
            "[nltk_data]    | Downloading package rte to /root/nltk_data...\n",
            "[nltk_data]    |   Unzipping corpora/rte.zip.\n",
            "[nltk_data]    | Downloading package sample_grammars to\n",
            "[nltk_data]    |     /root/nltk_data...\n",
            "[nltk_data]    |   Unzipping grammars/sample_grammars.zip.\n",
            "[nltk_data]    | Downloading package semcor to /root/nltk_data...\n",
            "[nltk_data]    | Downloading package senseval to /root/nltk_data...\n",
            "[nltk_data]    |   Unzipping corpora/senseval.zip.\n",
            "[nltk_data]    | Downloading package sentence_polarity to\n",
            "[nltk_data]    |     /root/nltk_data...\n",
            "[nltk_data]    |   Unzipping corpora/sentence_polarity.zip.\n",
            "[nltk_data]    | Downloading package sentiwordnet to\n",
            "[nltk_data]    |     /root/nltk_data...\n",
            "[nltk_data]    |   Unzipping corpora/sentiwordnet.zip.\n",
            "[nltk_data]    | Downloading package shakespeare to /root/nltk_data...\n",
            "[nltk_data]    |   Unzipping corpora/shakespeare.zip.\n",
            "[nltk_data]    | Downloading package sinica_treebank to\n",
            "[nltk_data]    |     /root/nltk_data...\n",
            "[nltk_data]    |   Unzipping corpora/sinica_treebank.zip.\n",
            "[nltk_data]    | Downloading package smultron to /root/nltk_data...\n",
            "[nltk_data]    |   Unzipping corpora/smultron.zip.\n",
            "[nltk_data]    | Downloading package snowball_data to\n",
            "[nltk_data]    |     /root/nltk_data...\n",
            "[nltk_data]    | Downloading package spanish_grammars to\n",
            "[nltk_data]    |     /root/nltk_data...\n",
            "[nltk_data]    |   Unzipping grammars/spanish_grammars.zip.\n",
            "[nltk_data]    | Downloading package state_union to /root/nltk_data...\n",
            "[nltk_data]    |   Unzipping corpora/state_union.zip.\n",
            "[nltk_data]    | Downloading package stopwords to /root/nltk_data...\n",
            "[nltk_data]    |   Unzipping corpora/stopwords.zip.\n",
            "[nltk_data]    | Downloading package subjectivity to\n",
            "[nltk_data]    |     /root/nltk_data...\n",
            "[nltk_data]    |   Unzipping corpora/subjectivity.zip.\n",
            "[nltk_data]    | Downloading package swadesh to /root/nltk_data...\n",
            "[nltk_data]    |   Unzipping corpora/swadesh.zip.\n",
            "[nltk_data]    | Downloading package switchboard to /root/nltk_data...\n",
            "[nltk_data]    |   Unzipping corpora/switchboard.zip.\n",
            "[nltk_data]    | Downloading package tagsets to /root/nltk_data...\n",
            "[nltk_data]    |   Unzipping help/tagsets.zip.\n",
            "[nltk_data]    | Downloading package tagsets_json to\n",
            "[nltk_data]    |     /root/nltk_data...\n",
            "[nltk_data]    |   Unzipping help/tagsets_json.zip.\n",
            "[nltk_data]    | Downloading package timit to /root/nltk_data...\n",
            "[nltk_data]    |   Unzipping corpora/timit.zip.\n",
            "[nltk_data]    | Downloading package toolbox to /root/nltk_data...\n",
            "[nltk_data]    |   Unzipping corpora/toolbox.zip.\n",
            "[nltk_data]    | Downloading package treebank to /root/nltk_data...\n",
            "[nltk_data]    |   Unzipping corpora/treebank.zip.\n",
            "[nltk_data]    | Downloading package twitter_samples to\n",
            "[nltk_data]    |     /root/nltk_data...\n",
            "[nltk_data]    |   Unzipping corpora/twitter_samples.zip.\n",
            "[nltk_data]    | Downloading package udhr to /root/nltk_data...\n",
            "[nltk_data]    |   Unzipping corpora/udhr.zip.\n",
            "[nltk_data]    | Downloading package udhr2 to /root/nltk_data...\n",
            "[nltk_data]    |   Unzipping corpora/udhr2.zip.\n",
            "[nltk_data]    | Downloading package unicode_samples to\n",
            "[nltk_data]    |     /root/nltk_data...\n",
            "[nltk_data]    |   Unzipping corpora/unicode_samples.zip.\n",
            "[nltk_data]    | Downloading package universal_tagset to\n",
            "[nltk_data]    |     /root/nltk_data...\n",
            "[nltk_data]    |   Unzipping taggers/universal_tagset.zip.\n",
            "[nltk_data]    | Downloading package universal_treebanks_v20 to\n",
            "[nltk_data]    |     /root/nltk_data...\n",
            "[nltk_data]    | Downloading package vader_lexicon to\n",
            "[nltk_data]    |     /root/nltk_data...\n",
            "[nltk_data]    | Downloading package verbnet to /root/nltk_data...\n",
            "[nltk_data]    |   Unzipping corpora/verbnet.zip.\n",
            "[nltk_data]    | Downloading package verbnet3 to /root/nltk_data...\n",
            "[nltk_data]    |   Unzipping corpora/verbnet3.zip.\n",
            "[nltk_data]    | Downloading package webtext to /root/nltk_data...\n",
            "[nltk_data]    |   Unzipping corpora/webtext.zip.\n",
            "[nltk_data]    | Downloading package wmt15_eval to /root/nltk_data...\n",
            "[nltk_data]    |   Unzipping models/wmt15_eval.zip.\n",
            "[nltk_data]    | Downloading package word2vec_sample to\n",
            "[nltk_data]    |     /root/nltk_data...\n",
            "[nltk_data]    |   Unzipping models/word2vec_sample.zip.\n",
            "[nltk_data]    | Downloading package wordnet to /root/nltk_data...\n",
            "[nltk_data]    | Downloading package wordnet2021 to /root/nltk_data...\n",
            "[nltk_data]    | Downloading package wordnet2022 to /root/nltk_data...\n",
            "[nltk_data]    |   Unzipping corpora/wordnet2022.zip.\n",
            "[nltk_data]    | Downloading package wordnet31 to /root/nltk_data...\n",
            "[nltk_data]    | Downloading package wordnet_ic to /root/nltk_data...\n",
            "[nltk_data]    |   Unzipping corpora/wordnet_ic.zip.\n",
            "[nltk_data]    | Downloading package words to /root/nltk_data...\n",
            "[nltk_data]    |   Unzipping corpora/words.zip.\n",
            "[nltk_data]    | Downloading package ycoe to /root/nltk_data...\n",
            "[nltk_data]    |   Unzipping corpora/ycoe.zip.\n",
            "[nltk_data]    | \n",
            "[nltk_data]  Done downloading collection all\n"
          ]
        },
        {
          "output_type": "execute_result",
          "data": {
            "text/plain": [
              "True"
            ]
          },
          "metadata": {},
          "execution_count": 2
        }
      ]
    },
    {
      "cell_type": "code",
      "source": [
        "!unzip /root/nltk_data/corpora/wordnet.zip -d /content/nltk_data/corpora/"
      ],
      "metadata": {
        "execution": {
          "iopub.status.busy": "2024-07-14T17:19:34.729232Z",
          "iopub.execute_input": "2024-07-14T17:19:34.729527Z",
          "iopub.status.idle": "2024-07-14T17:19:36.103678Z",
          "shell.execute_reply.started": "2024-07-14T17:19:34.729484Z",
          "shell.execute_reply": "2024-07-14T17:19:36.102783Z"
        },
        "trusted": true,
        "colab": {
          "base_uri": "https://localhost:8080/"
        },
        "id": "OIDldq3rEg4n",
        "outputId": "656ca1d2-eaf7-4970-e474-8723d2839b34"
      },
      "execution_count": 4,
      "outputs": [
        {
          "output_type": "stream",
          "name": "stdout",
          "text": [
            "Archive:  /root/nltk_data/corpora/wordnet.zip\n",
            "   creating: /content/nltk_data/corpora/wordnet/\n",
            "  inflating: /content/nltk_data/corpora/wordnet/lexnames  \n",
            "  inflating: /content/nltk_data/corpora/wordnet/data.verb  \n",
            "  inflating: /content/nltk_data/corpora/wordnet/index.adv  \n",
            "  inflating: /content/nltk_data/corpora/wordnet/adv.exc  \n",
            "  inflating: /content/nltk_data/corpora/wordnet/index.verb  \n",
            "  inflating: /content/nltk_data/corpora/wordnet/cntlist.rev  \n",
            "  inflating: /content/nltk_data/corpora/wordnet/data.adj  \n",
            "  inflating: /content/nltk_data/corpora/wordnet/index.adj  \n",
            "  inflating: /content/nltk_data/corpora/wordnet/LICENSE  \n",
            "  inflating: /content/nltk_data/corpora/wordnet/citation.bib  \n",
            "  inflating: /content/nltk_data/corpora/wordnet/noun.exc  \n",
            "  inflating: /content/nltk_data/corpora/wordnet/verb.exc  \n",
            "  inflating: /content/nltk_data/corpora/wordnet/README  \n",
            "  inflating: /content/nltk_data/corpora/wordnet/index.sense  \n",
            "  inflating: /content/nltk_data/corpora/wordnet/data.noun  \n",
            "  inflating: /content/nltk_data/corpora/wordnet/data.adv  \n",
            "  inflating: /content/nltk_data/corpora/wordnet/index.noun  \n",
            "  inflating: /content/nltk_data/corpora/wordnet/adj.exc  \n"
          ]
        }
      ]
    },
    {
      "cell_type": "code",
      "source": [
        "# Load the dataset\n",
        "training_data_path = '/content/twitter_training.csv'\n",
        "validation_data_path = '/content/twitter_validation.csv'\n",
        "\n",
        "training_data = pd.read_csv(training_data_path)\n",
        "validation_data = pd.read_csv(validation_data_path)\n",
        "\n",
        "columns = [\"tweet id\", \"entity\", \"sentiment\", \"content\"]\n",
        "training_data.columns = columns\n",
        "validation_data.columns = columns\n"
      ],
      "metadata": {
        "execution": {
          "iopub.status.busy": "2024-07-14T17:19:36.106221Z",
          "iopub.execute_input": "2024-07-14T17:19:36.106561Z",
          "iopub.status.idle": "2024-07-14T17:19:37.522099Z",
          "shell.execute_reply.started": "2024-07-14T17:19:36.106528Z",
          "shell.execute_reply": "2024-07-14T17:19:37.52115Z"
        },
        "trusted": true,
        "id": "dKmK0gRBEg4o"
      },
      "execution_count": 5,
      "outputs": []
    },
    {
      "cell_type": "code",
      "source": [
        "training_data[\"sentiment\"].unique()"
      ],
      "metadata": {
        "execution": {
          "iopub.status.busy": "2024-07-14T17:19:37.523162Z",
          "iopub.execute_input": "2024-07-14T17:19:37.523469Z",
          "iopub.status.idle": "2024-07-14T17:19:37.536616Z",
          "shell.execute_reply.started": "2024-07-14T17:19:37.523432Z",
          "shell.execute_reply": "2024-07-14T17:19:37.535708Z"
        },
        "trusted": true,
        "colab": {
          "base_uri": "https://localhost:8080/"
        },
        "id": "q5LU7zeGEg4p",
        "outputId": "9f22100e-ae6b-4770-8e33-4f79e50122e0"
      },
      "execution_count": 6,
      "outputs": [
        {
          "output_type": "execute_result",
          "data": {
            "text/plain": [
              "array(['Positive', 'Neutral', 'Negative', 'Irrelevant'], dtype=object)"
            ]
          },
          "metadata": {},
          "execution_count": 6
        }
      ]
    },
    {
      "cell_type": "markdown",
      "source": [
        "### Pre processing"
      ],
      "metadata": {
        "id": "z5vorz65Eg4q"
      }
    },
    {
      "cell_type": "code",
      "source": [
        "lb = LabelEncoder()\n",
        "training_data[\"label_sentiment\"] = lb.fit_transform(training_data[\"sentiment\"])"
      ],
      "metadata": {
        "execution": {
          "iopub.status.busy": "2024-07-14T17:19:37.537887Z",
          "iopub.execute_input": "2024-07-14T17:19:37.538321Z",
          "iopub.status.idle": "2024-07-14T17:19:37.560844Z",
          "shell.execute_reply.started": "2024-07-14T17:19:37.53829Z",
          "shell.execute_reply": "2024-07-14T17:19:37.560089Z"
        },
        "trusted": true,
        "id": "8zCkZbncEg4r"
      },
      "execution_count": 7,
      "outputs": []
    },
    {
      "cell_type": "code",
      "source": [
        "training_data.head()"
      ],
      "metadata": {
        "execution": {
          "iopub.status.busy": "2024-07-14T17:19:37.562041Z",
          "iopub.execute_input": "2024-07-14T17:19:37.562318Z",
          "iopub.status.idle": "2024-07-14T17:19:37.574257Z",
          "shell.execute_reply.started": "2024-07-14T17:19:37.562295Z",
          "shell.execute_reply": "2024-07-14T17:19:37.573358Z"
        },
        "trusted": true,
        "colab": {
          "base_uri": "https://localhost:8080/",
          "height": 206
        },
        "id": "p6EOLMJpEg4r",
        "outputId": "b6bb60d4-a838-48aa-bf50-6f372bac5084"
      },
      "execution_count": 8,
      "outputs": [
        {
          "output_type": "execute_result",
          "data": {
            "text/plain": [
              "   tweet id       entity sentiment  \\\n",
              "0      2401  Borderlands  Positive   \n",
              "1      2401  Borderlands  Positive   \n",
              "2      2401  Borderlands  Positive   \n",
              "3      2401  Borderlands  Positive   \n",
              "4      2401  Borderlands  Positive   \n",
              "\n",
              "                                             content  label_sentiment  \n",
              "0  I am coming to the borders and I will kill you...                3  \n",
              "1  im getting on borderlands and i will kill you ...                3  \n",
              "2  im coming on borderlands and i will murder you...                3  \n",
              "3  im getting on borderlands 2 and i will murder ...                3  \n",
              "4  im getting into borderlands and i can murder y...                3  "
            ],
            "text/html": [
              "\n",
              "  <div id=\"df-3c45f448-0d1d-44c8-8cf6-23788931ff79\" class=\"colab-df-container\">\n",
              "    <div>\n",
              "<style scoped>\n",
              "    .dataframe tbody tr th:only-of-type {\n",
              "        vertical-align: middle;\n",
              "    }\n",
              "\n",
              "    .dataframe tbody tr th {\n",
              "        vertical-align: top;\n",
              "    }\n",
              "\n",
              "    .dataframe thead th {\n",
              "        text-align: right;\n",
              "    }\n",
              "</style>\n",
              "<table border=\"1\" class=\"dataframe\">\n",
              "  <thead>\n",
              "    <tr style=\"text-align: right;\">\n",
              "      <th></th>\n",
              "      <th>tweet id</th>\n",
              "      <th>entity</th>\n",
              "      <th>sentiment</th>\n",
              "      <th>content</th>\n",
              "      <th>label_sentiment</th>\n",
              "    </tr>\n",
              "  </thead>\n",
              "  <tbody>\n",
              "    <tr>\n",
              "      <th>0</th>\n",
              "      <td>2401</td>\n",
              "      <td>Borderlands</td>\n",
              "      <td>Positive</td>\n",
              "      <td>I am coming to the borders and I will kill you...</td>\n",
              "      <td>3</td>\n",
              "    </tr>\n",
              "    <tr>\n",
              "      <th>1</th>\n",
              "      <td>2401</td>\n",
              "      <td>Borderlands</td>\n",
              "      <td>Positive</td>\n",
              "      <td>im getting on borderlands and i will kill you ...</td>\n",
              "      <td>3</td>\n",
              "    </tr>\n",
              "    <tr>\n",
              "      <th>2</th>\n",
              "      <td>2401</td>\n",
              "      <td>Borderlands</td>\n",
              "      <td>Positive</td>\n",
              "      <td>im coming on borderlands and i will murder you...</td>\n",
              "      <td>3</td>\n",
              "    </tr>\n",
              "    <tr>\n",
              "      <th>3</th>\n",
              "      <td>2401</td>\n",
              "      <td>Borderlands</td>\n",
              "      <td>Positive</td>\n",
              "      <td>im getting on borderlands 2 and i will murder ...</td>\n",
              "      <td>3</td>\n",
              "    </tr>\n",
              "    <tr>\n",
              "      <th>4</th>\n",
              "      <td>2401</td>\n",
              "      <td>Borderlands</td>\n",
              "      <td>Positive</td>\n",
              "      <td>im getting into borderlands and i can murder y...</td>\n",
              "      <td>3</td>\n",
              "    </tr>\n",
              "  </tbody>\n",
              "</table>\n",
              "</div>\n",
              "    <div class=\"colab-df-buttons\">\n",
              "\n",
              "  <div class=\"colab-df-container\">\n",
              "    <button class=\"colab-df-convert\" onclick=\"convertToInteractive('df-3c45f448-0d1d-44c8-8cf6-23788931ff79')\"\n",
              "            title=\"Convert this dataframe to an interactive table.\"\n",
              "            style=\"display:none;\">\n",
              "\n",
              "  <svg xmlns=\"http://www.w3.org/2000/svg\" height=\"24px\" viewBox=\"0 -960 960 960\">\n",
              "    <path d=\"M120-120v-720h720v720H120Zm60-500h600v-160H180v160Zm220 220h160v-160H400v160Zm0 220h160v-160H400v160ZM180-400h160v-160H180v160Zm440 0h160v-160H620v160ZM180-180h160v-160H180v160Zm440 0h160v-160H620v160Z\"/>\n",
              "  </svg>\n",
              "    </button>\n",
              "\n",
              "  <style>\n",
              "    .colab-df-container {\n",
              "      display:flex;\n",
              "      gap: 12px;\n",
              "    }\n",
              "\n",
              "    .colab-df-convert {\n",
              "      background-color: #E8F0FE;\n",
              "      border: none;\n",
              "      border-radius: 50%;\n",
              "      cursor: pointer;\n",
              "      display: none;\n",
              "      fill: #1967D2;\n",
              "      height: 32px;\n",
              "      padding: 0 0 0 0;\n",
              "      width: 32px;\n",
              "    }\n",
              "\n",
              "    .colab-df-convert:hover {\n",
              "      background-color: #E2EBFA;\n",
              "      box-shadow: 0px 1px 2px rgba(60, 64, 67, 0.3), 0px 1px 3px 1px rgba(60, 64, 67, 0.15);\n",
              "      fill: #174EA6;\n",
              "    }\n",
              "\n",
              "    .colab-df-buttons div {\n",
              "      margin-bottom: 4px;\n",
              "    }\n",
              "\n",
              "    [theme=dark] .colab-df-convert {\n",
              "      background-color: #3B4455;\n",
              "      fill: #D2E3FC;\n",
              "    }\n",
              "\n",
              "    [theme=dark] .colab-df-convert:hover {\n",
              "      background-color: #434B5C;\n",
              "      box-shadow: 0px 1px 3px 1px rgba(0, 0, 0, 0.15);\n",
              "      filter: drop-shadow(0px 1px 2px rgba(0, 0, 0, 0.3));\n",
              "      fill: #FFFFFF;\n",
              "    }\n",
              "  </style>\n",
              "\n",
              "    <script>\n",
              "      const buttonEl =\n",
              "        document.querySelector('#df-3c45f448-0d1d-44c8-8cf6-23788931ff79 button.colab-df-convert');\n",
              "      buttonEl.style.display =\n",
              "        google.colab.kernel.accessAllowed ? 'block' : 'none';\n",
              "\n",
              "      async function convertToInteractive(key) {\n",
              "        const element = document.querySelector('#df-3c45f448-0d1d-44c8-8cf6-23788931ff79');\n",
              "        const dataTable =\n",
              "          await google.colab.kernel.invokeFunction('convertToInteractive',\n",
              "                                                    [key], {});\n",
              "        if (!dataTable) return;\n",
              "\n",
              "        const docLinkHtml = 'Like what you see? Visit the ' +\n",
              "          '<a target=\"_blank\" href=https://colab.research.google.com/notebooks/data_table.ipynb>data table notebook</a>'\n",
              "          + ' to learn more about interactive tables.';\n",
              "        element.innerHTML = '';\n",
              "        dataTable['output_type'] = 'display_data';\n",
              "        await google.colab.output.renderOutput(dataTable, element);\n",
              "        const docLink = document.createElement('div');\n",
              "        docLink.innerHTML = docLinkHtml;\n",
              "        element.appendChild(docLink);\n",
              "      }\n",
              "    </script>\n",
              "  </div>\n",
              "\n",
              "\n",
              "<div id=\"df-c5ee0095-ed5d-4735-a26b-cdea9c13e6f0\">\n",
              "  <button class=\"colab-df-quickchart\" onclick=\"quickchart('df-c5ee0095-ed5d-4735-a26b-cdea9c13e6f0')\"\n",
              "            title=\"Suggest charts\"\n",
              "            style=\"display:none;\">\n",
              "\n",
              "<svg xmlns=\"http://www.w3.org/2000/svg\" height=\"24px\"viewBox=\"0 0 24 24\"\n",
              "     width=\"24px\">\n",
              "    <g>\n",
              "        <path d=\"M19 3H5c-1.1 0-2 .9-2 2v14c0 1.1.9 2 2 2h14c1.1 0 2-.9 2-2V5c0-1.1-.9-2-2-2zM9 17H7v-7h2v7zm4 0h-2V7h2v10zm4 0h-2v-4h2v4z\"/>\n",
              "    </g>\n",
              "</svg>\n",
              "  </button>\n",
              "\n",
              "<style>\n",
              "  .colab-df-quickchart {\n",
              "      --bg-color: #E8F0FE;\n",
              "      --fill-color: #1967D2;\n",
              "      --hover-bg-color: #E2EBFA;\n",
              "      --hover-fill-color: #174EA6;\n",
              "      --disabled-fill-color: #AAA;\n",
              "      --disabled-bg-color: #DDD;\n",
              "  }\n",
              "\n",
              "  [theme=dark] .colab-df-quickchart {\n",
              "      --bg-color: #3B4455;\n",
              "      --fill-color: #D2E3FC;\n",
              "      --hover-bg-color: #434B5C;\n",
              "      --hover-fill-color: #FFFFFF;\n",
              "      --disabled-bg-color: #3B4455;\n",
              "      --disabled-fill-color: #666;\n",
              "  }\n",
              "\n",
              "  .colab-df-quickchart {\n",
              "    background-color: var(--bg-color);\n",
              "    border: none;\n",
              "    border-radius: 50%;\n",
              "    cursor: pointer;\n",
              "    display: none;\n",
              "    fill: var(--fill-color);\n",
              "    height: 32px;\n",
              "    padding: 0;\n",
              "    width: 32px;\n",
              "  }\n",
              "\n",
              "  .colab-df-quickchart:hover {\n",
              "    background-color: var(--hover-bg-color);\n",
              "    box-shadow: 0 1px 2px rgba(60, 64, 67, 0.3), 0 1px 3px 1px rgba(60, 64, 67, 0.15);\n",
              "    fill: var(--button-hover-fill-color);\n",
              "  }\n",
              "\n",
              "  .colab-df-quickchart-complete:disabled,\n",
              "  .colab-df-quickchart-complete:disabled:hover {\n",
              "    background-color: var(--disabled-bg-color);\n",
              "    fill: var(--disabled-fill-color);\n",
              "    box-shadow: none;\n",
              "  }\n",
              "\n",
              "  .colab-df-spinner {\n",
              "    border: 2px solid var(--fill-color);\n",
              "    border-color: transparent;\n",
              "    border-bottom-color: var(--fill-color);\n",
              "    animation:\n",
              "      spin 1s steps(1) infinite;\n",
              "  }\n",
              "\n",
              "  @keyframes spin {\n",
              "    0% {\n",
              "      border-color: transparent;\n",
              "      border-bottom-color: var(--fill-color);\n",
              "      border-left-color: var(--fill-color);\n",
              "    }\n",
              "    20% {\n",
              "      border-color: transparent;\n",
              "      border-left-color: var(--fill-color);\n",
              "      border-top-color: var(--fill-color);\n",
              "    }\n",
              "    30% {\n",
              "      border-color: transparent;\n",
              "      border-left-color: var(--fill-color);\n",
              "      border-top-color: var(--fill-color);\n",
              "      border-right-color: var(--fill-color);\n",
              "    }\n",
              "    40% {\n",
              "      border-color: transparent;\n",
              "      border-right-color: var(--fill-color);\n",
              "      border-top-color: var(--fill-color);\n",
              "    }\n",
              "    60% {\n",
              "      border-color: transparent;\n",
              "      border-right-color: var(--fill-color);\n",
              "    }\n",
              "    80% {\n",
              "      border-color: transparent;\n",
              "      border-right-color: var(--fill-color);\n",
              "      border-bottom-color: var(--fill-color);\n",
              "    }\n",
              "    90% {\n",
              "      border-color: transparent;\n",
              "      border-bottom-color: var(--fill-color);\n",
              "    }\n",
              "  }\n",
              "</style>\n",
              "\n",
              "  <script>\n",
              "    async function quickchart(key) {\n",
              "      const quickchartButtonEl =\n",
              "        document.querySelector('#' + key + ' button');\n",
              "      quickchartButtonEl.disabled = true;  // To prevent multiple clicks.\n",
              "      quickchartButtonEl.classList.add('colab-df-spinner');\n",
              "      try {\n",
              "        const charts = await google.colab.kernel.invokeFunction(\n",
              "            'suggestCharts', [key], {});\n",
              "      } catch (error) {\n",
              "        console.error('Error during call to suggestCharts:', error);\n",
              "      }\n",
              "      quickchartButtonEl.classList.remove('colab-df-spinner');\n",
              "      quickchartButtonEl.classList.add('colab-df-quickchart-complete');\n",
              "    }\n",
              "    (() => {\n",
              "      let quickchartButtonEl =\n",
              "        document.querySelector('#df-c5ee0095-ed5d-4735-a26b-cdea9c13e6f0 button');\n",
              "      quickchartButtonEl.style.display =\n",
              "        google.colab.kernel.accessAllowed ? 'block' : 'none';\n",
              "    })();\n",
              "  </script>\n",
              "</div>\n",
              "\n",
              "    </div>\n",
              "  </div>\n"
            ],
            "application/vnd.google.colaboratory.intrinsic+json": {
              "type": "dataframe",
              "variable_name": "training_data",
              "summary": "{\n  \"name\": \"training_data\",\n  \"rows\": 74681,\n  \"fields\": [\n    {\n      \"column\": \"tweet id\",\n      \"properties\": {\n        \"dtype\": \"number\",\n        \"std\": 3740,\n        \"min\": 1,\n        \"max\": 13200,\n        \"num_unique_values\": 12447,\n        \"samples\": [\n          1616,\n          2660,\n          2335\n        ],\n        \"semantic_type\": \"\",\n        \"description\": \"\"\n      }\n    },\n    {\n      \"column\": \"entity\",\n      \"properties\": {\n        \"dtype\": \"category\",\n        \"num_unique_values\": 32,\n        \"samples\": [\n          \"Cyberpunk2077\",\n          \"Microsoft\",\n          \"TomClancysRainbowSix\"\n        ],\n        \"semantic_type\": \"\",\n        \"description\": \"\"\n      }\n    },\n    {\n      \"column\": \"sentiment\",\n      \"properties\": {\n        \"dtype\": \"category\",\n        \"num_unique_values\": 4,\n        \"samples\": [\n          \"Neutral\",\n          \"Irrelevant\",\n          \"Positive\"\n        ],\n        \"semantic_type\": \"\",\n        \"description\": \"\"\n      }\n    },\n    {\n      \"column\": \"content\",\n      \"properties\": {\n        \"dtype\": \"string\",\n        \"num_unique_values\": 69490,\n        \"samples\": [\n          \"so how does my stained glass open facebook account girl already have 200 likes!!!! and i sure am so!!??? oh thankful!??!?!\",\n          \"How not to get bored about every damn thing in life.\",\n          \"The Best Perfect Way to Protect All the Planet Samsung Galaxy Note10 + By buff. ly / The 2zkjIhU..\"\n        ],\n        \"semantic_type\": \"\",\n        \"description\": \"\"\n      }\n    },\n    {\n      \"column\": \"label_sentiment\",\n      \"properties\": {\n        \"dtype\": \"number\",\n        \"std\": 1,\n        \"min\": 0,\n        \"max\": 3,\n        \"num_unique_values\": 4,\n        \"samples\": [\n          2,\n          0,\n          3\n        ],\n        \"semantic_type\": \"\",\n        \"description\": \"\"\n      }\n    }\n  ]\n}"
            }
          },
          "metadata": {},
          "execution_count": 8
        }
      ]
    },
    {
      "cell_type": "code",
      "source": [
        "training_data.isnull().sum()"
      ],
      "metadata": {
        "execution": {
          "iopub.status.busy": "2024-07-14T17:19:37.575482Z",
          "iopub.execute_input": "2024-07-14T17:19:37.575953Z",
          "iopub.status.idle": "2024-07-14T17:19:37.601406Z",
          "shell.execute_reply.started": "2024-07-14T17:19:37.57591Z",
          "shell.execute_reply": "2024-07-14T17:19:37.600371Z"
        },
        "trusted": true,
        "colab": {
          "base_uri": "https://localhost:8080/"
        },
        "id": "0Jl57FpbEg4s",
        "outputId": "f3f0f973-fbfb-449d-986b-3204675cbb08"
      },
      "execution_count": 9,
      "outputs": [
        {
          "output_type": "execute_result",
          "data": {
            "text/plain": [
              "tweet id             0\n",
              "entity               0\n",
              "sentiment            0\n",
              "content            686\n",
              "label_sentiment      0\n",
              "dtype: int64"
            ]
          },
          "metadata": {},
          "execution_count": 9
        }
      ]
    },
    {
      "cell_type": "code",
      "source": [
        "training_data.dropna(inplace=True)"
      ],
      "metadata": {
        "execution": {
          "iopub.status.busy": "2024-07-14T17:19:37.602587Z",
          "iopub.execute_input": "2024-07-14T17:19:37.603251Z",
          "iopub.status.idle": "2024-07-14T17:19:37.626348Z",
          "shell.execute_reply.started": "2024-07-14T17:19:37.603221Z",
          "shell.execute_reply": "2024-07-14T17:19:37.625416Z"
        },
        "trusted": true,
        "id": "jQhbr_mUEg4u"
      },
      "execution_count": 10,
      "outputs": []
    },
    {
      "cell_type": "code",
      "source": [
        "training_data.isnull().sum()"
      ],
      "metadata": {
        "execution": {
          "iopub.status.busy": "2024-07-14T17:19:37.630154Z",
          "iopub.execute_input": "2024-07-14T17:19:37.630435Z",
          "iopub.status.idle": "2024-07-14T17:19:37.65109Z",
          "shell.execute_reply.started": "2024-07-14T17:19:37.630411Z",
          "shell.execute_reply": "2024-07-14T17:19:37.650317Z"
        },
        "trusted": true,
        "colab": {
          "base_uri": "https://localhost:8080/"
        },
        "id": "G9DkAbczEg4u",
        "outputId": "356793ce-965a-49d4-b01d-adf5b051c3b5"
      },
      "execution_count": 11,
      "outputs": [
        {
          "output_type": "execute_result",
          "data": {
            "text/plain": [
              "tweet id           0\n",
              "entity             0\n",
              "sentiment          0\n",
              "content            0\n",
              "label_sentiment    0\n",
              "dtype: int64"
            ]
          },
          "metadata": {},
          "execution_count": 11
        }
      ]
    },
    {
      "cell_type": "code",
      "source": [
        "lb.classes_"
      ],
      "metadata": {
        "execution": {
          "iopub.status.busy": "2024-07-14T17:19:37.65227Z",
          "iopub.execute_input": "2024-07-14T17:19:37.652624Z",
          "iopub.status.idle": "2024-07-14T17:19:37.658953Z",
          "shell.execute_reply.started": "2024-07-14T17:19:37.652598Z",
          "shell.execute_reply": "2024-07-14T17:19:37.657957Z"
        },
        "trusted": true,
        "colab": {
          "base_uri": "https://localhost:8080/"
        },
        "id": "siHwJGo-Eg4v",
        "outputId": "223b0fed-bd77-4790-fcba-ae0c7dba2eb0"
      },
      "execution_count": 12,
      "outputs": [
        {
          "output_type": "execute_result",
          "data": {
            "text/plain": [
              "array(['Irrelevant', 'Negative', 'Neutral', 'Positive'], dtype=object)"
            ]
          },
          "metadata": {},
          "execution_count": 12
        }
      ]
    },
    {
      "cell_type": "code",
      "source": [
        "training_data[\"sentiment\"].value_counts()"
      ],
      "metadata": {
        "execution": {
          "iopub.status.busy": "2024-07-14T17:19:37.660154Z",
          "iopub.execute_input": "2024-07-14T17:19:37.660479Z",
          "iopub.status.idle": "2024-07-14T17:19:37.682926Z",
          "shell.execute_reply.started": "2024-07-14T17:19:37.660443Z",
          "shell.execute_reply": "2024-07-14T17:19:37.681915Z"
        },
        "trusted": true,
        "colab": {
          "base_uri": "https://localhost:8080/"
        },
        "id": "HeYtng7hEg4w",
        "outputId": "cd837692-ecd7-4b9f-f05d-79789d1ca750"
      },
      "execution_count": 13,
      "outputs": [
        {
          "output_type": "execute_result",
          "data": {
            "text/plain": [
              "sentiment\n",
              "Negative      22358\n",
              "Positive      20654\n",
              "Neutral       18108\n",
              "Irrelevant    12875\n",
              "Name: count, dtype: int64"
            ]
          },
          "metadata": {},
          "execution_count": 13
        }
      ]
    },
    {
      "cell_type": "code",
      "source": [
        "value_counts = training_data[\"sentiment\"].value_counts()\n",
        "ax = value_counts.plot(kind='bar')\n",
        "\n",
        "ax.set_xticklabels(['Negative', 'Positive', 'Neutral', 'Irrelevant'], rotation=0)\n",
        "\n",
        "plt.title('Distribution of Sentiment')\n",
        "plt.xlabel('Sentiment')\n",
        "plt.ylabel('Content')\n",
        "\n",
        "plt.show()"
      ],
      "metadata": {
        "execution": {
          "iopub.status.busy": "2024-07-14T17:19:37.683879Z",
          "iopub.execute_input": "2024-07-14T17:19:37.684195Z",
          "iopub.status.idle": "2024-07-14T17:19:37.996104Z",
          "shell.execute_reply.started": "2024-07-14T17:19:37.684164Z",
          "shell.execute_reply": "2024-07-14T17:19:37.995287Z"
        },
        "trusted": true,
        "colab": {
          "base_uri": "https://localhost:8080/",
          "height": 472
        },
        "id": "nB_BAfY5Eg4w",
        "outputId": "96a9ba09-d77c-4bea-f63a-4fb710fa19d4"
      },
      "execution_count": 14,
      "outputs": [
        {
          "output_type": "display_data",
          "data": {
            "text/plain": [
              "<Figure size 640x480 with 1 Axes>"
            ],
            "image/png": "[encoded data removed]"
          },
          "metadata": {}
        }
      ]
    },
    {
      "cell_type": "code",
      "source": [
        "nltk.download('wordnet')\n",
        "nltk.download('stopwords')\n",
        "wnl = WordNetLemmatizer()\n",
        "stop_words = stopwords.words('english')\n",
        "\n",
        "def preprocessing_text(text):\n",
        "    text = re.sub('[^A-Za-z]+', ' ', text)\n",
        "    text = text.split()\n",
        "    text = \" \".join([wnl.lemmatize(word) for word in text if not word in stop_words and len(word) >= 3])\n",
        "    return text.lower()\n"
      ],
      "metadata": {
        "execution": {
          "iopub.status.busy": "2024-07-14T17:19:37.997431Z",
          "iopub.execute_input": "2024-07-14T17:19:37.997744Z",
          "iopub.status.idle": "2024-07-14T17:19:38.007421Z",
          "shell.execute_reply.started": "2024-07-14T17:19:37.997718Z",
          "shell.execute_reply": "2024-07-14T17:19:38.006326Z"
        },
        "trusted": true,
        "colab": {
          "base_uri": "https://localhost:8080/"
        },
        "id": "TNvgTw2REg4w",
        "outputId": "63a1b16c-b58e-456c-d751-53c9da4ada78"
      },
      "execution_count": 15,
      "outputs": [
        {
          "output_type": "stream",
          "name": "stderr",
          "text": [
            "[nltk_data] Downloading package wordnet to /root/nltk_data...\n",
            "[nltk_data]   Package wordnet is already up-to-date!\n",
            "[nltk_data] Downloading package stopwords to /root/nltk_data...\n",
            "[nltk_data]   Package stopwords is already up-to-date!\n"
          ]
        }
      ]
    },
    {
      "cell_type": "code",
      "source": [
        "print(preprocessing_text(\"im getting on borderlands and i will murder you\"))"
      ],
      "metadata": {
        "execution": {
          "iopub.status.busy": "2024-07-14T17:19:38.008848Z",
          "iopub.execute_input": "2024-07-14T17:19:38.009296Z",
          "iopub.status.idle": "2024-07-14T17:19:40.284989Z",
          "shell.execute_reply.started": "2024-07-14T17:19:38.009258Z",
          "shell.execute_reply": "2024-07-14T17:19:40.283961Z"
        },
        "trusted": true,
        "colab": {
          "base_uri": "https://localhost:8080/"
        },
        "id": "Azw2K6oxEg4w",
        "outputId": "350935c4-6544-4923-e2e0-3b0d45d40de0"
      },
      "execution_count": 16,
      "outputs": [
        {
          "output_type": "stream",
          "name": "stdout",
          "text": [
            "getting borderland murder\n"
          ]
        }
      ]
    },
    {
      "cell_type": "code",
      "source": [
        "training_data[\"content\"] = training_data[\"content\"].apply(preprocessing_text)"
      ],
      "metadata": {
        "execution": {
          "iopub.status.busy": "2024-07-14T17:19:40.286151Z",
          "iopub.execute_input": "2024-07-14T17:19:40.286456Z",
          "iopub.status.idle": "2024-07-14T17:19:49.507406Z",
          "shell.execute_reply.started": "2024-07-14T17:19:40.28642Z",
          "shell.execute_reply": "2024-07-14T17:19:49.506575Z"
        },
        "trusted": true,
        "id": "-onlA9goEg4x"
      },
      "execution_count": 17,
      "outputs": []
    },
    {
      "cell_type": "code",
      "source": [
        "training_data.head()"
      ],
      "metadata": {
        "execution": {
          "iopub.status.busy": "2024-07-14T17:19:49.508635Z",
          "iopub.execute_input": "2024-07-14T17:19:49.509313Z",
          "iopub.status.idle": "2024-07-14T17:19:49.519051Z",
          "shell.execute_reply.started": "2024-07-14T17:19:49.509279Z",
          "shell.execute_reply": "2024-07-14T17:19:49.518077Z"
        },
        "trusted": true,
        "colab": {
          "base_uri": "https://localhost:8080/",
          "height": 206
        },
        "id": "BuyggCAmEg4x",
        "outputId": "7a5553a4-46be-4bcf-de9e-67d8406c2132"
      },
      "execution_count": 18,
      "outputs": [
        {
          "output_type": "execute_result",
          "data": {
            "text/plain": [
              "   tweet id       entity sentiment                    content  label_sentiment\n",
              "0      2401  Borderlands  Positive         coming border kill                3\n",
              "1      2401  Borderlands  Positive    getting borderland kill                3\n",
              "2      2401  Borderlands  Positive   coming borderland murder                3\n",
              "3      2401  Borderlands  Positive  getting borderland murder                3\n",
              "4      2401  Borderlands  Positive  getting borderland murder                3"
            ],
            "text/html": [
              "\n",
              "  <div id=\"df-c96e4c25-c9e6-497a-91c8-4b76a3dcbd87\" class=\"colab-df-container\">\n",
              "    <div>\n",
              "<style scoped>\n",
              "    .dataframe tbody tr th:only-of-type {\n",
              "        vertical-align: middle;\n",
              "    }\n",
              "\n",
              "    .dataframe tbody tr th {\n",
              "        vertical-align: top;\n",
              "    }\n",
              "\n",
              "    .dataframe thead th {\n",
              "        text-align: right;\n",
              "    }\n",
              "</style>\n",
              "<table border=\"1\" class=\"dataframe\">\n",
              "  <thead>\n",
              "    <tr style=\"text-align: right;\">\n",
              "      <th></th>\n",
              "      <th>tweet id</th>\n",
              "      <th>entity</th>\n",
              "      <th>sentiment</th>\n",
              "      <th>content</th>\n",
              "      <th>label_sentiment</th>\n",
              "    </tr>\n",
              "  </thead>\n",
              "  <tbody>\n",
              "    <tr>\n",
              "      <th>0</th>\n",
              "      <td>2401</td>\n",
              "      <td>Borderlands</td>\n",
              "      <td>Positive</td>\n",
              "      <td>coming border kill</td>\n",
              "      <td>3</td>\n",
              "    </tr>\n",
              "    <tr>\n",
              "      <th>1</th>\n",
              "      <td>2401</td>\n",
              "      <td>Borderlands</td>\n",
              "      <td>Positive</td>\n",
              "      <td>getting borderland kill</td>\n",
              "      <td>3</td>\n",
              "    </tr>\n",
              "    <tr>\n",
              "      <th>2</th>\n",
              "      <td>2401</td>\n",
              "      <td>Borderlands</td>\n",
              "      <td>Positive</td>\n",
              "      <td>coming borderland murder</td>\n",
              "      <td>3</td>\n",
              "    </tr>\n",
              "    <tr>\n",
              "      <th>3</th>\n",
              "      <td>2401</td>\n",
              "      <td>Borderlands</td>\n",
              "      <td>Positive</td>\n",
              "      <td>getting borderland murder</td>\n",
              "      <td>3</td>\n",
              "    </tr>\n",
              "    <tr>\n",
              "      <th>4</th>\n",
              "      <td>2401</td>\n",
              "      <td>Borderlands</td>\n",
              "      <td>Positive</td>\n",
              "      <td>getting borderland murder</td>\n",
              "      <td>3</td>\n",
              "    </tr>\n",
              "  </tbody>\n",
              "</table>\n",
              "</div>\n",
              "    <div class=\"colab-df-buttons\">\n",
              "\n",
              "  <div class=\"colab-df-container\">\n",
              "    <button class=\"colab-df-convert\" onclick=\"convertToInteractive('df-c96e4c25-c9e6-497a-91c8-4b76a3dcbd87')\"\n",
              "            title=\"Convert this dataframe to an interactive table.\"\n",
              "            style=\"display:none;\">\n",
              "\n",
              "  <svg xmlns=\"http://www.w3.org/2000/svg\" height=\"24px\" viewBox=\"0 -960 960 960\">\n",
              "    <path d=\"M120-120v-720h720v720H120Zm60-500h600v-160H180v160Zm220 220h160v-160H400v160Zm0 220h160v-160H400v160ZM180-400h160v-160H180v160Zm440 0h160v-160H620v160ZM180-180h160v-160H180v160Zm440 0h160v-160H620v160Z\"/>\n",
              "  </svg>\n",
              "    </button>\n",
              "\n",
              "  <style>\n",
              "    .colab-df-container {\n",
              "      display:flex;\n",
              "      gap: 12px;\n",
              "    }\n",
              "\n",
              "    .colab-df-convert {\n",
              "      background-color: #E8F0FE;\n",
              "      border: none;\n",
              "      border-radius: 50%;\n",
              "      cursor: pointer;\n",
              "      display: none;\n",
              "      fill: #1967D2;\n",
              "      height: 32px;\n",
              "      padding: 0 0 0 0;\n",
              "      width: 32px;\n",
              "    }\n",
              "\n",
              "    .colab-df-convert:hover {\n",
              "      background-color: #E2EBFA;\n",
              "      box-shadow: 0px 1px 2px rgba(60, 64, 67, 0.3), 0px 1px 3px 1px rgba(60, 64, 67, 0.15);\n",
              "      fill: #174EA6;\n",
              "    }\n",
              "\n",
              "    .colab-df-buttons div {\n",
              "      margin-bottom: 4px;\n",
              "    }\n",
              "\n",
              "    [theme=dark] .colab-df-convert {\n",
              "      background-color: #3B4455;\n",
              "      fill: #D2E3FC;\n",
              "    }\n",
              "\n",
              "    [theme=dark] .colab-df-convert:hover {\n",
              "      background-color: #434B5C;\n",
              "      box-shadow: 0px 1px 3px 1px rgba(0, 0, 0, 0.15);\n",
              "      filter: drop-shadow(0px 1px 2px rgba(0, 0, 0, 0.3));\n",
              "      fill: #FFFFFF;\n",
              "    }\n",
              "  </style>\n",
              "\n",
              "    <script>\n",
              "      const buttonEl =\n",
              "        document.querySelector('#df-c96e4c25-c9e6-497a-91c8-4b76a3dcbd87 button.colab-df-convert');\n",
              "      buttonEl.style.display =\n",
              "        google.colab.kernel.accessAllowed ? 'block' : 'none';\n",
              "\n",
              "      async function convertToInteractive(key) {\n",
              "        const element = document.querySelector('#df-c96e4c25-c9e6-497a-91c8-4b76a3dcbd87');\n",
              "        const dataTable =\n",
              "          await google.colab.kernel.invokeFunction('convertToInteractive',\n",
              "                                                    [key], {});\n",
              "        if (!dataTable) return;\n",
              "\n",
              "        const docLinkHtml = 'Like what you see? Visit the ' +\n",
              "          '<a target=\"_blank\" href=https://colab.research.google.com/notebooks/data_table.ipynb>data table notebook</a>'\n",
              "          + ' to learn more about interactive tables.';\n",
              "        element.innerHTML = '';\n",
              "        dataTable['output_type'] = 'display_data';\n",
              "        await google.colab.output.renderOutput(dataTable, element);\n",
              "        const docLink = document.createElement('div');\n",
              "        docLink.innerHTML = docLinkHtml;\n",
              "        element.appendChild(docLink);\n",
              "      }\n",
              "    </script>\n",
              "  </div>\n",
              "\n",
              "\n",
              "<div id=\"df-2ffeaa7e-1ce5-4ecc-a7b7-630a2e97ff32\">\n",
              "  <button class=\"colab-df-quickchart\" onclick=\"quickchart('df-2ffeaa7e-1ce5-4ecc-a7b7-630a2e97ff32')\"\n",
              "            title=\"Suggest charts\"\n",
              "            style=\"display:none;\">\n",
              "\n",
              "<svg xmlns=\"http://www.w3.org/2000/svg\" height=\"24px\"viewBox=\"0 0 24 24\"\n",
              "     width=\"24px\">\n",
              "    <g>\n",
              "        <path d=\"M19 3H5c-1.1 0-2 .9-2 2v14c0 1.1.9 2 2 2h14c1.1 0 2-.9 2-2V5c0-1.1-.9-2-2-2zM9 17H7v-7h2v7zm4 0h-2V7h2v10zm4 0h-2v-4h2v4z\"/>\n",
              "    </g>\n",
              "</svg>\n",
              "  </button>\n",
              "\n",
              "<style>\n",
              "  .colab-df-quickchart {\n",
              "      --bg-color: #E8F0FE;\n",
              "      --fill-color: #1967D2;\n",
              "      --hover-bg-color: #E2EBFA;\n",
              "      --hover-fill-color: #174EA6;\n",
              "      --disabled-fill-color: #AAA;\n",
              "      --disabled-bg-color: #DDD;\n",
              "  }\n",
              "\n",
              "  [theme=dark] .colab-df-quickchart {\n",
              "      --bg-color: #3B4455;\n",
              "      --fill-color: #D2E3FC;\n",
              "      --hover-bg-color: #434B5C;\n",
              "      --hover-fill-color: #FFFFFF;\n",
              "      --disabled-bg-color: #3B4455;\n",
              "      --disabled-fill-color: #666;\n",
              "  }\n",
              "\n",
              "  .colab-df-quickchart {\n",
              "    background-color: var(--bg-color);\n",
              "    border: none;\n",
              "    border-radius: 50%;\n",
              "    cursor: pointer;\n",
              "    display: none;\n",
              "    fill: var(--fill-color);\n",
              "    height: 32px;\n",
              "    padding: 0;\n",
              "    width: 32px;\n",
              "  }\n",
              "\n",
              "  .colab-df-quickchart:hover {\n",
              "    background-color: var(--hover-bg-color);\n",
              "    box-shadow: 0 1px 2px rgba(60, 64, 67, 0.3), 0 1px 3px 1px rgba(60, 64, 67, 0.15);\n",
              "    fill: var(--button-hover-fill-color);\n",
              "  }\n",
              "\n",
              "  .colab-df-quickchart-complete:disabled,\n",
              "  .colab-df-quickchart-complete:disabled:hover {\n",
              "    background-color: var(--disabled-bg-color);\n",
              "    fill: var(--disabled-fill-color);\n",
              "    box-shadow: none;\n",
              "  }\n",
              "\n",
              "  .colab-df-spinner {\n",
              "    border: 2px solid var(--fill-color);\n",
              "    border-color: transparent;\n",
              "    border-bottom-color: var(--fill-color);\n",
              "    animation:\n",
              "      spin 1s steps(1) infinite;\n",
              "  }\n",
              "\n",
              "  @keyframes spin {\n",
              "    0% {\n",
              "      border-color: transparent;\n",
              "      border-bottom-color: var(--fill-color);\n",
              "      border-left-color: var(--fill-color);\n",
              "    }\n",
              "    20% {\n",
              "      border-color: transparent;\n",
              "      border-left-color: var(--fill-color);\n",
              "      border-top-color: var(--fill-color);\n",
              "    }\n",
              "    30% {\n",
              "      border-color: transparent;\n",
              "      border-left-color: var(--fill-color);\n",
              "      border-top-color: var(--fill-color);\n",
              "      border-right-color: var(--fill-color);\n",
              "    }\n",
              "    40% {\n",
              "      border-color: transparent;\n",
              "      border-right-color: var(--fill-color);\n",
              "      border-top-color: var(--fill-color);\n",
              "    }\n",
              "    60% {\n",
              "      border-color: transparent;\n",
              "      border-right-color: var(--fill-color);\n",
              "    }\n",
              "    80% {\n",
              "      border-color: transparent;\n",
              "      border-right-color: var(--fill-color);\n",
              "      border-bottom-color: var(--fill-color);\n",
              "    }\n",
              "    90% {\n",
              "      border-color: transparent;\n",
              "      border-bottom-color: var(--fill-color);\n",
              "    }\n",
              "  }\n",
              "</style>\n",
              "\n",
              "  <script>\n",
              "    async function quickchart(key) {\n",
              "      const quickchartButtonEl =\n",
              "        document.querySelector('#' + key + ' button');\n",
              "      quickchartButtonEl.disabled = true;  // To prevent multiple clicks.\n",
              "      quickchartButtonEl.classList.add('colab-df-spinner');\n",
              "      try {\n",
              "        const charts = await google.colab.kernel.invokeFunction(\n",
              "            'suggestCharts', [key], {});\n",
              "      } catch (error) {\n",
              "        console.error('Error during call to suggestCharts:', error);\n",
              "      }\n",
              "      quickchartButtonEl.classList.remove('colab-df-spinner');\n",
              "      quickchartButtonEl.classList.add('colab-df-quickchart-complete');\n",
              "    }\n",
              "    (() => {\n",
              "      let quickchartButtonEl =\n",
              "        document.querySelector('#df-2ffeaa7e-1ce5-4ecc-a7b7-630a2e97ff32 button');\n",
              "      quickchartButtonEl.style.display =\n",
              "        google.colab.kernel.accessAllowed ? 'block' : 'none';\n",
              "    })();\n",
              "  </script>\n",
              "</div>\n",
              "\n",
              "    </div>\n",
              "  </div>\n"
            ],
            "application/vnd.google.colaboratory.intrinsic+json": {
              "type": "dataframe",
              "variable_name": "training_data",
              "summary": "{\n  \"name\": \"training_data\",\n  \"rows\": 73995,\n  \"fields\": [\n    {\n      \"column\": \"tweet id\",\n      \"properties\": {\n        \"dtype\": \"number\",\n        \"std\": 3737,\n        \"min\": 1,\n        \"max\": 13200,\n        \"num_unique_values\": 12447,\n        \"samples\": [\n          1616,\n          2660,\n          2335\n        ],\n        \"semantic_type\": \"\",\n        \"description\": \"\"\n      }\n    },\n    {\n      \"column\": \"entity\",\n      \"properties\": {\n        \"dtype\": \"category\",\n        \"num_unique_values\": 32,\n        \"samples\": [\n          \"Cyberpunk2077\",\n          \"Microsoft\",\n          \"TomClancysRainbowSix\"\n        ],\n        \"semantic_type\": \"\",\n        \"description\": \"\"\n      }\n    },\n    {\n      \"column\": \"sentiment\",\n      \"properties\": {\n        \"dtype\": \"category\",\n        \"num_unique_values\": 4,\n        \"samples\": [\n          \"Neutral\",\n          \"Irrelevant\",\n          \"Positive\"\n        ],\n        \"semantic_type\": \"\",\n        \"description\": \"\"\n      }\n    },\n    {\n      \"column\": \"content\",\n      \"properties\": {\n        \"dtype\": \"string\",\n        \"num_unique_values\": 60706,\n        \"samples\": [\n          \"that wrap after hour streaming hour played stream episode screenshots unk finally finished\",\n          \"optifine beats cypunk\",\n          \"striptease tombar game time red dead redeeming\"\n        ],\n        \"semantic_type\": \"\",\n        \"description\": \"\"\n      }\n    },\n    {\n      \"column\": \"label_sentiment\",\n      \"properties\": {\n        \"dtype\": \"number\",\n        \"std\": 1,\n        \"min\": 0,\n        \"max\": 3,\n        \"num_unique_values\": 4,\n        \"samples\": [\n          2,\n          0,\n          3\n        ],\n        \"semantic_type\": \"\",\n        \"description\": \"\"\n      }\n    }\n  ]\n}"
            }
          },
          "metadata": {},
          "execution_count": 18
        }
      ]
    },
    {
      "cell_type": "code",
      "source": [
        "from PIL import Image\n",
        "from wordcloud import WordCloud\n",
        "\n",
        "text = \" \".join(training_data[\"content\"])\n",
        "\n",
        "wordcloud = WordCloud(max_font_size=50, max_words=50, background_color=\"blacK\").generate(text)\n",
        "plt.figure()\n",
        "plt.imshow(wordcloud, interpolation=\"bilinear\")\n",
        "plt.axis(\"off\")\n",
        "plt.show()"
      ],
      "metadata": {
        "execution": {
          "iopub.status.busy": "2024-07-14T17:19:49.520072Z",
          "iopub.execute_input": "2024-07-14T17:19:49.520337Z",
          "iopub.status.idle": "2024-07-14T17:19:55.094729Z",
          "shell.execute_reply.started": "2024-07-14T17:19:49.520313Z",
          "shell.execute_reply": "2024-07-14T17:19:55.093444Z"
        },
        "trusted": true,
        "colab": {
          "base_uri": "https://localhost:8080/",
          "height": 285
        },
        "id": "Qti9mhxOEg4x",
        "outputId": "3ac36936-47fd-4ef7-9940-7df4e0b7f10e"
      },
      "execution_count": 19,
      "outputs": [
        {
          "output_type": "display_data",
          "data": {
            "text/plain": [
              "<Figure size 640x480 with 1 Axes>"
            ],
            "image/png": "[encoded data removed]"
          },
          "metadata": {}
        }
      ]
    },
    {
      "cell_type": "code",
      "source": [
        "from random import randint\n",
        "\n",
        "x = randint(0, training_data.shape[0])\n",
        "\n",
        "training_data.iloc[x:x+5, :]"
      ],
      "metadata": {
        "execution": {
          "iopub.status.busy": "2024-07-14T17:19:55.096144Z",
          "iopub.execute_input": "2024-07-14T17:19:55.097049Z",
          "iopub.status.idle": "2024-07-14T17:19:55.115515Z",
          "shell.execute_reply.started": "2024-07-14T17:19:55.097002Z",
          "shell.execute_reply": "2024-07-14T17:19:55.114155Z"
        },
        "trusted": true,
        "colab": {
          "base_uri": "https://localhost:8080/",
          "height": 206
        },
        "id": "ccGRm-wgEg4x",
        "outputId": "8bb88fc2-fa99-4c36-ccfe-56004d0cb81a"
      },
      "execution_count": 20,
      "outputs": [
        {
          "output_type": "execute_result",
          "data": {
            "text/plain": [
              "       tweet id           entity sentiment  \\\n",
              "67437      7149  johnson&johnson   Neutral   \n",
              "67438      7149  johnson&johnson   Neutral   \n",
              "67439      7150  johnson&johnson  Negative   \n",
              "67440      7150  johnson&johnson  Negative   \n",
              "67441      7150  johnson&johnson  Negative   \n",
              "\n",
              "                                                 content  label_sentiment  \n",
              "67437  jnj new article johnson johnson has sued just ...                2  \n",
              "67438  unk new article posted taylor read over failin...                2  \n",
              "67439             this might scariest headline ever read                1  \n",
              "67440             this could scariest headline ever read                1  \n",
              "67441               probably scariest headline ever read                1  "
            ],
            "text/html": [
              "\n",
              "  <div id=\"df-de5f854f-c70a-4099-a528-16e4b1303e2c\" class=\"colab-df-container\">\n",
              "    <div>\n",
              "<style scoped>\n",
              "    .dataframe tbody tr th:only-of-type {\n",
              "        vertical-align: middle;\n",
              "    }\n",
              "\n",
              "    .dataframe tbody tr th {\n",
              "        vertical-align: top;\n",
              "    }\n",
              "\n",
              "    .dataframe thead th {\n",
              "        text-align: right;\n",
              "    }\n",
              "</style>\n",
              "<table border=\"1\" class=\"dataframe\">\n",
              "  <thead>\n",
              "    <tr style=\"text-align: right;\">\n",
              "      <th></th>\n",
              "      <th>tweet id</th>\n",
              "      <th>entity</th>\n",
              "      <th>sentiment</th>\n",
              "      <th>content</th>\n",
              "      <th>label_sentiment</th>\n",
              "    </tr>\n",
              "  </thead>\n",
              "  <tbody>\n",
              "    <tr>\n",
              "      <th>67437</th>\n",
              "      <td>7149</td>\n",
              "      <td>johnson&amp;johnson</td>\n",
              "      <td>Neutral</td>\n",
              "      <td>jnj new article johnson johnson has sued just ...</td>\n",
              "      <td>2</td>\n",
              "    </tr>\n",
              "    <tr>\n",
              "      <th>67438</th>\n",
              "      <td>7149</td>\n",
              "      <td>johnson&amp;johnson</td>\n",
              "      <td>Neutral</td>\n",
              "      <td>unk new article posted taylor read over failin...</td>\n",
              "      <td>2</td>\n",
              "    </tr>\n",
              "    <tr>\n",
              "      <th>67439</th>\n",
              "      <td>7150</td>\n",
              "      <td>johnson&amp;johnson</td>\n",
              "      <td>Negative</td>\n",
              "      <td>this might scariest headline ever read</td>\n",
              "      <td>1</td>\n",
              "    </tr>\n",
              "    <tr>\n",
              "      <th>67440</th>\n",
              "      <td>7150</td>\n",
              "      <td>johnson&amp;johnson</td>\n",
              "      <td>Negative</td>\n",
              "      <td>this could scariest headline ever read</td>\n",
              "      <td>1</td>\n",
              "    </tr>\n",
              "    <tr>\n",
              "      <th>67441</th>\n",
              "      <td>7150</td>\n",
              "      <td>johnson&amp;johnson</td>\n",
              "      <td>Negative</td>\n",
              "      <td>probably scariest headline ever read</td>\n",
              "      <td>1</td>\n",
              "    </tr>\n",
              "  </tbody>\n",
              "</table>\n",
              "</div>\n",
              "    <div class=\"colab-df-buttons\">\n",
              "\n",
              "  <div class=\"colab-df-container\">\n",
              "    <button class=\"colab-df-convert\" onclick=\"convertToInteractive('df-de5f854f-c70a-4099-a528-16e4b1303e2c')\"\n",
              "            title=\"Convert this dataframe to an interactive table.\"\n",
              "            style=\"display:none;\">\n",
              "\n",
              "  <svg xmlns=\"http://www.w3.org/2000/svg\" height=\"24px\" viewBox=\"0 -960 960 960\">\n",
              "    <path d=\"M120-120v-720h720v720H120Zm60-500h600v-160H180v160Zm220 220h160v-160H400v160Zm0 220h160v-160H400v160ZM180-400h160v-160H180v160Zm440 0h160v-160H620v160ZM180-180h160v-160H180v160Zm440 0h160v-160H620v160Z\"/>\n",
              "  </svg>\n",
              "    </button>\n",
              "\n",
              "  <style>\n",
              "    .colab-df-container {\n",
              "      display:flex;\n",
              "      gap: 12px;\n",
              "    }\n",
              "\n",
              "    .colab-df-convert {\n",
              "      background-color: #E8F0FE;\n",
              "      border: none;\n",
              "      border-radius: 50%;\n",
              "      cursor: pointer;\n",
              "      display: none;\n",
              "      fill: #1967D2;\n",
              "      height: 32px;\n",
              "      padding: 0 0 0 0;\n",
              "      width: 32px;\n",
              "    }\n",
              "\n",
              "    .colab-df-convert:hover {\n",
              "      background-color: #E2EBFA;\n",
              "      box-shadow: 0px 1px 2px rgba(60, 64, 67, 0.3), 0px 1px 3px 1px rgba(60, 64, 67, 0.15);\n",
              "      fill: #174EA6;\n",
              "    }\n",
              "\n",
              "    .colab-df-buttons div {\n",
              "      margin-bottom: 4px;\n",
              "    }\n",
              "\n",
              "    [theme=dark] .colab-df-convert {\n",
              "      background-color: #3B4455;\n",
              "      fill: #D2E3FC;\n",
              "    }\n",
              "\n",
              "    [theme=dark] .colab-df-convert:hover {\n",
              "      background-color: #434B5C;\n",
              "      box-shadow: 0px 1px 3px 1px rgba(0, 0, 0, 0.15);\n",
              "      filter: drop-shadow(0px 1px 2px rgba(0, 0, 0, 0.3));\n",
              "      fill: #FFFFFF;\n",
              "    }\n",
              "  </style>\n",
              "\n",
              "    <script>\n",
              "      const buttonEl =\n",
              "        document.querySelector('#df-de5f854f-c70a-4099-a528-16e4b1303e2c button.colab-df-convert');\n",
              "      buttonEl.style.display =\n",
              "        google.colab.kernel.accessAllowed ? 'block' : 'none';\n",
              "\n",
              "      async function convertToInteractive(key) {\n",
              "        const element = document.querySelector('#df-de5f854f-c70a-4099-a528-16e4b1303e2c');\n",
              "        const dataTable =\n",
              "          await google.colab.kernel.invokeFunction('convertToInteractive',\n",
              "                                                    [key], {});\n",
              "        if (!dataTable) return;\n",
              "\n",
              "        const docLinkHtml = 'Like what you see? Visit the ' +\n",
              "          '<a target=\"_blank\" href=https://colab.research.google.com/notebooks/data_table.ipynb>data table notebook</a>'\n",
              "          + ' to learn more about interactive tables.';\n",
              "        element.innerHTML = '';\n",
              "        dataTable['output_type'] = 'display_data';\n",
              "        await google.colab.output.renderOutput(dataTable, element);\n",
              "        const docLink = document.createElement('div');\n",
              "        docLink.innerHTML = docLinkHtml;\n",
              "        element.appendChild(docLink);\n",
              "      }\n",
              "    </script>\n",
              "  </div>\n",
              "\n",
              "\n",
              "<div id=\"df-58491417-f72e-4d1c-850d-e869b05ac916\">\n",
              "  <button class=\"colab-df-quickchart\" onclick=\"quickchart('df-58491417-f72e-4d1c-850d-e869b05ac916')\"\n",
              "            title=\"Suggest charts\"\n",
              "            style=\"display:none;\">\n",
              "\n",
              "<svg xmlns=\"http://www.w3.org/2000/svg\" height=\"24px\"viewBox=\"0 0 24 24\"\n",
              "     width=\"24px\">\n",
              "    <g>\n",
              "        <path d=\"M19 3H5c-1.1 0-2 .9-2 2v14c0 1.1.9 2 2 2h14c1.1 0 2-.9 2-2V5c0-1.1-.9-2-2-2zM9 17H7v-7h2v7zm4 0h-2V7h2v10zm4 0h-2v-4h2v4z\"/>\n",
              "    </g>\n",
              "</svg>\n",
              "  </button>\n",
              "\n",
              "<style>\n",
              "  .colab-df-quickchart {\n",
              "      --bg-color: #E8F0FE;\n",
              "      --fill-color: #1967D2;\n",
              "      --hover-bg-color: #E2EBFA;\n",
              "      --hover-fill-color: #174EA6;\n",
              "      --disabled-fill-color: #AAA;\n",
              "      --disabled-bg-color: #DDD;\n",
              "  }\n",
              "\n",
              "  [theme=dark] .colab-df-quickchart {\n",
              "      --bg-color: #3B4455;\n",
              "      --fill-color: #D2E3FC;\n",
              "      --hover-bg-color: #434B5C;\n",
              "      --hover-fill-color: #FFFFFF;\n",
              "      --disabled-bg-color: #3B4455;\n",
              "      --disabled-fill-color: #666;\n",
              "  }\n",
              "\n",
              "  .colab-df-quickchart {\n",
              "    background-color: var(--bg-color);\n",
              "    border: none;\n",
              "    border-radius: 50%;\n",
              "    cursor: pointer;\n",
              "    display: none;\n",
              "    fill: var(--fill-color);\n",
              "    height: 32px;\n",
              "    padding: 0;\n",
              "    width: 32px;\n",
              "  }\n",
              "\n",
              "  .colab-df-quickchart:hover {\n",
              "    background-color: var(--hover-bg-color);\n",
              "    box-shadow: 0 1px 2px rgba(60, 64, 67, 0.3), 0 1px 3px 1px rgba(60, 64, 67, 0.15);\n",
              "    fill: var(--button-hover-fill-color);\n",
              "  }\n",
              "\n",
              "  .colab-df-quickchart-complete:disabled,\n",
              "  .colab-df-quickchart-complete:disabled:hover {\n",
              "    background-color: var(--disabled-bg-color);\n",
              "    fill: var(--disabled-fill-color);\n",
              "    box-shadow: none;\n",
              "  }\n",
              "\n",
              "  .colab-df-spinner {\n",
              "    border: 2px solid var(--fill-color);\n",
              "    border-color: transparent;\n",
              "    border-bottom-color: var(--fill-color);\n",
              "    animation:\n",
              "      spin 1s steps(1) infinite;\n",
              "  }\n",
              "\n",
              "  @keyframes spin {\n",
              "    0% {\n",
              "      border-color: transparent;\n",
              "      border-bottom-color: var(--fill-color);\n",
              "      border-left-color: var(--fill-color);\n",
              "    }\n",
              "    20% {\n",
              "      border-color: transparent;\n",
              "      border-left-color: var(--fill-color);\n",
              "      border-top-color: var(--fill-color);\n",
              "    }\n",
              "    30% {\n",
              "      border-color: transparent;\n",
              "      border-left-color: var(--fill-color);\n",
              "      border-top-color: var(--fill-color);\n",
              "      border-right-color: var(--fill-color);\n",
              "    }\n",
              "    40% {\n",
              "      border-color: transparent;\n",
              "      border-right-color: var(--fill-color);\n",
              "      border-top-color: var(--fill-color);\n",
              "    }\n",
              "    60% {\n",
              "      border-color: transparent;\n",
              "      border-right-color: var(--fill-color);\n",
              "    }\n",
              "    80% {\n",
              "      border-color: transparent;\n",
              "      border-right-color: var(--fill-color);\n",
              "      border-bottom-color: var(--fill-color);\n",
              "    }\n",
              "    90% {\n",
              "      border-color: transparent;\n",
              "      border-bottom-color: var(--fill-color);\n",
              "    }\n",
              "  }\n",
              "</style>\n",
              "\n",
              "  <script>\n",
              "    async function quickchart(key) {\n",
              "      const quickchartButtonEl =\n",
              "        document.querySelector('#' + key + ' button');\n",
              "      quickchartButtonEl.disabled = true;  // To prevent multiple clicks.\n",
              "      quickchartButtonEl.classList.add('colab-df-spinner');\n",
              "      try {\n",
              "        const charts = await google.colab.kernel.invokeFunction(\n",
              "            'suggestCharts', [key], {});\n",
              "      } catch (error) {\n",
              "        console.error('Error during call to suggestCharts:', error);\n",
              "      }\n",
              "      quickchartButtonEl.classList.remove('colab-df-spinner');\n",
              "      quickchartButtonEl.classList.add('colab-df-quickchart-complete');\n",
              "    }\n",
              "    (() => {\n",
              "      let quickchartButtonEl =\n",
              "        document.querySelector('#df-58491417-f72e-4d1c-850d-e869b05ac916 button');\n",
              "      quickchartButtonEl.style.display =\n",
              "        google.colab.kernel.accessAllowed ? 'block' : 'none';\n",
              "    })();\n",
              "  </script>\n",
              "</div>\n",
              "\n",
              "    </div>\n",
              "  </div>\n"
            ],
            "application/vnd.google.colaboratory.intrinsic+json": {
              "type": "dataframe",
              "summary": "{\n  \"name\": \"training_data\",\n  \"rows\": 5,\n  \"fields\": [\n    {\n      \"column\": \"tweet id\",\n      \"properties\": {\n        \"dtype\": \"number\",\n        \"std\": 0,\n        \"min\": 7149,\n        \"max\": 7150,\n        \"num_unique_values\": 2,\n        \"samples\": [\n          7150,\n          7149\n        ],\n        \"semantic_type\": \"\",\n        \"description\": \"\"\n      }\n    },\n    {\n      \"column\": \"entity\",\n      \"properties\": {\n        \"dtype\": \"category\",\n        \"num_unique_values\": 1,\n        \"samples\": [\n          \"johnson&johnson\"\n        ],\n        \"semantic_type\": \"\",\n        \"description\": \"\"\n      }\n    },\n    {\n      \"column\": \"sentiment\",\n      \"properties\": {\n        \"dtype\": \"category\",\n        \"num_unique_values\": 2,\n        \"samples\": [\n          \"Negative\"\n        ],\n        \"semantic_type\": \"\",\n        \"description\": \"\"\n      }\n    },\n    {\n      \"column\": \"content\",\n      \"properties\": {\n        \"dtype\": \"string\",\n        \"num_unique_values\": 5,\n        \"samples\": [\n          \"unk new article posted taylor read over failing ipo deliver promised post merger returns via auris magazine stck pro news jnj get even latest jnj related topic stck pro news jnj http wsgglhlqr\"\n        ],\n        \"semantic_type\": \"\",\n        \"description\": \"\"\n      }\n    },\n    {\n      \"column\": \"label_sentiment\",\n      \"properties\": {\n        \"dtype\": \"number\",\n        \"std\": 0,\n        \"min\": 1,\n        \"max\": 2,\n        \"num_unique_values\": 2,\n        \"samples\": [\n          1\n        ],\n        \"semantic_type\": \"\",\n        \"description\": \"\"\n      }\n    }\n  ]\n}"
            }
          },
          "metadata": {},
          "execution_count": 20
        }
      ]
    },
    {
      "cell_type": "markdown",
      "source": [
        "### Modeling"
      ],
      "metadata": {
        "id": "YztVeRIkEg4x"
      }
    },
    {
      "cell_type": "code",
      "source": [
        "device = (\n",
        "    \"cuda\"\n",
        "    if torch.cuda.is_available()\n",
        "    else \"mps\"\n",
        "    if torch.backends.mps.is_available()\n",
        "    else \"cpu\"\n",
        ")"
      ],
      "metadata": {
        "execution": {
          "iopub.status.busy": "2024-07-14T17:19:55.117089Z",
          "iopub.execute_input": "2024-07-14T17:19:55.117791Z",
          "iopub.status.idle": "2024-07-14T17:19:55.176409Z",
          "shell.execute_reply.started": "2024-07-14T17:19:55.11775Z",
          "shell.execute_reply": "2024-07-14T17:19:55.175512Z"
        },
        "trusted": true,
        "id": "b3KGutrGEg4y"
      },
      "execution_count": 21,
      "outputs": []
    },
    {
      "cell_type": "code",
      "source": [
        "def get_vocab(X):\n",
        "    vocab = {'__UNK__': 0}\n",
        "\n",
        "    for item in X:\n",
        "        for word in item.split():\n",
        "            if word not in vocab:\n",
        "                vocab[word] = len(vocab)\n",
        "\n",
        "    return vocab\n",
        "\n",
        "vocab = get_vocab(training_data[\"content\"])"
      ],
      "metadata": {
        "execution": {
          "iopub.status.busy": "2024-07-14T17:19:55.177718Z",
          "iopub.execute_input": "2024-07-14T17:19:55.178038Z",
          "iopub.status.idle": "2024-07-14T17:19:55.343872Z",
          "shell.execute_reply.started": "2024-07-14T17:19:55.178013Z",
          "shell.execute_reply": "2024-07-14T17:19:55.343159Z"
        },
        "trusted": true,
        "id": "am-jugwzEg4y"
      },
      "execution_count": 22,
      "outputs": []
    },
    {
      "cell_type": "code",
      "source": [
        "print(len(vocab))"
      ],
      "metadata": {
        "execution": {
          "iopub.status.busy": "2024-07-14T17:19:55.344884Z",
          "iopub.execute_input": "2024-07-14T17:19:55.345158Z",
          "iopub.status.idle": "2024-07-14T17:19:55.349592Z",
          "shell.execute_reply.started": "2024-07-14T17:19:55.345134Z",
          "shell.execute_reply": "2024-07-14T17:19:55.348624Z"
        },
        "trusted": true,
        "colab": {
          "base_uri": "https://localhost:8080/"
        },
        "id": "OCBPqJn_Eg4y",
        "outputId": "ea3dd4a4-e223-4b1a-aabb-919f8d824ded"
      },
      "execution_count": 23,
      "outputs": [
        {
          "output_type": "stream",
          "name": "stdout",
          "text": [
            "27371\n"
          ]
        }
      ]
    },
    {
      "cell_type": "code",
      "source": [
        "def text_to_tensor(text, unk_token='__UNK__'):\n",
        "\n",
        "    tensor = [0] * 130\n",
        "\n",
        "    for e, word in enumerate(text.split()):\n",
        "        if not word in vocab:\n",
        "            word = unk_token\n",
        "\n",
        "        tensor[e] = vocab[word]\n",
        "\n",
        "    return tensor"
      ],
      "metadata": {
        "execution": {
          "iopub.status.busy": "2024-07-14T17:19:55.350736Z",
          "iopub.execute_input": "2024-07-14T17:19:55.351078Z",
          "iopub.status.idle": "2024-07-14T17:19:55.356955Z",
          "shell.execute_reply.started": "2024-07-14T17:19:55.350995Z",
          "shell.execute_reply": "2024-07-14T17:19:55.356223Z"
        },
        "trusted": true,
        "id": "Qh4mOz0sEg4y"
      },
      "execution_count": 24,
      "outputs": []
    },
    {
      "cell_type": "code",
      "source": [
        "m = 0\n",
        "\n",
        "list_x = training_data[\"content\"].values\n",
        "\n",
        "for i in range(training_data[\"content\"].shape[0]):\n",
        "    if len(text_to_tensor(list_x[i])) > m:\n",
        "        m = len(text_to_tensor(list_x[i]))\n",
        "\n",
        "print(m)"
      ],
      "metadata": {
        "execution": {
          "iopub.status.busy": "2024-07-14T17:19:55.357961Z",
          "iopub.execute_input": "2024-07-14T17:19:55.358265Z",
          "iopub.status.idle": "2024-07-14T17:19:55.76036Z",
          "shell.execute_reply.started": "2024-07-14T17:19:55.358231Z",
          "shell.execute_reply": "2024-07-14T17:19:55.759542Z"
        },
        "trusted": true,
        "colab": {
          "base_uri": "https://localhost:8080/"
        },
        "id": "hvktAQ2TEg4z",
        "outputId": "970428f7-9ee0-4581-f77a-285817b3764e"
      },
      "execution_count": 25,
      "outputs": [
        {
          "output_type": "stream",
          "name": "stdout",
          "text": [
            "130\n"
          ]
        }
      ]
    },
    {
      "cell_type": "code",
      "source": [
        "X = list(training_data[\"content\"].apply(text_to_tensor))\n",
        "y = list(training_data[\"sentiment\"])"
      ],
      "metadata": {
        "execution": {
          "iopub.status.busy": "2024-07-14T17:19:55.761483Z",
          "iopub.execute_input": "2024-07-14T17:19:55.761775Z",
          "iopub.status.idle": "2024-07-14T17:19:56.244372Z",
          "shell.execute_reply.started": "2024-07-14T17:19:55.76175Z",
          "shell.execute_reply": "2024-07-14T17:19:56.243631Z"
        },
        "trusted": true,
        "id": "ds3bh97QEg4z"
      },
      "execution_count": 26,
      "outputs": []
    },
    {
      "cell_type": "code",
      "source": [
        "X_train = training_data[\"content\"].values\n",
        "y_train = training_data[\"sentiment\"].values\n",
        "\n",
        "X_test = validation_data[\"content\"].values\n",
        "y_test = validation_data[\"sentiment\"].values"
      ],
      "metadata": {
        "execution": {
          "iopub.status.busy": "2024-07-14T17:19:56.24555Z",
          "iopub.execute_input": "2024-07-14T17:19:56.245878Z",
          "iopub.status.idle": "2024-07-14T17:19:56.284293Z",
          "shell.execute_reply.started": "2024-07-14T17:19:56.245846Z",
          "shell.execute_reply": "2024-07-14T17:19:56.283423Z"
        },
        "trusted": true,
        "id": "FoO_QufVEg4z"
      },
      "execution_count": 27,
      "outputs": []
    },
    {
      "cell_type": "code",
      "source": [
        "# Convert text data to numerical representations first\n",
        "X_train_tensor = torch.tensor([text_to_tensor(text) for text in X_train])\n",
        "\n",
        "# Convert string labels to numerical labels (assuming binary sentiment)\n",
        "y_train_numerical = [1 if label == 'Positive' else 0 for label in y_train]\n",
        "y_train_tensor = torch.tensor(y_train_numerical)  # Now convert to tensor\n",
        "\n",
        "# Move tensors to the desired device\n",
        "X_train_tensor = X_train_tensor.to(device)\n",
        "y_train_tensor = y_train_tensor.to(device)\n",
        "\n",
        "# Create TensorDataset and DataLoader\n",
        "train_data = TensorDataset(X_train_tensor, y_train_tensor)\n",
        "train_loader = DataLoader(train_data, batch_size=2, shuffle=True)"
      ],
      "metadata": {
        "execution": {
          "iopub.status.busy": "2024-07-14T17:19:56.285732Z",
          "iopub.execute_input": "2024-07-14T17:19:56.286069Z",
          "iopub.status.idle": "2024-07-14T17:19:59.109278Z",
          "shell.execute_reply.started": "2024-07-14T17:19:56.286038Z",
          "shell.execute_reply": "2024-07-14T17:19:59.108499Z"
        },
        "trusted": true,
        "id": "OfOlNlXzEg4z"
      },
      "execution_count": 28,
      "outputs": []
    },
    {
      "cell_type": "code",
      "source": [
        "# Convert text data to numerical representations first\n",
        "X_test_tensor = torch.tensor([text_to_tensor(text) for text in X_test])\n",
        "\n",
        "# Assuming 'text_to_tensor' converts text to numerical form (like word embeddings)\n",
        "# If y_test is already numerical, you might not need this step\n",
        "y_test_numerical = [1 if label == 'Positive' else 0 for label in y_test]\n",
        "y_test_tensor = torch.tensor(y_test_numerical)\n",
        "\n",
        "X_test_tensor = X_test_tensor.to(device)\n",
        "y_test_tensor = y_test_tensor.to(device)\n",
        "\n",
        "test_data = TensorDataset(X_test_tensor, y_test_tensor)\n",
        "test_loader = DataLoader(test_data, batch_size=2, shuffle=True)"
      ],
      "metadata": {
        "execution": {
          "iopub.status.busy": "2024-07-14T17:19:59.114826Z",
          "iopub.execute_input": "2024-07-14T17:19:59.11511Z",
          "iopub.status.idle": "2024-07-14T17:19:59.76264Z",
          "shell.execute_reply.started": "2024-07-14T17:19:59.115086Z",
          "shell.execute_reply": "2024-07-14T17:19:59.761844Z"
        },
        "trusted": true,
        "id": "3ZoOzDDAEg4z"
      },
      "execution_count": 29,
      "outputs": []
    },
    {
      "cell_type": "code",
      "source": [
        "print(\"X_train shape:\", X_train.shape)\n",
        "print(\"y_train shape:\", y_train.shape)\n",
        "print(\"train_data length:\", len(train_data))"
      ],
      "metadata": {
        "execution": {
          "iopub.status.busy": "2024-07-14T17:19:59.7639Z",
          "iopub.execute_input": "2024-07-14T17:19:59.764178Z",
          "iopub.status.idle": "2024-07-14T17:19:59.769293Z",
          "shell.execute_reply.started": "2024-07-14T17:19:59.764153Z",
          "shell.execute_reply": "2024-07-14T17:19:59.768268Z"
        },
        "trusted": true,
        "colab": {
          "base_uri": "https://localhost:8080/"
        },
        "id": "6AgEQPIEEg4z",
        "outputId": "20f28da0-c949-4d33-ef3c-de75e2e24375"
      },
      "execution_count": 30,
      "outputs": [
        {
          "output_type": "stream",
          "name": "stdout",
          "text": [
            "X_train shape: (73995,)\n",
            "y_train shape: (73995,)\n",
            "train_data length: 73995\n"
          ]
        }
      ]
    },
    {
      "cell_type": "code",
      "source": [
        "def train(model, optimizer, criterion, num_epochs):\n",
        "    train_loss = []\n",
        "    train_accuracy = []\n",
        "\n",
        "    for epoch in range(num_epochs):\n",
        "        model.train()\n",
        "        total_correct = 0\n",
        "        total_samples = 0\n",
        "        for inputs, labels in train_loader:\n",
        "            optimizer.zero_grad()\n",
        "            outputs = model(inputs).to(device)\n",
        "            loss = criterion(outputs, labels)\n",
        "            loss.backward()\n",
        "            optimizer.step()\n",
        "\n",
        "            _, predicted = torch.max(outputs, 1)\n",
        "            total_correct += (predicted == labels).sum().item()\n",
        "            total_samples += labels.size(0)\n",
        "\n",
        "        accuracy = total_correct / total_samples\n",
        "        train_loss.append(loss.item())\n",
        "        train_accuracy.append(accuracy * 100)\n",
        "\n",
        "        print(f'Epoch {epoch+1}/{num_epochs}, Loss: {loss.item()}, Accuracy: {accuracy * 100:.2f}%')"
      ],
      "metadata": {
        "execution": {
          "iopub.status.busy": "2024-07-14T17:19:59.770359Z",
          "iopub.execute_input": "2024-07-14T17:19:59.770647Z",
          "iopub.status.idle": "2024-07-14T17:19:59.779242Z",
          "shell.execute_reply.started": "2024-07-14T17:19:59.770625Z",
          "shell.execute_reply": "2024-07-14T17:19:59.778343Z"
        },
        "trusted": true,
        "id": "MtjXCywHEg4z"
      },
      "execution_count": 31,
      "outputs": []
    },
    {
      "cell_type": "code",
      "source": [
        "def test(model):\n",
        "\n",
        "    total_correct = 0\n",
        "    total_samples = 0\n",
        "    for inputs, labels in test_loader:\n",
        "        outputs = model(inputs).to(device)\n",
        "        loss = criterion(outputs, labels)\n",
        "\n",
        "        _, predicted = torch.max(outputs, 1)\n",
        "        total_correct += (predicted == labels).sum().item()\n",
        "        total_samples += labels.size(0)\n",
        "\n",
        "    accuracy = total_correct / total_samples\n",
        "\n",
        "    print(f'Loss: {loss.item()}, Accuracy: {accuracy * 100:.2f}%')"
      ],
      "metadata": {
        "execution": {
          "iopub.status.busy": "2024-07-14T17:19:59.780395Z",
          "iopub.execute_input": "2024-07-14T17:19:59.780741Z",
          "iopub.status.idle": "2024-07-14T17:19:59.790566Z",
          "shell.execute_reply.started": "2024-07-14T17:19:59.780717Z",
          "shell.execute_reply": "2024-07-14T17:19:59.789648Z"
        },
        "trusted": true,
        "id": "B155m50xEg40"
      },
      "execution_count": 32,
      "outputs": []
    },
    {
      "cell_type": "markdown",
      "source": [
        "### Model 1"
      ],
      "metadata": {
        "id": "E0-M7D5vEg40"
      }
    },
    {
      "cell_type": "code",
      "source": [
        "class SimpleNLPModel(nn.Module):\n",
        "    def __init__(self, vocab_size, embed_size, num_classes):\n",
        "        super(SimpleNLPModel, self).__init__()\n",
        "        self.embedding = nn.Embedding(vocab_size, embed_size) #tam dicionario, tam vetor\n",
        "        self.fc = nn.Linear(embed_size, num_classes) #tam entrada, tam saida\n",
        "\n",
        "    def forward(self, x):\n",
        "        embedded = self.embedding(x)\n",
        "        pooled = torch.mean(embedded, dim=1)\n",
        "        out = self.fc(pooled)\n",
        "        return out"
      ],
      "metadata": {
        "execution": {
          "iopub.status.busy": "2024-07-14T17:19:59.79169Z",
          "iopub.execute_input": "2024-07-14T17:19:59.792016Z",
          "iopub.status.idle": "2024-07-14T17:19:59.798658Z",
          "shell.execute_reply.started": "2024-07-14T17:19:59.791983Z",
          "shell.execute_reply": "2024-07-14T17:19:59.79783Z"
        },
        "trusted": true,
        "id": "POC4ltkVEg40"
      },
      "execution_count": 33,
      "outputs": []
    },
    {
      "cell_type": "code",
      "source": [
        "vocab_size = len(vocab) + 1\n",
        "embed_size = 50\n",
        "num_classes = training_data[\"sentiment\"].nunique()"
      ],
      "metadata": {
        "execution": {
          "iopub.status.busy": "2024-07-14T17:19:59.799643Z",
          "iopub.execute_input": "2024-07-14T17:19:59.800415Z",
          "iopub.status.idle": "2024-07-14T17:19:59.81239Z",
          "shell.execute_reply.started": "2024-07-14T17:19:59.800392Z",
          "shell.execute_reply": "2024-07-14T17:19:59.811556Z"
        },
        "trusted": true,
        "id": "hwrhfze3Eg40"
      },
      "execution_count": 34,
      "outputs": []
    },
    {
      "cell_type": "code",
      "source": [
        "model = SimpleNLPModel(vocab_size, embed_size, num_classes).to(device)\n",
        "criterion = nn.CrossEntropyLoss()\n",
        "optimizer = optim.Adam(model.parameters(), lr=0.01)"
      ],
      "metadata": {
        "execution": {
          "iopub.status.busy": "2024-07-14T17:19:59.813579Z",
          "iopub.execute_input": "2024-07-14T17:19:59.813885Z",
          "iopub.status.idle": "2024-07-14T17:20:01.27305Z",
          "shell.execute_reply.started": "2024-07-14T17:19:59.813861Z",
          "shell.execute_reply": "2024-07-14T17:20:01.272173Z"
        },
        "trusted": true,
        "id": "LyowuW_mEg41"
      },
      "execution_count": 35,
      "outputs": []
    },
    {
      "cell_type": "code",
      "source": [
        "train(model, optimizer, criterion, num_epochs=20)"
      ],
      "metadata": {
        "execution": {
          "iopub.status.busy": "2024-07-14T17:20:01.274224Z",
          "iopub.execute_input": "2024-07-14T17:20:01.274679Z",
          "iopub.status.idle": "2024-07-14T17:35:07.309943Z",
          "shell.execute_reply.started": "2024-07-14T17:20:01.274653Z",
          "shell.execute_reply": "2024-07-14T17:35:07.308936Z"
        },
        "trusted": true,
        "colab": {
          "base_uri": "https://localhost:8080/"
        },
        "id": "GV81QDlHEg41",
        "outputId": "8bc73c63-6051-4a7c-99aa-2ab30121e4f8"
      },
      "execution_count": 36,
      "outputs": [
        {
          "output_type": "stream",
          "name": "stdout",
          "text": [
            "Epoch 1/20, Loss: 0.5472732186317444, Accuracy: 80.09%\n",
            "Epoch 2/20, Loss: 0.0001699779968475923, Accuracy: 86.10%\n",
            "Epoch 3/20, Loss: 0.1820579171180725, Accuracy: 88.25%\n",
            "Epoch 4/20, Loss: 0.32859697937965393, Accuracy: 89.61%\n",
            "Epoch 5/20, Loss: 0.5603769421577454, Accuracy: 90.20%\n",
            "Epoch 6/20, Loss: 0.001791778369806707, Accuracy: 90.87%\n",
            "Epoch 7/20, Loss: 0.3024788200855255, Accuracy: 91.25%\n",
            "Epoch 8/20, Loss: 0.19920063018798828, Accuracy: 91.48%\n",
            "Epoch 9/20, Loss: 0.14289666712284088, Accuracy: 91.67%\n",
            "Epoch 10/20, Loss: 0.0, Accuracy: 91.90%\n",
            "Epoch 11/20, Loss: 6.818538531661034e-05, Accuracy: 92.04%\n",
            "Epoch 12/20, Loss: 0.0, Accuracy: 92.29%\n",
            "Epoch 13/20, Loss: 0.20031355321407318, Accuracy: 92.31%\n",
            "Epoch 14/20, Loss: 0.0022922686766833067, Accuracy: 92.48%\n",
            "Epoch 15/20, Loss: 8.237022848334163e-05, Accuracy: 92.66%\n",
            "Epoch 16/20, Loss: 2.145764938177308e-06, Accuracy: 92.59%\n",
            "Epoch 17/20, Loss: 0.1887345165014267, Accuracy: 92.72%\n",
            "Epoch 18/20, Loss: 2.145764938177308e-06, Accuracy: 92.85%\n",
            "Epoch 19/20, Loss: 0.0001984637783607468, Accuracy: 92.80%\n",
            "Epoch 20/20, Loss: 0.0060590156354010105, Accuracy: 92.92%\n"
          ]
        }
      ]
    },
    {
      "cell_type": "code",
      "source": [
        "test(model)"
      ],
      "metadata": {
        "execution": {
          "iopub.status.busy": "2024-07-14T17:35:07.311516Z",
          "iopub.execute_input": "2024-07-14T17:35:07.312362Z",
          "iopub.status.idle": "2024-07-14T17:35:10.388024Z",
          "shell.execute_reply.started": "2024-07-14T17:35:07.312322Z",
          "shell.execute_reply": "2024-07-14T17:35:10.386975Z"
        },
        "trusted": true,
        "colab": {
          "base_uri": "https://localhost:8080/"
        },
        "id": "XunDdkmxEg41",
        "outputId": "d060802e-21f3-41f7-ff93-ada5febb7ca5"
      },
      "execution_count": 37,
      "outputs": [
        {
          "output_type": "stream",
          "name": "stdout",
          "text": [
            "Loss: 2.3841855067985307e-07, Accuracy: 75.08%\n"
          ]
        }
      ]
    },
    {
      "cell_type": "markdown",
      "source": [
        "### Model 2"
      ],
      "metadata": {
        "id": "RkN5pHeaEg41"
      }
    },
    {
      "cell_type": "code",
      "source": [
        "\n",
        "class LSTMModel(nn.Module):\n",
        "    def __init__(self, vocab_size, embed_size, num_classes, hidden_size, num_layers, dropout):\n",
        "        super(LSTMModel, self).__init__()\n",
        "        self.embedding = nn.Embedding(vocab_size, embed_size)\n",
        "        self.lstm = nn.LSTM(embed_size, hidden_size, num_layers, dropout=dropout, batch_first=True)\n",
        "        self.fc = nn.Linear(hidden_size, num_classes)\n",
        "        self.dropout = nn.Dropout(dropout)\n",
        "\n",
        "    def forward(self, x):\n",
        "        embedded = self.embedding(x)\n",
        "        lstm_out, _ = self.lstm(embedded)\n",
        "        lstm_out = self.dropout(lstm_out)\n",
        "        lstm_out = torch.mean(lstm_out, dim=1)\n",
        "        output = self.fc(lstm_out)\n",
        "\n",
        "        return output"
      ],
      "metadata": {
        "execution": {
          "iopub.status.busy": "2024-07-14T17:35:10.389452Z",
          "iopub.execute_input": "2024-07-14T17:35:10.389942Z",
          "iopub.status.idle": "2024-07-14T17:35:10.397828Z",
          "shell.execute_reply.started": "2024-07-14T17:35:10.389834Z",
          "shell.execute_reply": "2024-07-14T17:35:10.396769Z"
        },
        "trusted": true,
        "id": "Iyiv7nl9Eg41"
      },
      "execution_count": 38,
      "outputs": []
    },
    {
      "cell_type": "code",
      "source": [
        "vocab_size = len(vocab) + 1\n",
        "embed_size = 100\n",
        "num_classes = training_data[\"sentiment\"].nunique()\n",
        "hidden_size = 128\n",
        "num_layers = 3\n",
        "dropout = 0.5"
      ],
      "metadata": {
        "execution": {
          "iopub.status.busy": "2024-07-14T17:35:10.399277Z",
          "iopub.execute_input": "2024-07-14T17:35:10.399646Z",
          "iopub.status.idle": "2024-07-14T17:35:10.41469Z",
          "shell.execute_reply.started": "2024-07-14T17:35:10.399619Z",
          "shell.execute_reply": "2024-07-14T17:35:10.413777Z"
        },
        "trusted": true,
        "id": "_InTDkK0Eg42"
      },
      "execution_count": 39,
      "outputs": []
    },
    {
      "cell_type": "code",
      "source": [
        "lstm_model = LSTMModel(vocab_size, embed_size, num_classes, hidden_size, num_layers, dropout).to(device)\n",
        "criterion = nn.CrossEntropyLoss()\n",
        "optimizer = optim.Adam(lstm_model.parameters(), lr=0.001)"
      ],
      "metadata": {
        "execution": {
          "iopub.status.busy": "2024-07-14T17:35:10.415873Z",
          "iopub.execute_input": "2024-07-14T17:35:10.416193Z",
          "iopub.status.idle": "2024-07-14T17:35:10.501265Z",
          "shell.execute_reply.started": "2024-07-14T17:35:10.416167Z",
          "shell.execute_reply": "2024-07-14T17:35:10.500236Z"
        },
        "trusted": true,
        "id": "c9vs9qDaEg42"
      },
      "execution_count": 40,
      "outputs": []
    },
    {
      "cell_type": "code",
      "source": [
        "train(lstm_model, optimizer, criterion, num_epochs=20)"
      ],
      "metadata": {
        "execution": {
          "iopub.status.busy": "2024-07-14T17:35:10.502366Z",
          "iopub.execute_input": "2024-07-14T17:35:10.502648Z",
          "iopub.status.idle": "2024-07-14T18:18:15.849068Z",
          "shell.execute_reply.started": "2024-07-14T17:35:10.502623Z",
          "shell.execute_reply": "2024-07-14T18:18:15.848059Z"
        },
        "trusted": true,
        "colab": {
          "base_uri": "https://localhost:8080/"
        },
        "id": "XNQzGMtJEg42",
        "outputId": "9108c560-4217-4c64-92c1-94fd53d77178"
      },
      "execution_count": 41,
      "outputs": [
        {
          "output_type": "stream",
          "name": "stdout",
          "text": [
            "Epoch 1/20, Loss: 0.05874546617269516, Accuracy: 77.25%\n",
            "Epoch 2/20, Loss: 0.208703875541687, Accuracy: 90.01%\n",
            "Epoch 3/20, Loss: 5.376194530981593e-05, Accuracy: 94.68%\n",
            "Epoch 4/20, Loss: 3.361645576660521e-05, Accuracy: 96.34%\n",
            "Epoch 5/20, Loss: 4.851700214203447e-05, Accuracy: 97.12%\n",
            "Epoch 6/20, Loss: 2.8609820219571702e-05, Accuracy: 97.52%\n",
            "Epoch 7/20, Loss: 8.308542601298541e-05, Accuracy: 97.71%\n",
            "Epoch 8/20, Loss: 1.156323378381785e-05, Accuracy: 97.91%\n",
            "Epoch 9/20, Loss: 0.0051362705416977406, Accuracy: 98.03%\n",
            "Epoch 10/20, Loss: 7.271740287251305e-06, Accuracy: 98.13%\n",
            "Epoch 11/20, Loss: 4.887569048150908e-06, Accuracy: 98.19%\n",
            "Epoch 12/20, Loss: 0.06609416007995605, Accuracy: 98.24%\n",
            "Epoch 13/20, Loss: 0.052204228937625885, Accuracy: 98.24%\n",
            "Epoch 14/20, Loss: 2.8609820219571702e-05, Accuracy: 98.30%\n",
            "Epoch 15/20, Loss: 6.19869097135961e-05, Accuracy: 98.32%\n",
            "Epoch 16/20, Loss: 9.417489309271332e-06, Accuracy: 98.37%\n",
            "Epoch 17/20, Loss: 7.629365427419543e-06, Accuracy: 98.38%\n",
            "Epoch 18/20, Loss: 3.576278118089249e-07, Accuracy: 98.41%\n",
            "Epoch 19/20, Loss: 0.000176652567461133, Accuracy: 98.38%\n",
            "Epoch 20/20, Loss: 0.1316681206226349, Accuracy: 98.41%\n"
          ]
        }
      ]
    },
    {
      "cell_type": "code",
      "source": [
        "test(lstm_model)"
      ],
      "metadata": {
        "execution": {
          "iopub.status.busy": "2024-07-14T18:18:15.850258Z",
          "iopub.execute_input": "2024-07-14T18:18:15.850559Z",
          "iopub.status.idle": "2024-07-14T18:18:29.956776Z",
          "shell.execute_reply.started": "2024-07-14T18:18:15.850533Z",
          "shell.execute_reply": "2024-07-14T18:18:29.955616Z"
        },
        "trusted": true,
        "colab": {
          "base_uri": "https://localhost:8080/"
        },
        "id": "KsNwRLtVEg42",
        "outputId": "d40499f0-7d64-4834-fddd-065177fb19ee"
      },
      "execution_count": 42,
      "outputs": [
        {
          "output_type": "stream",
          "name": "stdout",
          "text": [
            "Loss: 0.13158032298088074, Accuracy: 79.58%\n"
          ]
        }
      ]
    }
  ]
}