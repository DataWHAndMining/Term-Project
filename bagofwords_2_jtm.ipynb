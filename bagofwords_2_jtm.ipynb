{
  "nbformat": 4,
  "nbformat_minor": 0,
  "metadata": {
    "colab": {
      "private_outputs": true,
      "provenance": [],
      "machine_shape": "hm",
      "gpuType": "L4"
    },
    "kernelspec": {
      "name": "python3",
      "display_name": "Python 3"
    },
    "language_info": {
      "name": "python"
    },
    "accelerator": "GPU"
  },
  "cells": [
    {
      "cell_type": "code",
      "execution_count": null,
      "metadata": {
        "id": "XinbPmazAI_0"
      },
      "outputs": [],
      "source": [
        "import pandas as pd\n",
        "import re\n",
        "import nltk\n",
        "from nltk.corpus import stopwords\n",
        "from nltk.tokenize import word_tokenize\n",
        "from nltk.stem import WordNetLemmatizer\n",
        "from sklearn.feature_extraction.text import CountVectorizer\n",
        "from sklearn.model_selection import train_test_split\n",
        "from sklearn.linear_model import LogisticRegression\n",
        "from sklearn.preprocessing import StandardScaler\n",
        "from sklearn.metrics import accuracy_score, classification_report\n",
        "\n",
        "# Download necessary NLTK data files\n",
        "nltk.download('punkt')\n",
        "nltk.download('stopwords')\n",
        "nltk.download('wordnet')\n",
        "\n",
        "# Initialize lemmatizer and stop words\n",
        "lemmatizer = WordNetLemmatizer()\n",
        "stop_words = set(stopwords.words('english'))\n",
        "\n",
        "def preprocess(text):\n",
        "    # Handle non-string values, like NaN\n",
        "    if not isinstance(text, str):\n",
        "        return \"\"  # Or any suitable default value\n",
        "\n",
        "    # Remove special characters\n",
        "    text = re.sub(r'\\W', ' ', text)\n",
        "    # Convert to lowercase\n",
        "    text = text.lower()\n",
        "    # Tokenize\n",
        "    tokens = word_tokenize(text)\n",
        "    # Remove stop words and lemmatize\n",
        "    tokens = [lemmatizer.lemmatize(word) for word in tokens if word not in stop_words]\n",
        "    return ' '.join(tokens)\n",
        "\n",
        "df = pd.read_csv('/content/Twitter_Data.csv')\n",
        "df = df.dropna()\n",
        "\n",
        "# Split the data into training and validation sets\n",
        "training_data, validation_data = train_test_split(df, test_size=0.2, random_state=71)\n",
        "\n",
        "columns = [\"content\", \"sentiment\"]\n",
        "training_data.columns = columns\n",
        "validation_data.columns = columns\n",
        "\n",
        "# Preprocess the text data for both training and validation sets\n",
        "training_data['processed_text'] = training_data['content'].apply(preprocess)\n",
        "validation_data['processed_text'] = validation_data['content'].apply(preprocess)\n",
        "\n",
        "# Feature extraction using Bag of Words\n",
        "vectorizer = CountVectorizer(max_features=10000)\n",
        "X_train = vectorizer.fit_transform(training_data['processed_text'])\n",
        "X_val = vectorizer.transform(validation_data['processed_text'])\n",
        "\n",
        "# Scale the data (optional for Bag of Words, but can sometimes help)\n",
        "scaler = StandardScaler(with_mean=False)\n",
        "X_train = scaler.fit_transform(X_train)\n",
        "X_val = scaler.transform(X_val)\n",
        "\n",
        "# Extract sentiment labels\n",
        "y_train = training_data['sentiment']\n",
        "y_val = validation_data['sentiment']\n",
        "\n",
        "# Train the model\n",
        "model = LogisticRegression(solver='liblinear', max_iter=200)\n",
        "model.fit(X_train, y_train)\n",
        "\n",
        "# Make predictions on validation data\n",
        "y_pred = model.predict(X_val)\n",
        "\n",
        "# Evaluate the model\n",
        "print(\"Accuracy:\", accuracy_score(y_val, y_pred))\n",
        "print(classification_report(y_val, y_pred))"
      ]
    },
    {
      "cell_type": "code",
      "source": [],
      "metadata": {
        "id": "neVV-ngsklG7"
      },
      "execution_count": null,
      "outputs": []
    },
    {
      "cell_type": "code",
      "source": [],
      "metadata": {
        "id": "1bq-T48NkkJ9"
      },
      "execution_count": null,
      "outputs": []
    }
  ]
}