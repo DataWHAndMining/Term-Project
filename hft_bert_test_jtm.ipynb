{
  "nbformat": 4,
  "nbformat_minor": 0,
  "metadata": {
    "colab": {
      "private_outputs": true,
      "provenance": [],
      "machine_shape": "hm",
      "gpuType": "L4"
    },
    "kernelspec": {
      "name": "python3",
      "display_name": "Python 3"
    },
    "language_info": {
      "name": "python"
    },
    "accelerator": "GPU"
  },
  "cells": [
    {
      "cell_type": "code",
      "execution_count": null,
      "metadata": {
        "id": "SGwLipG2qBjC"
      },
      "outputs": [],
      "source": [
        "from transformers import AutoTokenizer, AutoModelForSequenceClassification, pipeline\n",
        "\n",
        "# Specify the directory where the model was saved\n",
        "model_directory = \"/content/drive/MyDrive/saved_model\"\n",
        "\n",
        "# Load the fine-tuned model and tokenizer\n",
        "loaded_model = AutoModelForSequenceClassification.from_pretrained(model_directory)\n",
        "loaded_tokenizer = AutoTokenizer.from_pretrained(model_directory)\n",
        "\n",
        "# Create a pipeline for sequence classification\n",
        "classifier = pipeline(\"text-classification\", model=loaded_model, tokenizer=loaded_tokenizer, return_all_scores=False, device=0)\n"
      ]
    },
    {
      "cell_type": "code",
      "source": [
        "import pandas as pd\n",
        "from sklearn.model_selection import train_test_split\n",
        "from sklearn.metrics import accuracy_score\n",
        "\n",
        "# Load the dataset\n",
        "twitter_data = pd.read_csv('Twitter_Data.csv')\n",
        "\n",
        "# Remove rows with missing values\n",
        "twitter_data.dropna(subset=['clean_text'], inplace=True)\n",
        "twitter_data.dropna(subset=['category'], inplace=True)\n",
        "\n",
        "# Split the data into training and testing sets\n",
        "train_data, test_data = train_test_split(twitter_data, test_size=0.1, random_state=43)\n",
        "\n",
        "# Test the pipeline on a subset of the dataset\n",
        "test_texts = test_data['clean_text'].tolist()\n",
        "test_labels = test_data['category'].tolist()\n",
        "\n",
        "# Predict labels for the test set\n",
        "predictions = classifier(test_texts)\n",
        "\n",
        "# Extract predicted labels\n",
        "predicted_labels = [pred['label'] for pred in predictions]\n",
        "\n",
        "# Convert predicted labels to numerical values\n",
        "_predicted_labels = [1.0 if label == 'LABEL_2' else (0.0 if label == 'LABEL_1' else -1.0) for label in predicted_labels]\n",
        "\n",
        "# Evaluate the performance\n",
        "accuracy = accuracy_score(test_labels, _predicted_labels)\n",
        "print(f\"Accuracy on the test set: {accuracy}\")"
      ],
      "metadata": {
        "id": "B3bySr-uq_S8"
      },
      "execution_count": null,
      "outputs": []
    }
  ]
}